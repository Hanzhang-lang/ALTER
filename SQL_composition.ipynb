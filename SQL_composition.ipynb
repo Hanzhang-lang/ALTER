{
 "cells": [
  {
   "cell_type": "markdown",
   "metadata": {},
   "source": [
    "## SQL composition\n",
    "\n",
    "Logic:\n",
    "Transform the input to the grammarly correct and executable SQL\n",
    "\n",
    "- 1. RULE based\n",
    "- 2. LLM based \n",
    "\n",
    "```\n",
    "\n",
    "kanji<DELETE>, name<KEEP>, builder<GROUP BY>, laid down<DELETE>, launched<DELETE>, completed<DELETE>\n",
    "\n",
    "```\n",
    "\n",
    "TODO: where部分如何操作"
   ]
  },
  {
   "cell_type": "code",
   "execution_count": 7,
   "metadata": {},
   "outputs": [
    {
     "data": {
      "text/plain": [
       "'04-02_06-08-10'"
      ]
     },
     "execution_count": 7,
     "metadata": {},
     "output_type": "execute_result"
    }
   ],
   "source": [
    "import random \n",
    "import string\n",
    "import datetime\n",
    "random.choices(string.ascii_uppercase + string.ascii_lowercase + string.digits, k=20)\n",
    "datetime.datetime.now().strftime('%m-%d_%H-%M-%S')"
   ]
  },
  {
   "cell_type": "code",
   "execution_count": 9,
   "metadata": {},
   "outputs": [
    {
     "data": {
      "text/plain": [
       "<SELECT 'SELECT a', ()>"
      ]
     },
     "execution_count": 9,
     "metadata": {},
     "output_type": "execute_result"
    }
   ],
   "source": [
    "from sqlbuilder.query import SELECT, C, T\n",
    "from sqlbuilder.dummy import dummy_connection, dummy_context\n",
    "str(SELECT(C.column_name, C.another_column, 123, 'abc').FROM(T.table_name)._as_sql(dummy_connection, dummy_context))\n",
    "a='test'\n"
   ]
  },
  {
   "cell_type": "code",
   "execution_count": 11,
   "metadata": {},
   "outputs": [
    {
     "name": "stdout",
     "output_type": "stream",
     "text": [
      "round<KEEP>\n",
      "round KEEP\n",
      " clubs remaining<KEEP>\n",
      " clubs remaining KEEP\n",
      " clubs involved<KEEP>\n",
      " clubs involved KEEP\n",
      " winners from previous round<KEEP>\n",
      " winners from previous round KEEP\n",
      " new entries this round<DELETE>\n",
      " new entries this round DELETE\n",
      " leagues entering at this round<KEEP>\n",
      " leagues entering at this round KEEP\n"
     ]
    }
   ],
   "source": [
    "import re\n",
    "test_sample = 'round<KEEP> clubs remaining<KEEP> clubs involved<KEEP> winners from previous round<KEEP> new entries this round<DELETE> leagues entering at this round<KEEP>'\n",
    "matches = re.finditer(r'([^<]*)<([^\\s>]*)>', test_sample)\n",
    "for match in matches:\n",
    "    print(match.group(0))\n",
    "    # print(match.group[0])\n",
    "    print(match.group(1), match.group(2))"
   ]
  },
  {
   "cell_type": "code",
   "execution_count": 19,
   "metadata": {},
   "outputs": [
    {
     "name": "stdout",
     "output_type": "stream",
     "text": [
      "SELECT name builder\n",
      "GROUP BY builder\n"
     ]
    }
   ],
   "source": [
    "import re\n",
    "import sqlparse\n",
    "def format_sql(output:str):\n",
    "    \"\"\"\n",
    "    Format subtable output into SQL\n",
    "    \"\"\"\n",
    "    items = output.split(',')\n",
    "    AGG = ['COUNT', 'AVG', 'SUM', 'MAX', 'MIN', 'KEEP']\n",
    "    complex = ['GROUP BY', 'ORDER BY']\n",
    "    select_content = []\n",
    "    complex_content = []\n",
    "    for text in items:\n",
    "        match = re.search(r'(\\w+)\\s*<([^>]*)>', text)\n",
    "        item = match.group(1).strip()\n",
    "        dml = match.group(2).strip()\n",
    "        if dml in AGG:\n",
    "            if dml == 'KEEP':\n",
    "                select_content.append(f'{item}')\n",
    "            else:\n",
    "                select_content.append(dml + f'({item})')\n",
    "        if dml in complex:\n",
    "            # if dml == 'GROUP BY':\n",
    "            #     complex_content.append(dml + f' {item}')\n",
    "            #     select_content.append(f'{item}')\n",
    "            complex_content.append(dml + f' {item}')\n",
    "            select_content.append(f'{item}')\n",
    "    return sqlparse.format('SELECT ' + ' '.join(select_content) + ' '+' '.join(complex_content), keyword_case='upper', reindent=True)\n",
    "\n",
    "            \n",
    "    "
   ]
  },
  {
   "cell_type": "code",
   "execution_count": 4,
   "metadata": {},
   "outputs": [
    {
     "data": {
      "text/plain": [
       "'SELECT name builder\\nGROUP BY builder'"
      ]
     },
     "execution_count": 4,
     "metadata": {},
     "output_type": "execute_result"
    }
   ],
   "source": [
    "manager.format_sql(test_sample)"
   ]
  },
  {
   "cell_type": "code",
   "execution_count": 8,
   "metadata": {},
   "outputs": [],
   "source": [
    "from sqlalchemy import create_engine \n",
    "from sqlalchemy.orm import Session,sessionmaker\n",
    "engine = create_engine('sqlite:///db/sqlite/tabfact.db', echo=True)\n",
    "session = Session(engine)"
   ]
  },
  {
   "cell_type": "code",
   "execution_count": 19,
   "metadata": {},
   "outputs": [
    {
     "name": "stdout",
     "output_type": "stream",
     "text": [
      "[<DML 'select' at 0x7FAB15075240>, <Whitespace ' ' at 0x7FAB15074C40>, <Wildcard '*' at 0x7FAB15074D00>, <Whitespace ' ' at 0x7FAB15074F40>, <Keyword 'from' at 0x7FAB15074EE0>, <Whitespace ' ' at 0x7FAB15074160>, <Identifier 'DF' at 0x7FAB14CDCCF0>, <Punctuation ';' at 0x7FAB150751E0>]\n"
     ]
    }
   ],
   "source": [
    "for i in sqlparse.parse('select * from DF;'):\n",
    "    print(i.tokens)"
   ]
  },
  {
   "cell_type": "code",
   "execution_count": 2,
   "metadata": {},
   "outputs": [],
   "source": [
    "import sqlparse\n",
    "from typing import List, Any\n",
    "from sqlalchemy import text\n",
    "def __sql_parse(sql):\n",
    "        sql = sql.strip()\n",
    "        parsed = sqlparse.parse(sql)[0]\n",
    "        sql_type = parsed.get_type()\n",
    "\n",
    "        table_name = parsed.get_name()\n",
    "\n",
    "        first_token = parsed.token_first(skip_ws=True, skip_cm=False)\n",
    "        ttype = first_token.ttype\n",
    "        print(\n",
    "            f\"SQL:{sql}, ttype:{ttype}, sql_type:{sql_type}, table:{table_name}\"\n",
    "        )\n",
    "        return parsed, ttype, sql_type, table_name \n",
    "    \n",
    "def _query(query: str, session, fetch: str = \"all\"):\n",
    "        \"\"\"Run a SQL query and return the results as a list of tuples.\n",
    "\n",
    "        Args:\n",
    "            query (str): SQL query to run\n",
    "            fetch (str): fetch type\n",
    "        \"\"\"\n",
    "        result: List[Any] = []\n",
    "\n",
    "        print(f\"Query[{query}]\")\n",
    "        if not query:\n",
    "            return result\n",
    "        cursor = session.execute(text(query))\n",
    "        if cursor.returns_rows:\n",
    "            if fetch == \"all\":\n",
    "                result = cursor.fetchall()\n",
    "            elif fetch == \"one\":\n",
    "                result = [cursor.fetchone()]\n",
    "            else:\n",
    "                raise ValueError(\"Fetch parameter must be either 'one' or 'all'\")\n",
    "            field_names = tuple(i[0:] for i in cursor.keys())\n",
    "\n",
    "            result.insert(0, field_names)\n",
    "            return result\n",
    "        \n",
    "def get_simple_fields(self, table_name):\n",
    "        \"\"\"Get column fields about specified table.\"\"\"\n",
    "        return _query(f\"SHOW COLUMNS FROM {table_name}\")\n",
    "    \n",
    "def run(command: str, session, fetch: str = \"all\") -> List:\n",
    "    \"\"\"Execute a SQL command and return a string representing the results.\"\"\"\n",
    "    if not command or len(command) < 0:\n",
    "        return []\n",
    "    parsed, ttype, sql_type, table_name = __sql_parse(command)\n",
    "    if ttype == sqlparse.tokens.DML:\n",
    "        if sql_type == \"SELECT\":\n",
    "            return _query(command, session, fetch)\n",
    "        else:\n",
    "            return get_simple_fields(table_name)\n",
    "        \n",
    "        \n"
   ]
  },
  {
   "cell_type": "code",
   "execution_count": 2,
   "metadata": {},
   "outputs": [
    {
     "name": "stdout",
     "output_type": "stream",
     "text": [
      "22\n"
     ]
    }
   ],
   "source": [
    "preds = []\n",
    "import json\n",
    "with open('./result/data/tabfact_test_04-07_08-05-52.json', 'r') as f:\n",
    "    lines = f.readlines()\n",
    "    for l in lines:\n",
    "        preds.append(json.loads(l)['pred'])\n",
    "    print(len(preds))"
   ]
  },
  {
   "cell_type": "markdown",
   "metadata": {},
   "source": [
    "## SQL执行"
   ]
  },
  {
   "cell_type": "code",
   "execution_count": null,
   "metadata": {},
   "outputs": [],
   "source": []
  },
  {
   "cell_type": "markdown",
   "metadata": {},
   "source": [
    "### TEST SQL_Manager"
   ]
  },
  {
   "cell_type": "code",
   "execution_count": 1,
   "metadata": {},
   "outputs": [],
   "source": [
    "from executor import SQLManager\n",
    "from sqlalchemy import create_engine\n",
    "engine = create_engine('sqlite:///db/sqlite/tabfact.db', echo=True)\n",
    "manager = SQLManager(engine=engine)"
   ]
  }
 ],
 "metadata": {
  "kernelspec": {
   "display_name": "sqlboy",
   "language": "python",
   "name": "python3"
  },
  "language_info": {
   "codemirror_mode": {
    "name": "ipython",
    "version": 3
   },
   "file_extension": ".py",
   "mimetype": "text/x-python",
   "name": "python",
   "nbconvert_exporter": "python",
   "pygments_lexer": "ipython3",
   "version": "3.10.12"
  }
 },
 "nbformat": 4,
 "nbformat_minor": 2
}
