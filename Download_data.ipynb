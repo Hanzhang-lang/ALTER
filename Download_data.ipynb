{
 "cells": [
  {
   "cell_type": "code",
   "execution_count": 3,
   "id": "d2d3d70b",
   "metadata": {},
   "outputs": [
    {
     "data": {
      "text/plain": [
       "{'SQL': \"SELECT MIN(points) FROM DF WHERE rider = 'roger dutton / tony wright';\",\n",
       " 'table': '<table>\\n<caption>1972 isle of man tt</caption>\\n<thead>\\n<tr><th>  MIN(points)</th></tr>\\n</thead>\\n<tbody>\\n<tr><td>3            </td></tr>\\n</tbody>\\n</table>',\n",
       " 'claim': '2 be the fewest point that roger dutton / tony wright receive',\n",
       " 'thought': 'Based on the SQL query provided, the minimum number of points that Roger Dutton / Tony Wright received in the 1972 Isle of Man TT event was 3. Therefore, the claim that 2 is the fewest points they received is false. The output should be 0.'}"
      ]
     },
     "execution_count": 3,
     "metadata": {},
     "output_type": "execute_result"
    }
   ],
   "source": [
    "sqls = [\"SELECT MIN(points) FROM DF WHERE rider = 'roger dutton / tony wright';\"]\n",
    "thoughts = [\"Based on the SQL query provided, the minimum number of points that Roger Dutton / Tony Wright received in the 1972 Isle of Man TT event was 3. Therefore, the claim that 2 is the fewest points they received is false. The output should be 0.\"]\n",
    "tables = [\"<table>\\n<caption>1972 isle of man tt</caption>\\n<thead>\\n<tr><th>  MIN(points)</th></tr>\\n</thead>\\n<tbody>\\n<tr><td>3            </td></tr>\\n</tbody>\\n</table>\"]\n",
    "claims = [\"2 be the fewest point that roger dutton / tony wright receive\"]\n",
    "dict(zip([\"SQL\", \"table\", \"claim\", \"thought\"], [sqls[0], tables[0], claims[0], thoughts[0]]))"
   ]
  },
  {
   "cell_type": "code",
   "execution_count": 19,
   "id": "c1aebf6d-8a64-433c-84a0-d38e50c6f30a",
   "metadata": {},
   "outputs": [],
   "source": [
    "# transform data into sqlite database\n",
    "from data_loader import TableLoader\n",
    "\n",
    "table_loader = TableLoader(table_name='tabfact', split='validation', use_sample=True, small_test=False)\n",
    "\n",
    "\n"
   ]
  },
  {
   "cell_type": "code",
   "execution_count": 2,
   "id": "465bf4dc-f2af-4456-b693-961ed623fc7b",
   "metadata": {},
   "outputs": [],
   "source": [
    "from datasets import load_dataset\n",
    "totto = load_dataset('./data_loader/totto_zh.py', verification_mode=\"no_checks\", cache_dir=\"/media/disk2/datasets\")\n",
    "tabfact = load_dataset('./data_loader/tabfact.py', verification_mode=\"no_checks\", cache_dir=\"/media/disk2/datasets\")"
   ]
  },
  {
   "cell_type": "code",
   "execution_count": 34,
   "id": "db1b61cb",
   "metadata": {},
   "outputs": [
    {
     "name": "stderr",
     "output_type": "stream",
     "text": [
      "Filter: 100%|██████████| 1000/1000 [00:00<00:00, 4669.79 examples/s]\n"
     ]
    }
   ],
   "source": [
    "filtered_dataset = table_loader.dataset.filter(lambda example: example['small_test'])"
   ]
  },
  {
   "cell_type": "code",
   "execution_count": 35,
   "id": "a91cae14",
   "metadata": {},
   "outputs": [
    {
     "data": {
      "text/plain": [
       "Dataset({\n",
       "    features: ['id', 'table', 'statement', 'label', 'hardness', 'small_test'],\n",
       "    num_rows: 147\n",
       "})"
      ]
     },
     "execution_count": 35,
     "metadata": {},
     "output_type": "execute_result"
    }
   ],
   "source": [
    "filtered_dataset"
   ]
  },
  {
   "cell_type": "code",
   "execution_count": 13,
   "id": "d8d9351f",
   "metadata": {},
   "outputs": [
    {
     "data": {
      "text/plain": [
       "47"
      ]
     },
     "execution_count": 13,
     "metadata": {},
     "output_type": "execute_result"
    }
   ],
   "source": [
    "len(table_loader.dataset)\n"
   ]
  },
  {
   "cell_type": "code",
   "execution_count": 18,
   "id": "99838a28",
   "metadata": {},
   "outputs": [
    {
     "data": {
      "text/plain": [
       "{'id': 996,\n",
       " 'table': {'id': '2-16369528-1.html.csv',\n",
       "  'header': ['year',\n",
       "   'best teenage / young adult',\n",
       "   \"reader 's vote\",\n",
       "   'best non - fiction',\n",
       "   'lifetime achievement'],\n",
       "  'rows': [['1996', 'na', 'na', 'na', 'jon cleary'],\n",
       "   ['1997',\n",
       "    'na',\n",
       "    'na',\n",
       "    'how to write crime edited by marele day',\n",
       "    'alan yates (aka carter brown )'],\n",
       "   ['1998', 'na', 'na', 'na', 'na'],\n",
       "   ['1999', 'na', 'na', 'na', 'peter corris'],\n",
       "   ['2000', 'na', 'na', 'na', 'na'],\n",
       "   ['2001',\n",
       "    'na',\n",
       "    'bleeding hearts by lindy cameron',\n",
       "    'na',\n",
       "    'professor stephen knight'],\n",
       "   ['2002',\n",
       "    'blue murder by ken catran',\n",
       "    'apartment 255 by bunty avieson',\n",
       "    'na',\n",
       "    'patrick gallagher'],\n",
       "   ['2003', 'na', 'na', 'na', 'kerry greenwood'],\n",
       "   ['2004', 'na', 'na', 'na', 'bob bottom'],\n",
       "   ['2005', 'na', 'na', 'na', 'stuart coupe'],\n",
       "   ['2006', 'na', 'na', 'na', 'andrew rule and john silvester'],\n",
       "   ['2007', 'na', 'na', 'na', 'sandra harvey and lindsay simpson'],\n",
       "   ['2008', 'na', 'na', 'na', 'marele day'],\n",
       "   ['2009', 'na', 'na', 'na', 'shane maloney'],\n",
       "   ['2010', 'na', 'na', 'na', 'peter doyle'],\n",
       "   ['2011', 'na', 'na', 'na', 'na']],\n",
       "  'caption': 'ned kelly awards'},\n",
       " 'statement': 'after 2005 , the winner of the lifetime achievement award be andrew rule john silvester , sandra harvey lindsay simpson , marele day , shane maloney , and peter doyle',\n",
       " 'label': 1,\n",
       " 'hardness': 'simple',\n",
       " 'small_test': True}"
      ]
     },
     "execution_count": 18,
     "metadata": {},
     "output_type": "execute_result"
    }
   ],
   "source": [
    "test_sample = table_loader.dataset[2]\n",
    "test_sample"
   ]
  },
  {
   "cell_type": "markdown",
   "id": "0188aeba",
   "metadata": {},
   "source": [
    "### Data Augmentation"
   ]
  },
  {
   "cell_type": "code",
   "execution_count": null,
   "id": "8ddd7269",
   "metadata": {},
   "outputs": [],
   "source": [
    "#引入 schema(table measurement) statistical(numerical) enum string(char) date\n",
    "#引入 term explanation（table comment(RAG)）\n",
    "#引入 column summarization\n",
    "#是否需要search engine\n",
    "#table size, statistical features, header hierarchy\n"
   ]
  },
  {
   "cell_type": "code",
   "execution_count": 14,
   "id": "ab5734d3",
   "metadata": {},
   "outputs": [],
   "source": [
    "#schema \n",
    "from data_loader import TableFormat\n",
    "from langchain.prompts.prompt import PromptTemplate\n",
    "from langchain_core.messages import HumanMessage\n",
    "from langchain_openai import ChatOpenAI, OpenAI\n",
    "model = ChatOpenAI(model_name=\"gpt-3.5-turbo-0125\", openai_api_base=\"https://api.chatanywhere.tech/v1\", openai_api_key=\"sk-kxgtm71G6zwC44lglIF5CfiEVVzjjc39TOtppkNAwrVA2fUW\")\n",
    "formatter = TableFormat(format='none', data=test_sample, use_sampling=True)\n",
    "pre_instruction = PromptTemplate(input_variables=[\"table\"], template=\n",
    "\"\"\"\n",
    "Instruction: Given the following table, you will add Metadata about the columns in the table.\n",
    "Metadata includes:\n",
    "- Numerical: whether the column content is numeric type like int or float.\n",
    "- Char: whether the column content is a text or description.\n",
    "- Date: whether the column content is datetime.\n",
    "\n",
    "You need to output all the column names with metadata in angle brackets.\n",
    "Example: name<Char>, launched<Date>, count<Numerical>\n",
    "\n",
    "Table: {table}\n",
    "Output:\n",
    "\"\"\")\n",
    "# \n",
    "# output = model.invoke([HumanMessage(content=pre_instruction.format(table=formatter.format_html()))])"
   ]
  },
  {
   "cell_type": "code",
   "execution_count": 16,
   "id": "457207ba",
   "metadata": {},
   "outputs": [
    {
     "data": {
      "text/plain": [
       "{'completion_tokens': 1, 'prompt_tokens': 269, 'total_tokens': 270}"
      ]
     },
     "execution_count": 16,
     "metadata": {},
     "output_type": "execute_result"
    }
   ],
   "source": [
    "output.response_metadata['token_usage']"
   ]
  },
  {
   "cell_type": "code",
   "execution_count": 13,
   "id": "24ed8a72",
   "metadata": {},
   "outputs": [
    {
     "ename": "APIConnectionError",
     "evalue": "Connection error.",
     "output_type": "error",
     "traceback": [
      "\u001b[0;31m---------------------------------------------------------------------------\u001b[0m",
      "\u001b[0;31mConnectError\u001b[0m                              Traceback (most recent call last)",
      "File \u001b[0;32m~/.conda/envs/sqlboy/lib/python3.10/site-packages/httpx/_transports/default.py:69\u001b[0m, in \u001b[0;36mmap_httpcore_exceptions\u001b[0;34m()\u001b[0m\n\u001b[1;32m     68\u001b[0m \u001b[38;5;28;01mtry\u001b[39;00m:\n\u001b[0;32m---> 69\u001b[0m     \u001b[38;5;28;01myield\u001b[39;00m\n\u001b[1;32m     70\u001b[0m \u001b[38;5;28;01mexcept\u001b[39;00m \u001b[38;5;167;01mException\u001b[39;00m \u001b[38;5;28;01mas\u001b[39;00m exc:\n",
      "File \u001b[0;32m~/.conda/envs/sqlboy/lib/python3.10/site-packages/httpx/_transports/default.py:233\u001b[0m, in \u001b[0;36mHTTPTransport.handle_request\u001b[0;34m(self, request)\u001b[0m\n\u001b[1;32m    232\u001b[0m \u001b[38;5;28;01mwith\u001b[39;00m map_httpcore_exceptions():\n\u001b[0;32m--> 233\u001b[0m     resp \u001b[38;5;241m=\u001b[39m \u001b[38;5;28;43mself\u001b[39;49m\u001b[38;5;241;43m.\u001b[39;49m\u001b[43m_pool\u001b[49m\u001b[38;5;241;43m.\u001b[39;49m\u001b[43mhandle_request\u001b[49m\u001b[43m(\u001b[49m\u001b[43mreq\u001b[49m\u001b[43m)\u001b[49m\n\u001b[1;32m    235\u001b[0m \u001b[38;5;28;01massert\u001b[39;00m \u001b[38;5;28misinstance\u001b[39m(resp\u001b[38;5;241m.\u001b[39mstream, typing\u001b[38;5;241m.\u001b[39mIterable)\n",
      "File \u001b[0;32m~/.conda/envs/sqlboy/lib/python3.10/site-packages/httpcore/_sync/connection_pool.py:216\u001b[0m, in \u001b[0;36mConnectionPool.handle_request\u001b[0;34m(self, request)\u001b[0m\n\u001b[1;32m    215\u001b[0m     \u001b[38;5;28mself\u001b[39m\u001b[38;5;241m.\u001b[39m_close_connections(closing)\n\u001b[0;32m--> 216\u001b[0m     \u001b[38;5;28;01mraise\u001b[39;00m exc \u001b[38;5;28;01mfrom\u001b[39;00m \u001b[38;5;28;01mNone\u001b[39;00m\n\u001b[1;32m    218\u001b[0m \u001b[38;5;66;03m# Return the response. Note that in this case we still have to manage\u001b[39;00m\n\u001b[1;32m    219\u001b[0m \u001b[38;5;66;03m# the point at which the response is closed.\u001b[39;00m\n",
      "File \u001b[0;32m~/.conda/envs/sqlboy/lib/python3.10/site-packages/httpcore/_sync/connection_pool.py:196\u001b[0m, in \u001b[0;36mConnectionPool.handle_request\u001b[0;34m(self, request)\u001b[0m\n\u001b[1;32m    194\u001b[0m \u001b[38;5;28;01mtry\u001b[39;00m:\n\u001b[1;32m    195\u001b[0m     \u001b[38;5;66;03m# Send the request on the assigned connection.\u001b[39;00m\n\u001b[0;32m--> 196\u001b[0m     response \u001b[38;5;241m=\u001b[39m \u001b[43mconnection\u001b[49m\u001b[38;5;241;43m.\u001b[39;49m\u001b[43mhandle_request\u001b[49m\u001b[43m(\u001b[49m\n\u001b[1;32m    197\u001b[0m \u001b[43m        \u001b[49m\u001b[43mpool_request\u001b[49m\u001b[38;5;241;43m.\u001b[39;49m\u001b[43mrequest\u001b[49m\n\u001b[1;32m    198\u001b[0m \u001b[43m    \u001b[49m\u001b[43m)\u001b[49m\n\u001b[1;32m    199\u001b[0m \u001b[38;5;28;01mexcept\u001b[39;00m ConnectionNotAvailable:\n\u001b[1;32m    200\u001b[0m     \u001b[38;5;66;03m# In some cases a connection may initially be available to\u001b[39;00m\n\u001b[1;32m    201\u001b[0m     \u001b[38;5;66;03m# handle a request, but then become unavailable.\u001b[39;00m\n\u001b[1;32m    202\u001b[0m     \u001b[38;5;66;03m#\u001b[39;00m\n\u001b[1;32m    203\u001b[0m     \u001b[38;5;66;03m# In this case we clear the connection and try again.\u001b[39;00m\n",
      "File \u001b[0;32m~/.conda/envs/sqlboy/lib/python3.10/site-packages/httpcore/_sync/http_proxy.py:317\u001b[0m, in \u001b[0;36mTunnelHTTPConnection.handle_request\u001b[0;34m(self, request)\u001b[0m\n\u001b[1;32m    316\u001b[0m \u001b[38;5;28;01mwith\u001b[39;00m Trace(\u001b[38;5;124m\"\u001b[39m\u001b[38;5;124mstart_tls\u001b[39m\u001b[38;5;124m\"\u001b[39m, logger, request, kwargs) \u001b[38;5;28;01mas\u001b[39;00m trace:\n\u001b[0;32m--> 317\u001b[0m     stream \u001b[38;5;241m=\u001b[39m \u001b[43mstream\u001b[49m\u001b[38;5;241;43m.\u001b[39;49m\u001b[43mstart_tls\u001b[49m\u001b[43m(\u001b[49m\u001b[38;5;241;43m*\u001b[39;49m\u001b[38;5;241;43m*\u001b[39;49m\u001b[43mkwargs\u001b[49m\u001b[43m)\u001b[49m\n\u001b[1;32m    318\u001b[0m     trace\u001b[38;5;241m.\u001b[39mreturn_value \u001b[38;5;241m=\u001b[39m stream\n",
      "File \u001b[0;32m~/.conda/envs/sqlboy/lib/python3.10/site-packages/httpcore/_sync/http11.py:383\u001b[0m, in \u001b[0;36mHTTP11UpgradeStream.start_tls\u001b[0;34m(self, ssl_context, server_hostname, timeout)\u001b[0m\n\u001b[1;32m    377\u001b[0m \u001b[38;5;28;01mdef\u001b[39;00m \u001b[38;5;21mstart_tls\u001b[39m(\n\u001b[1;32m    378\u001b[0m     \u001b[38;5;28mself\u001b[39m,\n\u001b[1;32m    379\u001b[0m     ssl_context: ssl\u001b[38;5;241m.\u001b[39mSSLContext,\n\u001b[1;32m    380\u001b[0m     server_hostname: Optional[\u001b[38;5;28mstr\u001b[39m] \u001b[38;5;241m=\u001b[39m \u001b[38;5;28;01mNone\u001b[39;00m,\n\u001b[1;32m    381\u001b[0m     timeout: Optional[\u001b[38;5;28mfloat\u001b[39m] \u001b[38;5;241m=\u001b[39m \u001b[38;5;28;01mNone\u001b[39;00m,\n\u001b[1;32m    382\u001b[0m ) \u001b[38;5;241m-\u001b[39m\u001b[38;5;241m>\u001b[39m NetworkStream:\n\u001b[0;32m--> 383\u001b[0m     \u001b[38;5;28;01mreturn\u001b[39;00m \u001b[38;5;28;43mself\u001b[39;49m\u001b[38;5;241;43m.\u001b[39;49m\u001b[43m_stream\u001b[49m\u001b[38;5;241;43m.\u001b[39;49m\u001b[43mstart_tls\u001b[49m\u001b[43m(\u001b[49m\u001b[43mssl_context\u001b[49m\u001b[43m,\u001b[49m\u001b[43m \u001b[49m\u001b[43mserver_hostname\u001b[49m\u001b[43m,\u001b[49m\u001b[43m \u001b[49m\u001b[43mtimeout\u001b[49m\u001b[43m)\u001b[49m\n",
      "File \u001b[0;32m~/.conda/envs/sqlboy/lib/python3.10/site-packages/httpcore/_backends/sync.py:152\u001b[0m, in \u001b[0;36mSyncStream.start_tls\u001b[0;34m(self, ssl_context, server_hostname, timeout)\u001b[0m\n\u001b[1;32m    148\u001b[0m exc_map: ExceptionMapping \u001b[38;5;241m=\u001b[39m {\n\u001b[1;32m    149\u001b[0m     socket\u001b[38;5;241m.\u001b[39mtimeout: ConnectTimeout,\n\u001b[1;32m    150\u001b[0m     \u001b[38;5;167;01mOSError\u001b[39;00m: ConnectError,\n\u001b[1;32m    151\u001b[0m }\n\u001b[0;32m--> 152\u001b[0m \u001b[38;5;28;01mwith\u001b[39;00m map_exceptions(exc_map):\n\u001b[1;32m    153\u001b[0m     \u001b[38;5;28;01mtry\u001b[39;00m:\n",
      "File \u001b[0;32m~/.conda/envs/sqlboy/lib/python3.10/contextlib.py:153\u001b[0m, in \u001b[0;36m_GeneratorContextManager.__exit__\u001b[0;34m(self, typ, value, traceback)\u001b[0m\n\u001b[1;32m    152\u001b[0m \u001b[38;5;28;01mtry\u001b[39;00m:\n\u001b[0;32m--> 153\u001b[0m     \u001b[38;5;28;43mself\u001b[39;49m\u001b[38;5;241;43m.\u001b[39;49m\u001b[43mgen\u001b[49m\u001b[38;5;241;43m.\u001b[39;49m\u001b[43mthrow\u001b[49m\u001b[43m(\u001b[49m\u001b[43mtyp\u001b[49m\u001b[43m,\u001b[49m\u001b[43m \u001b[49m\u001b[43mvalue\u001b[49m\u001b[43m,\u001b[49m\u001b[43m \u001b[49m\u001b[43mtraceback\u001b[49m\u001b[43m)\u001b[49m\n\u001b[1;32m    154\u001b[0m \u001b[38;5;28;01mexcept\u001b[39;00m \u001b[38;5;167;01mStopIteration\u001b[39;00m \u001b[38;5;28;01mas\u001b[39;00m exc:\n\u001b[1;32m    155\u001b[0m     \u001b[38;5;66;03m# Suppress StopIteration *unless* it's the same exception that\u001b[39;00m\n\u001b[1;32m    156\u001b[0m     \u001b[38;5;66;03m# was passed to throw().  This prevents a StopIteration\u001b[39;00m\n\u001b[1;32m    157\u001b[0m     \u001b[38;5;66;03m# raised inside the \"with\" statement from being suppressed.\u001b[39;00m\n",
      "File \u001b[0;32m~/.conda/envs/sqlboy/lib/python3.10/site-packages/httpcore/_exceptions.py:14\u001b[0m, in \u001b[0;36mmap_exceptions\u001b[0;34m(map)\u001b[0m\n\u001b[1;32m     13\u001b[0m     \u001b[38;5;28;01mif\u001b[39;00m \u001b[38;5;28misinstance\u001b[39m(exc, from_exc):\n\u001b[0;32m---> 14\u001b[0m         \u001b[38;5;28;01mraise\u001b[39;00m to_exc(exc) \u001b[38;5;28;01mfrom\u001b[39;00m \u001b[38;5;21;01mexc\u001b[39;00m\n\u001b[1;32m     15\u001b[0m \u001b[38;5;28;01mraise\u001b[39;00m\n",
      "\u001b[0;31mConnectError\u001b[0m: [SSL: UNEXPECTED_EOF_WHILE_READING] EOF occurred in violation of protocol (_ssl.c:1007)",
      "\nThe above exception was the direct cause of the following exception:\n",
      "\u001b[0;31mConnectError\u001b[0m                              Traceback (most recent call last)",
      "File \u001b[0;32m~/.conda/envs/sqlboy/lib/python3.10/site-packages/openai/_base_client.py:926\u001b[0m, in \u001b[0;36mSyncAPIClient._request\u001b[0;34m(self, cast_to, options, remaining_retries, stream, stream_cls)\u001b[0m\n\u001b[1;32m    925\u001b[0m \u001b[38;5;28;01mtry\u001b[39;00m:\n\u001b[0;32m--> 926\u001b[0m     response \u001b[38;5;241m=\u001b[39m \u001b[38;5;28;43mself\u001b[39;49m\u001b[38;5;241;43m.\u001b[39;49m\u001b[43m_client\u001b[49m\u001b[38;5;241;43m.\u001b[39;49m\u001b[43msend\u001b[49m\u001b[43m(\u001b[49m\n\u001b[1;32m    927\u001b[0m \u001b[43m        \u001b[49m\u001b[43mrequest\u001b[49m\u001b[43m,\u001b[49m\n\u001b[1;32m    928\u001b[0m \u001b[43m        \u001b[49m\u001b[43mstream\u001b[49m\u001b[38;5;241;43m=\u001b[39;49m\u001b[43mstream\u001b[49m\u001b[43m \u001b[49m\u001b[38;5;129;43;01mor\u001b[39;49;00m\u001b[43m \u001b[49m\u001b[38;5;28;43mself\u001b[39;49m\u001b[38;5;241;43m.\u001b[39;49m\u001b[43m_should_stream_response_body\u001b[49m\u001b[43m(\u001b[49m\u001b[43mrequest\u001b[49m\u001b[38;5;241;43m=\u001b[39;49m\u001b[43mrequest\u001b[49m\u001b[43m)\u001b[49m\u001b[43m,\u001b[49m\n\u001b[1;32m    929\u001b[0m \u001b[43m        \u001b[49m\u001b[38;5;241;43m*\u001b[39;49m\u001b[38;5;241;43m*\u001b[39;49m\u001b[43mkwargs\u001b[49m\u001b[43m,\u001b[49m\n\u001b[1;32m    930\u001b[0m \u001b[43m    \u001b[49m\u001b[43m)\u001b[49m\n\u001b[1;32m    931\u001b[0m \u001b[38;5;28;01mexcept\u001b[39;00m httpx\u001b[38;5;241m.\u001b[39mTimeoutException \u001b[38;5;28;01mas\u001b[39;00m err:\n",
      "File \u001b[0;32m~/.conda/envs/sqlboy/lib/python3.10/site-packages/httpx/_client.py:914\u001b[0m, in \u001b[0;36mClient.send\u001b[0;34m(self, request, stream, auth, follow_redirects)\u001b[0m\n\u001b[1;32m    912\u001b[0m auth \u001b[38;5;241m=\u001b[39m \u001b[38;5;28mself\u001b[39m\u001b[38;5;241m.\u001b[39m_build_request_auth(request, auth)\n\u001b[0;32m--> 914\u001b[0m response \u001b[38;5;241m=\u001b[39m \u001b[38;5;28;43mself\u001b[39;49m\u001b[38;5;241;43m.\u001b[39;49m\u001b[43m_send_handling_auth\u001b[49m\u001b[43m(\u001b[49m\n\u001b[1;32m    915\u001b[0m \u001b[43m    \u001b[49m\u001b[43mrequest\u001b[49m\u001b[43m,\u001b[49m\n\u001b[1;32m    916\u001b[0m \u001b[43m    \u001b[49m\u001b[43mauth\u001b[49m\u001b[38;5;241;43m=\u001b[39;49m\u001b[43mauth\u001b[49m\u001b[43m,\u001b[49m\n\u001b[1;32m    917\u001b[0m \u001b[43m    \u001b[49m\u001b[43mfollow_redirects\u001b[49m\u001b[38;5;241;43m=\u001b[39;49m\u001b[43mfollow_redirects\u001b[49m\u001b[43m,\u001b[49m\n\u001b[1;32m    918\u001b[0m \u001b[43m    \u001b[49m\u001b[43mhistory\u001b[49m\u001b[38;5;241;43m=\u001b[39;49m\u001b[43m[\u001b[49m\u001b[43m]\u001b[49m\u001b[43m,\u001b[49m\n\u001b[1;32m    919\u001b[0m \u001b[43m\u001b[49m\u001b[43m)\u001b[49m\n\u001b[1;32m    920\u001b[0m \u001b[38;5;28;01mtry\u001b[39;00m:\n",
      "File \u001b[0;32m~/.conda/envs/sqlboy/lib/python3.10/site-packages/httpx/_client.py:942\u001b[0m, in \u001b[0;36mClient._send_handling_auth\u001b[0;34m(self, request, auth, follow_redirects, history)\u001b[0m\n\u001b[1;32m    941\u001b[0m \u001b[38;5;28;01mwhile\u001b[39;00m \u001b[38;5;28;01mTrue\u001b[39;00m:\n\u001b[0;32m--> 942\u001b[0m     response \u001b[38;5;241m=\u001b[39m \u001b[38;5;28;43mself\u001b[39;49m\u001b[38;5;241;43m.\u001b[39;49m\u001b[43m_send_handling_redirects\u001b[49m\u001b[43m(\u001b[49m\n\u001b[1;32m    943\u001b[0m \u001b[43m        \u001b[49m\u001b[43mrequest\u001b[49m\u001b[43m,\u001b[49m\n\u001b[1;32m    944\u001b[0m \u001b[43m        \u001b[49m\u001b[43mfollow_redirects\u001b[49m\u001b[38;5;241;43m=\u001b[39;49m\u001b[43mfollow_redirects\u001b[49m\u001b[43m,\u001b[49m\n\u001b[1;32m    945\u001b[0m \u001b[43m        \u001b[49m\u001b[43mhistory\u001b[49m\u001b[38;5;241;43m=\u001b[39;49m\u001b[43mhistory\u001b[49m\u001b[43m,\u001b[49m\n\u001b[1;32m    946\u001b[0m \u001b[43m    \u001b[49m\u001b[43m)\u001b[49m\n\u001b[1;32m    947\u001b[0m     \u001b[38;5;28;01mtry\u001b[39;00m:\n",
      "File \u001b[0;32m~/.conda/envs/sqlboy/lib/python3.10/site-packages/httpx/_client.py:979\u001b[0m, in \u001b[0;36mClient._send_handling_redirects\u001b[0;34m(self, request, follow_redirects, history)\u001b[0m\n\u001b[1;32m    977\u001b[0m     hook(request)\n\u001b[0;32m--> 979\u001b[0m response \u001b[38;5;241m=\u001b[39m \u001b[38;5;28;43mself\u001b[39;49m\u001b[38;5;241;43m.\u001b[39;49m\u001b[43m_send_single_request\u001b[49m\u001b[43m(\u001b[49m\u001b[43mrequest\u001b[49m\u001b[43m)\u001b[49m\n\u001b[1;32m    980\u001b[0m \u001b[38;5;28;01mtry\u001b[39;00m:\n",
      "File \u001b[0;32m~/.conda/envs/sqlboy/lib/python3.10/site-packages/httpx/_client.py:1015\u001b[0m, in \u001b[0;36mClient._send_single_request\u001b[0;34m(self, request)\u001b[0m\n\u001b[1;32m   1014\u001b[0m \u001b[38;5;28;01mwith\u001b[39;00m request_context(request\u001b[38;5;241m=\u001b[39mrequest):\n\u001b[0;32m-> 1015\u001b[0m     response \u001b[38;5;241m=\u001b[39m \u001b[43mtransport\u001b[49m\u001b[38;5;241;43m.\u001b[39;49m\u001b[43mhandle_request\u001b[49m\u001b[43m(\u001b[49m\u001b[43mrequest\u001b[49m\u001b[43m)\u001b[49m\n\u001b[1;32m   1017\u001b[0m \u001b[38;5;28;01massert\u001b[39;00m \u001b[38;5;28misinstance\u001b[39m(response\u001b[38;5;241m.\u001b[39mstream, SyncByteStream)\n",
      "File \u001b[0;32m~/.conda/envs/sqlboy/lib/python3.10/site-packages/httpx/_transports/default.py:232\u001b[0m, in \u001b[0;36mHTTPTransport.handle_request\u001b[0;34m(self, request)\u001b[0m\n\u001b[1;32m    220\u001b[0m req \u001b[38;5;241m=\u001b[39m httpcore\u001b[38;5;241m.\u001b[39mRequest(\n\u001b[1;32m    221\u001b[0m     method\u001b[38;5;241m=\u001b[39mrequest\u001b[38;5;241m.\u001b[39mmethod,\n\u001b[1;32m    222\u001b[0m     url\u001b[38;5;241m=\u001b[39mhttpcore\u001b[38;5;241m.\u001b[39mURL(\n\u001b[0;32m   (...)\u001b[0m\n\u001b[1;32m    230\u001b[0m     extensions\u001b[38;5;241m=\u001b[39mrequest\u001b[38;5;241m.\u001b[39mextensions,\n\u001b[1;32m    231\u001b[0m )\n\u001b[0;32m--> 232\u001b[0m \u001b[38;5;28;01mwith\u001b[39;00m map_httpcore_exceptions():\n\u001b[1;32m    233\u001b[0m     resp \u001b[38;5;241m=\u001b[39m \u001b[38;5;28mself\u001b[39m\u001b[38;5;241m.\u001b[39m_pool\u001b[38;5;241m.\u001b[39mhandle_request(req)\n",
      "File \u001b[0;32m~/.conda/envs/sqlboy/lib/python3.10/contextlib.py:153\u001b[0m, in \u001b[0;36m_GeneratorContextManager.__exit__\u001b[0;34m(self, typ, value, traceback)\u001b[0m\n\u001b[1;32m    152\u001b[0m \u001b[38;5;28;01mtry\u001b[39;00m:\n\u001b[0;32m--> 153\u001b[0m     \u001b[38;5;28;43mself\u001b[39;49m\u001b[38;5;241;43m.\u001b[39;49m\u001b[43mgen\u001b[49m\u001b[38;5;241;43m.\u001b[39;49m\u001b[43mthrow\u001b[49m\u001b[43m(\u001b[49m\u001b[43mtyp\u001b[49m\u001b[43m,\u001b[49m\u001b[43m \u001b[49m\u001b[43mvalue\u001b[49m\u001b[43m,\u001b[49m\u001b[43m \u001b[49m\u001b[43mtraceback\u001b[49m\u001b[43m)\u001b[49m\n\u001b[1;32m    154\u001b[0m \u001b[38;5;28;01mexcept\u001b[39;00m \u001b[38;5;167;01mStopIteration\u001b[39;00m \u001b[38;5;28;01mas\u001b[39;00m exc:\n\u001b[1;32m    155\u001b[0m     \u001b[38;5;66;03m# Suppress StopIteration *unless* it's the same exception that\u001b[39;00m\n\u001b[1;32m    156\u001b[0m     \u001b[38;5;66;03m# was passed to throw().  This prevents a StopIteration\u001b[39;00m\n\u001b[1;32m    157\u001b[0m     \u001b[38;5;66;03m# raised inside the \"with\" statement from being suppressed.\u001b[39;00m\n",
      "File \u001b[0;32m~/.conda/envs/sqlboy/lib/python3.10/site-packages/httpx/_transports/default.py:86\u001b[0m, in \u001b[0;36mmap_httpcore_exceptions\u001b[0;34m()\u001b[0m\n\u001b[1;32m     85\u001b[0m message \u001b[38;5;241m=\u001b[39m \u001b[38;5;28mstr\u001b[39m(exc)\n\u001b[0;32m---> 86\u001b[0m \u001b[38;5;28;01mraise\u001b[39;00m mapped_exc(message) \u001b[38;5;28;01mfrom\u001b[39;00m \u001b[38;5;21;01mexc\u001b[39;00m\n",
      "\u001b[0;31mConnectError\u001b[0m: [SSL: UNEXPECTED_EOF_WHILE_READING] EOF occurred in violation of protocol (_ssl.c:1007)",
      "\nThe above exception was the direct cause of the following exception:\n",
      "\u001b[0;31mAPIConnectionError\u001b[0m                        Traceback (most recent call last)",
      "Cell \u001b[0;32mIn[13], line 12\u001b[0m\n\u001b[1;32m      1\u001b[0m \u001b[38;5;66;03m#summarization\u001b[39;00m\n\u001b[1;32m      2\u001b[0m pre_instruction_summary \u001b[38;5;241m=\u001b[39m PromptTemplate(input_variables\u001b[38;5;241m=\u001b[39m[\u001b[38;5;124m'\u001b[39m\u001b[38;5;124mtable\u001b[39m\u001b[38;5;124m'\u001b[39m], template\u001b[38;5;241m=\u001b[39m\n\u001b[1;32m      3\u001b[0m \u001b[38;5;124;03m\"\"\"\u001b[39;00m\n\u001b[1;32m      4\u001b[0m \u001b[38;5;124;03mInstruction: Given the following table, you need to first summarize the contents of the table, then based on the summay, give a concluded description to each of the column.\u001b[39;00m\n\u001b[0;32m   (...)\u001b[0m\n\u001b[1;32m     10\u001b[0m \u001b[38;5;124;03mexample: launched<The launched date for the competition> date<The date of the match>\u001b[39;00m\n\u001b[1;32m     11\u001b[0m \u001b[38;5;124;03m\"\"\"\u001b[39;00m)\n\u001b[0;32m---> 12\u001b[0m output \u001b[38;5;241m=\u001b[39m \u001b[43mmodel\u001b[49m\u001b[38;5;241;43m.\u001b[39;49m\u001b[43minvoke\u001b[49m\u001b[43m(\u001b[49m\u001b[43m[\u001b[49m\u001b[43mHumanMessage\u001b[49m\u001b[43m(\u001b[49m\u001b[43mcontent\u001b[49m\u001b[38;5;241;43m=\u001b[39;49m\u001b[43mpre_instruction_summary\u001b[49m\u001b[38;5;241;43m.\u001b[39;49m\u001b[43mformat\u001b[49m\u001b[43m(\u001b[49m\u001b[43mtable\u001b[49m\u001b[38;5;241;43m=\u001b[39;49m\u001b[43mformatter\u001b[49m\u001b[38;5;241;43m.\u001b[39;49m\u001b[43mformat_html\u001b[49m\u001b[43m(\u001b[49m\u001b[43m)\u001b[49m\u001b[43m)\u001b[49m\u001b[43m)\u001b[49m\u001b[43m]\u001b[49m\u001b[43m)\u001b[49m\n",
      "File \u001b[0;32m~/.conda/envs/sqlboy/lib/python3.10/site-packages/langchain_core/language_models/chat_models.py:153\u001b[0m, in \u001b[0;36mBaseChatModel.invoke\u001b[0;34m(self, input, config, stop, **kwargs)\u001b[0m\n\u001b[1;32m    142\u001b[0m \u001b[38;5;28;01mdef\u001b[39;00m \u001b[38;5;21minvoke\u001b[39m(\n\u001b[1;32m    143\u001b[0m     \u001b[38;5;28mself\u001b[39m,\n\u001b[1;32m    144\u001b[0m     \u001b[38;5;28minput\u001b[39m: LanguageModelInput,\n\u001b[0;32m   (...)\u001b[0m\n\u001b[1;32m    148\u001b[0m     \u001b[38;5;241m*\u001b[39m\u001b[38;5;241m*\u001b[39mkwargs: Any,\n\u001b[1;32m    149\u001b[0m ) \u001b[38;5;241m-\u001b[39m\u001b[38;5;241m>\u001b[39m BaseMessage:\n\u001b[1;32m    150\u001b[0m     config \u001b[38;5;241m=\u001b[39m ensure_config(config)\n\u001b[1;32m    151\u001b[0m     \u001b[38;5;28;01mreturn\u001b[39;00m cast(\n\u001b[1;32m    152\u001b[0m         ChatGeneration,\n\u001b[0;32m--> 153\u001b[0m         \u001b[38;5;28;43mself\u001b[39;49m\u001b[38;5;241;43m.\u001b[39;49m\u001b[43mgenerate_prompt\u001b[49m\u001b[43m(\u001b[49m\n\u001b[1;32m    154\u001b[0m \u001b[43m            \u001b[49m\u001b[43m[\u001b[49m\u001b[38;5;28;43mself\u001b[39;49m\u001b[38;5;241;43m.\u001b[39;49m\u001b[43m_convert_input\u001b[49m\u001b[43m(\u001b[49m\u001b[38;5;28;43minput\u001b[39;49m\u001b[43m)\u001b[49m\u001b[43m]\u001b[49m\u001b[43m,\u001b[49m\n\u001b[1;32m    155\u001b[0m \u001b[43m            \u001b[49m\u001b[43mstop\u001b[49m\u001b[38;5;241;43m=\u001b[39;49m\u001b[43mstop\u001b[49m\u001b[43m,\u001b[49m\n\u001b[1;32m    156\u001b[0m \u001b[43m            \u001b[49m\u001b[43mcallbacks\u001b[49m\u001b[38;5;241;43m=\u001b[39;49m\u001b[43mconfig\u001b[49m\u001b[38;5;241;43m.\u001b[39;49m\u001b[43mget\u001b[49m\u001b[43m(\u001b[49m\u001b[38;5;124;43m\"\u001b[39;49m\u001b[38;5;124;43mcallbacks\u001b[39;49m\u001b[38;5;124;43m\"\u001b[39;49m\u001b[43m)\u001b[49m\u001b[43m,\u001b[49m\n\u001b[1;32m    157\u001b[0m \u001b[43m            \u001b[49m\u001b[43mtags\u001b[49m\u001b[38;5;241;43m=\u001b[39;49m\u001b[43mconfig\u001b[49m\u001b[38;5;241;43m.\u001b[39;49m\u001b[43mget\u001b[49m\u001b[43m(\u001b[49m\u001b[38;5;124;43m\"\u001b[39;49m\u001b[38;5;124;43mtags\u001b[39;49m\u001b[38;5;124;43m\"\u001b[39;49m\u001b[43m)\u001b[49m\u001b[43m,\u001b[49m\n\u001b[1;32m    158\u001b[0m \u001b[43m            \u001b[49m\u001b[43mmetadata\u001b[49m\u001b[38;5;241;43m=\u001b[39;49m\u001b[43mconfig\u001b[49m\u001b[38;5;241;43m.\u001b[39;49m\u001b[43mget\u001b[49m\u001b[43m(\u001b[49m\u001b[38;5;124;43m\"\u001b[39;49m\u001b[38;5;124;43mmetadata\u001b[39;49m\u001b[38;5;124;43m\"\u001b[39;49m\u001b[43m)\u001b[49m\u001b[43m,\u001b[49m\n\u001b[1;32m    159\u001b[0m \u001b[43m            \u001b[49m\u001b[43mrun_name\u001b[49m\u001b[38;5;241;43m=\u001b[39;49m\u001b[43mconfig\u001b[49m\u001b[38;5;241;43m.\u001b[39;49m\u001b[43mget\u001b[49m\u001b[43m(\u001b[49m\u001b[38;5;124;43m\"\u001b[39;49m\u001b[38;5;124;43mrun_name\u001b[39;49m\u001b[38;5;124;43m\"\u001b[39;49m\u001b[43m)\u001b[49m\u001b[43m,\u001b[49m\n\u001b[1;32m    160\u001b[0m \u001b[43m            \u001b[49m\u001b[38;5;241;43m*\u001b[39;49m\u001b[38;5;241;43m*\u001b[39;49m\u001b[43mkwargs\u001b[49m\u001b[43m,\u001b[49m\n\u001b[1;32m    161\u001b[0m \u001b[43m        \u001b[49m\u001b[43m)\u001b[49m\u001b[38;5;241m.\u001b[39mgenerations[\u001b[38;5;241m0\u001b[39m][\u001b[38;5;241m0\u001b[39m],\n\u001b[1;32m    162\u001b[0m     )\u001b[38;5;241m.\u001b[39mmessage\n",
      "File \u001b[0;32m~/.conda/envs/sqlboy/lib/python3.10/site-packages/langchain_core/language_models/chat_models.py:546\u001b[0m, in \u001b[0;36mBaseChatModel.generate_prompt\u001b[0;34m(self, prompts, stop, callbacks, **kwargs)\u001b[0m\n\u001b[1;32m    538\u001b[0m \u001b[38;5;28;01mdef\u001b[39;00m \u001b[38;5;21mgenerate_prompt\u001b[39m(\n\u001b[1;32m    539\u001b[0m     \u001b[38;5;28mself\u001b[39m,\n\u001b[1;32m    540\u001b[0m     prompts: List[PromptValue],\n\u001b[0;32m   (...)\u001b[0m\n\u001b[1;32m    543\u001b[0m     \u001b[38;5;241m*\u001b[39m\u001b[38;5;241m*\u001b[39mkwargs: Any,\n\u001b[1;32m    544\u001b[0m ) \u001b[38;5;241m-\u001b[39m\u001b[38;5;241m>\u001b[39m LLMResult:\n\u001b[1;32m    545\u001b[0m     prompt_messages \u001b[38;5;241m=\u001b[39m [p\u001b[38;5;241m.\u001b[39mto_messages() \u001b[38;5;28;01mfor\u001b[39;00m p \u001b[38;5;129;01min\u001b[39;00m prompts]\n\u001b[0;32m--> 546\u001b[0m     \u001b[38;5;28;01mreturn\u001b[39;00m \u001b[38;5;28;43mself\u001b[39;49m\u001b[38;5;241;43m.\u001b[39;49m\u001b[43mgenerate\u001b[49m\u001b[43m(\u001b[49m\u001b[43mprompt_messages\u001b[49m\u001b[43m,\u001b[49m\u001b[43m \u001b[49m\u001b[43mstop\u001b[49m\u001b[38;5;241;43m=\u001b[39;49m\u001b[43mstop\u001b[49m\u001b[43m,\u001b[49m\u001b[43m \u001b[49m\u001b[43mcallbacks\u001b[49m\u001b[38;5;241;43m=\u001b[39;49m\u001b[43mcallbacks\u001b[49m\u001b[43m,\u001b[49m\u001b[43m \u001b[49m\u001b[38;5;241;43m*\u001b[39;49m\u001b[38;5;241;43m*\u001b[39;49m\u001b[43mkwargs\u001b[49m\u001b[43m)\u001b[49m\n",
      "File \u001b[0;32m~/.conda/envs/sqlboy/lib/python3.10/site-packages/langchain_core/language_models/chat_models.py:407\u001b[0m, in \u001b[0;36mBaseChatModel.generate\u001b[0;34m(self, messages, stop, callbacks, tags, metadata, run_name, run_id, **kwargs)\u001b[0m\n\u001b[1;32m    405\u001b[0m         \u001b[38;5;28;01mif\u001b[39;00m run_managers:\n\u001b[1;32m    406\u001b[0m             run_managers[i]\u001b[38;5;241m.\u001b[39mon_llm_error(e, response\u001b[38;5;241m=\u001b[39mLLMResult(generations\u001b[38;5;241m=\u001b[39m[]))\n\u001b[0;32m--> 407\u001b[0m         \u001b[38;5;28;01mraise\u001b[39;00m e\n\u001b[1;32m    408\u001b[0m flattened_outputs \u001b[38;5;241m=\u001b[39m [\n\u001b[1;32m    409\u001b[0m     LLMResult(generations\u001b[38;5;241m=\u001b[39m[res\u001b[38;5;241m.\u001b[39mgenerations], llm_output\u001b[38;5;241m=\u001b[39mres\u001b[38;5;241m.\u001b[39mllm_output)  \u001b[38;5;66;03m# type: ignore[list-item]\u001b[39;00m\n\u001b[1;32m    410\u001b[0m     \u001b[38;5;28;01mfor\u001b[39;00m res \u001b[38;5;129;01min\u001b[39;00m results\n\u001b[1;32m    411\u001b[0m ]\n\u001b[1;32m    412\u001b[0m llm_output \u001b[38;5;241m=\u001b[39m \u001b[38;5;28mself\u001b[39m\u001b[38;5;241m.\u001b[39m_combine_llm_outputs([res\u001b[38;5;241m.\u001b[39mllm_output \u001b[38;5;28;01mfor\u001b[39;00m res \u001b[38;5;129;01min\u001b[39;00m results])\n",
      "File \u001b[0;32m~/.conda/envs/sqlboy/lib/python3.10/site-packages/langchain_core/language_models/chat_models.py:397\u001b[0m, in \u001b[0;36mBaseChatModel.generate\u001b[0;34m(self, messages, stop, callbacks, tags, metadata, run_name, run_id, **kwargs)\u001b[0m\n\u001b[1;32m    394\u001b[0m \u001b[38;5;28;01mfor\u001b[39;00m i, m \u001b[38;5;129;01min\u001b[39;00m \u001b[38;5;28menumerate\u001b[39m(messages):\n\u001b[1;32m    395\u001b[0m     \u001b[38;5;28;01mtry\u001b[39;00m:\n\u001b[1;32m    396\u001b[0m         results\u001b[38;5;241m.\u001b[39mappend(\n\u001b[0;32m--> 397\u001b[0m             \u001b[38;5;28;43mself\u001b[39;49m\u001b[38;5;241;43m.\u001b[39;49m\u001b[43m_generate_with_cache\u001b[49m\u001b[43m(\u001b[49m\n\u001b[1;32m    398\u001b[0m \u001b[43m                \u001b[49m\u001b[43mm\u001b[49m\u001b[43m,\u001b[49m\n\u001b[1;32m    399\u001b[0m \u001b[43m                \u001b[49m\u001b[43mstop\u001b[49m\u001b[38;5;241;43m=\u001b[39;49m\u001b[43mstop\u001b[49m\u001b[43m,\u001b[49m\n\u001b[1;32m    400\u001b[0m \u001b[43m                \u001b[49m\u001b[43mrun_manager\u001b[49m\u001b[38;5;241;43m=\u001b[39;49m\u001b[43mrun_managers\u001b[49m\u001b[43m[\u001b[49m\u001b[43mi\u001b[49m\u001b[43m]\u001b[49m\u001b[43m \u001b[49m\u001b[38;5;28;43;01mif\u001b[39;49;00m\u001b[43m \u001b[49m\u001b[43mrun_managers\u001b[49m\u001b[43m \u001b[49m\u001b[38;5;28;43;01melse\u001b[39;49;00m\u001b[43m \u001b[49m\u001b[38;5;28;43;01mNone\u001b[39;49;00m\u001b[43m,\u001b[49m\n\u001b[1;32m    401\u001b[0m \u001b[43m                \u001b[49m\u001b[38;5;241;43m*\u001b[39;49m\u001b[38;5;241;43m*\u001b[39;49m\u001b[43mkwargs\u001b[49m\u001b[43m,\u001b[49m\n\u001b[1;32m    402\u001b[0m \u001b[43m            \u001b[49m\u001b[43m)\u001b[49m\n\u001b[1;32m    403\u001b[0m         )\n\u001b[1;32m    404\u001b[0m     \u001b[38;5;28;01mexcept\u001b[39;00m \u001b[38;5;167;01mBaseException\u001b[39;00m \u001b[38;5;28;01mas\u001b[39;00m e:\n\u001b[1;32m    405\u001b[0m         \u001b[38;5;28;01mif\u001b[39;00m run_managers:\n",
      "File \u001b[0;32m~/.conda/envs/sqlboy/lib/python3.10/site-packages/langchain_core/language_models/chat_models.py:589\u001b[0m, in \u001b[0;36mBaseChatModel._generate_with_cache\u001b[0;34m(self, messages, stop, run_manager, **kwargs)\u001b[0m\n\u001b[1;32m    585\u001b[0m         \u001b[38;5;28;01mraise\u001b[39;00m \u001b[38;5;167;01mValueError\u001b[39;00m(\n\u001b[1;32m    586\u001b[0m             \u001b[38;5;124m\"\u001b[39m\u001b[38;5;124mAsked to cache, but no cache found at `langchain.cache`.\u001b[39m\u001b[38;5;124m\"\u001b[39m\n\u001b[1;32m    587\u001b[0m         )\n\u001b[1;32m    588\u001b[0m \u001b[38;5;28;01mif\u001b[39;00m inspect\u001b[38;5;241m.\u001b[39msignature(\u001b[38;5;28mself\u001b[39m\u001b[38;5;241m.\u001b[39m_generate)\u001b[38;5;241m.\u001b[39mparameters\u001b[38;5;241m.\u001b[39mget(\u001b[38;5;124m\"\u001b[39m\u001b[38;5;124mrun_manager\u001b[39m\u001b[38;5;124m\"\u001b[39m):\n\u001b[0;32m--> 589\u001b[0m     result \u001b[38;5;241m=\u001b[39m \u001b[38;5;28;43mself\u001b[39;49m\u001b[38;5;241;43m.\u001b[39;49m\u001b[43m_generate\u001b[49m\u001b[43m(\u001b[49m\n\u001b[1;32m    590\u001b[0m \u001b[43m        \u001b[49m\u001b[43mmessages\u001b[49m\u001b[43m,\u001b[49m\u001b[43m \u001b[49m\u001b[43mstop\u001b[49m\u001b[38;5;241;43m=\u001b[39;49m\u001b[43mstop\u001b[49m\u001b[43m,\u001b[49m\u001b[43m \u001b[49m\u001b[43mrun_manager\u001b[49m\u001b[38;5;241;43m=\u001b[39;49m\u001b[43mrun_manager\u001b[49m\u001b[43m,\u001b[49m\u001b[43m \u001b[49m\u001b[38;5;241;43m*\u001b[39;49m\u001b[38;5;241;43m*\u001b[39;49m\u001b[43mkwargs\u001b[49m\n\u001b[1;32m    591\u001b[0m \u001b[43m    \u001b[49m\u001b[43m)\u001b[49m\n\u001b[1;32m    592\u001b[0m \u001b[38;5;28;01melse\u001b[39;00m:\n\u001b[1;32m    593\u001b[0m     result \u001b[38;5;241m=\u001b[39m \u001b[38;5;28mself\u001b[39m\u001b[38;5;241m.\u001b[39m_generate(messages, stop\u001b[38;5;241m=\u001b[39mstop, \u001b[38;5;241m*\u001b[39m\u001b[38;5;241m*\u001b[39mkwargs)\n",
      "File \u001b[0;32m~/.conda/envs/sqlboy/lib/python3.10/site-packages/langchain_openai/chat_models/base.py:484\u001b[0m, in \u001b[0;36mChatOpenAI._generate\u001b[0;34m(self, messages, stop, run_manager, stream, **kwargs)\u001b[0m\n\u001b[1;32m    478\u001b[0m message_dicts, params \u001b[38;5;241m=\u001b[39m \u001b[38;5;28mself\u001b[39m\u001b[38;5;241m.\u001b[39m_create_message_dicts(messages, stop)\n\u001b[1;32m    479\u001b[0m params \u001b[38;5;241m=\u001b[39m {\n\u001b[1;32m    480\u001b[0m     \u001b[38;5;241m*\u001b[39m\u001b[38;5;241m*\u001b[39mparams,\n\u001b[1;32m    481\u001b[0m     \u001b[38;5;241m*\u001b[39m\u001b[38;5;241m*\u001b[39m({\u001b[38;5;124m\"\u001b[39m\u001b[38;5;124mstream\u001b[39m\u001b[38;5;124m\"\u001b[39m: stream} \u001b[38;5;28;01mif\u001b[39;00m stream \u001b[38;5;129;01mis\u001b[39;00m \u001b[38;5;129;01mnot\u001b[39;00m \u001b[38;5;28;01mNone\u001b[39;00m \u001b[38;5;28;01melse\u001b[39;00m {}),\n\u001b[1;32m    482\u001b[0m     \u001b[38;5;241m*\u001b[39m\u001b[38;5;241m*\u001b[39mkwargs,\n\u001b[1;32m    483\u001b[0m }\n\u001b[0;32m--> 484\u001b[0m response \u001b[38;5;241m=\u001b[39m \u001b[38;5;28;43mself\u001b[39;49m\u001b[38;5;241;43m.\u001b[39;49m\u001b[43mclient\u001b[49m\u001b[38;5;241;43m.\u001b[39;49m\u001b[43mcreate\u001b[49m\u001b[43m(\u001b[49m\u001b[43mmessages\u001b[49m\u001b[38;5;241;43m=\u001b[39;49m\u001b[43mmessage_dicts\u001b[49m\u001b[43m,\u001b[49m\u001b[43m \u001b[49m\u001b[38;5;241;43m*\u001b[39;49m\u001b[38;5;241;43m*\u001b[39;49m\u001b[43mparams\u001b[49m\u001b[43m)\u001b[49m\n\u001b[1;32m    485\u001b[0m \u001b[38;5;28;01mreturn\u001b[39;00m \u001b[38;5;28mself\u001b[39m\u001b[38;5;241m.\u001b[39m_create_chat_result(response)\n",
      "File \u001b[0;32m~/.conda/envs/sqlboy/lib/python3.10/site-packages/openai/_utils/_utils.py:275\u001b[0m, in \u001b[0;36mrequired_args.<locals>.inner.<locals>.wrapper\u001b[0;34m(*args, **kwargs)\u001b[0m\n\u001b[1;32m    273\u001b[0m             msg \u001b[38;5;241m=\u001b[39m \u001b[38;5;124mf\u001b[39m\u001b[38;5;124m\"\u001b[39m\u001b[38;5;124mMissing required argument: \u001b[39m\u001b[38;5;132;01m{\u001b[39;00mquote(missing[\u001b[38;5;241m0\u001b[39m])\u001b[38;5;132;01m}\u001b[39;00m\u001b[38;5;124m\"\u001b[39m\n\u001b[1;32m    274\u001b[0m     \u001b[38;5;28;01mraise\u001b[39;00m \u001b[38;5;167;01mTypeError\u001b[39;00m(msg)\n\u001b[0;32m--> 275\u001b[0m \u001b[38;5;28;01mreturn\u001b[39;00m \u001b[43mfunc\u001b[49m\u001b[43m(\u001b[49m\u001b[38;5;241;43m*\u001b[39;49m\u001b[43margs\u001b[49m\u001b[43m,\u001b[49m\u001b[43m \u001b[49m\u001b[38;5;241;43m*\u001b[39;49m\u001b[38;5;241;43m*\u001b[39;49m\u001b[43mkwargs\u001b[49m\u001b[43m)\u001b[49m\n",
      "File \u001b[0;32m~/.conda/envs/sqlboy/lib/python3.10/site-packages/openai/resources/chat/completions.py:667\u001b[0m, in \u001b[0;36mCompletions.create\u001b[0;34m(self, messages, model, frequency_penalty, function_call, functions, logit_bias, logprobs, max_tokens, n, presence_penalty, response_format, seed, stop, stream, temperature, tool_choice, tools, top_logprobs, top_p, user, extra_headers, extra_query, extra_body, timeout)\u001b[0m\n\u001b[1;32m    615\u001b[0m \u001b[38;5;129m@required_args\u001b[39m([\u001b[38;5;124m\"\u001b[39m\u001b[38;5;124mmessages\u001b[39m\u001b[38;5;124m\"\u001b[39m, \u001b[38;5;124m\"\u001b[39m\u001b[38;5;124mmodel\u001b[39m\u001b[38;5;124m\"\u001b[39m], [\u001b[38;5;124m\"\u001b[39m\u001b[38;5;124mmessages\u001b[39m\u001b[38;5;124m\"\u001b[39m, \u001b[38;5;124m\"\u001b[39m\u001b[38;5;124mmodel\u001b[39m\u001b[38;5;124m\"\u001b[39m, \u001b[38;5;124m\"\u001b[39m\u001b[38;5;124mstream\u001b[39m\u001b[38;5;124m\"\u001b[39m])\n\u001b[1;32m    616\u001b[0m \u001b[38;5;28;01mdef\u001b[39;00m \u001b[38;5;21mcreate\u001b[39m(\n\u001b[1;32m    617\u001b[0m     \u001b[38;5;28mself\u001b[39m,\n\u001b[0;32m   (...)\u001b[0m\n\u001b[1;32m    665\u001b[0m     timeout: \u001b[38;5;28mfloat\u001b[39m \u001b[38;5;241m|\u001b[39m httpx\u001b[38;5;241m.\u001b[39mTimeout \u001b[38;5;241m|\u001b[39m \u001b[38;5;28;01mNone\u001b[39;00m \u001b[38;5;241m|\u001b[39m NotGiven \u001b[38;5;241m=\u001b[39m NOT_GIVEN,\n\u001b[1;32m    666\u001b[0m ) \u001b[38;5;241m-\u001b[39m\u001b[38;5;241m>\u001b[39m ChatCompletion \u001b[38;5;241m|\u001b[39m Stream[ChatCompletionChunk]:\n\u001b[0;32m--> 667\u001b[0m     \u001b[38;5;28;01mreturn\u001b[39;00m \u001b[38;5;28;43mself\u001b[39;49m\u001b[38;5;241;43m.\u001b[39;49m\u001b[43m_post\u001b[49m\u001b[43m(\u001b[49m\n\u001b[1;32m    668\u001b[0m \u001b[43m        \u001b[49m\u001b[38;5;124;43m\"\u001b[39;49m\u001b[38;5;124;43m/chat/completions\u001b[39;49m\u001b[38;5;124;43m\"\u001b[39;49m\u001b[43m,\u001b[49m\n\u001b[1;32m    669\u001b[0m \u001b[43m        \u001b[49m\u001b[43mbody\u001b[49m\u001b[38;5;241;43m=\u001b[39;49m\u001b[43mmaybe_transform\u001b[49m\u001b[43m(\u001b[49m\n\u001b[1;32m    670\u001b[0m \u001b[43m            \u001b[49m\u001b[43m{\u001b[49m\n\u001b[1;32m    671\u001b[0m \u001b[43m                \u001b[49m\u001b[38;5;124;43m\"\u001b[39;49m\u001b[38;5;124;43mmessages\u001b[39;49m\u001b[38;5;124;43m\"\u001b[39;49m\u001b[43m:\u001b[49m\u001b[43m \u001b[49m\u001b[43mmessages\u001b[49m\u001b[43m,\u001b[49m\n\u001b[1;32m    672\u001b[0m \u001b[43m                \u001b[49m\u001b[38;5;124;43m\"\u001b[39;49m\u001b[38;5;124;43mmodel\u001b[39;49m\u001b[38;5;124;43m\"\u001b[39;49m\u001b[43m:\u001b[49m\u001b[43m \u001b[49m\u001b[43mmodel\u001b[49m\u001b[43m,\u001b[49m\n\u001b[1;32m    673\u001b[0m \u001b[43m                \u001b[49m\u001b[38;5;124;43m\"\u001b[39;49m\u001b[38;5;124;43mfrequency_penalty\u001b[39;49m\u001b[38;5;124;43m\"\u001b[39;49m\u001b[43m:\u001b[49m\u001b[43m \u001b[49m\u001b[43mfrequency_penalty\u001b[49m\u001b[43m,\u001b[49m\n\u001b[1;32m    674\u001b[0m \u001b[43m                \u001b[49m\u001b[38;5;124;43m\"\u001b[39;49m\u001b[38;5;124;43mfunction_call\u001b[39;49m\u001b[38;5;124;43m\"\u001b[39;49m\u001b[43m:\u001b[49m\u001b[43m \u001b[49m\u001b[43mfunction_call\u001b[49m\u001b[43m,\u001b[49m\n\u001b[1;32m    675\u001b[0m \u001b[43m                \u001b[49m\u001b[38;5;124;43m\"\u001b[39;49m\u001b[38;5;124;43mfunctions\u001b[39;49m\u001b[38;5;124;43m\"\u001b[39;49m\u001b[43m:\u001b[49m\u001b[43m \u001b[49m\u001b[43mfunctions\u001b[49m\u001b[43m,\u001b[49m\n\u001b[1;32m    676\u001b[0m \u001b[43m                \u001b[49m\u001b[38;5;124;43m\"\u001b[39;49m\u001b[38;5;124;43mlogit_bias\u001b[39;49m\u001b[38;5;124;43m\"\u001b[39;49m\u001b[43m:\u001b[49m\u001b[43m \u001b[49m\u001b[43mlogit_bias\u001b[49m\u001b[43m,\u001b[49m\n\u001b[1;32m    677\u001b[0m \u001b[43m                \u001b[49m\u001b[38;5;124;43m\"\u001b[39;49m\u001b[38;5;124;43mlogprobs\u001b[39;49m\u001b[38;5;124;43m\"\u001b[39;49m\u001b[43m:\u001b[49m\u001b[43m \u001b[49m\u001b[43mlogprobs\u001b[49m\u001b[43m,\u001b[49m\n\u001b[1;32m    678\u001b[0m \u001b[43m                \u001b[49m\u001b[38;5;124;43m\"\u001b[39;49m\u001b[38;5;124;43mmax_tokens\u001b[39;49m\u001b[38;5;124;43m\"\u001b[39;49m\u001b[43m:\u001b[49m\u001b[43m \u001b[49m\u001b[43mmax_tokens\u001b[49m\u001b[43m,\u001b[49m\n\u001b[1;32m    679\u001b[0m \u001b[43m                \u001b[49m\u001b[38;5;124;43m\"\u001b[39;49m\u001b[38;5;124;43mn\u001b[39;49m\u001b[38;5;124;43m\"\u001b[39;49m\u001b[43m:\u001b[49m\u001b[43m \u001b[49m\u001b[43mn\u001b[49m\u001b[43m,\u001b[49m\n\u001b[1;32m    680\u001b[0m \u001b[43m                \u001b[49m\u001b[38;5;124;43m\"\u001b[39;49m\u001b[38;5;124;43mpresence_penalty\u001b[39;49m\u001b[38;5;124;43m\"\u001b[39;49m\u001b[43m:\u001b[49m\u001b[43m \u001b[49m\u001b[43mpresence_penalty\u001b[49m\u001b[43m,\u001b[49m\n\u001b[1;32m    681\u001b[0m \u001b[43m                \u001b[49m\u001b[38;5;124;43m\"\u001b[39;49m\u001b[38;5;124;43mresponse_format\u001b[39;49m\u001b[38;5;124;43m\"\u001b[39;49m\u001b[43m:\u001b[49m\u001b[43m \u001b[49m\u001b[43mresponse_format\u001b[49m\u001b[43m,\u001b[49m\n\u001b[1;32m    682\u001b[0m \u001b[43m                \u001b[49m\u001b[38;5;124;43m\"\u001b[39;49m\u001b[38;5;124;43mseed\u001b[39;49m\u001b[38;5;124;43m\"\u001b[39;49m\u001b[43m:\u001b[49m\u001b[43m \u001b[49m\u001b[43mseed\u001b[49m\u001b[43m,\u001b[49m\n\u001b[1;32m    683\u001b[0m \u001b[43m                \u001b[49m\u001b[38;5;124;43m\"\u001b[39;49m\u001b[38;5;124;43mstop\u001b[39;49m\u001b[38;5;124;43m\"\u001b[39;49m\u001b[43m:\u001b[49m\u001b[43m \u001b[49m\u001b[43mstop\u001b[49m\u001b[43m,\u001b[49m\n\u001b[1;32m    684\u001b[0m \u001b[43m                \u001b[49m\u001b[38;5;124;43m\"\u001b[39;49m\u001b[38;5;124;43mstream\u001b[39;49m\u001b[38;5;124;43m\"\u001b[39;49m\u001b[43m:\u001b[49m\u001b[43m \u001b[49m\u001b[43mstream\u001b[49m\u001b[43m,\u001b[49m\n\u001b[1;32m    685\u001b[0m \u001b[43m                \u001b[49m\u001b[38;5;124;43m\"\u001b[39;49m\u001b[38;5;124;43mtemperature\u001b[39;49m\u001b[38;5;124;43m\"\u001b[39;49m\u001b[43m:\u001b[49m\u001b[43m \u001b[49m\u001b[43mtemperature\u001b[49m\u001b[43m,\u001b[49m\n\u001b[1;32m    686\u001b[0m \u001b[43m                \u001b[49m\u001b[38;5;124;43m\"\u001b[39;49m\u001b[38;5;124;43mtool_choice\u001b[39;49m\u001b[38;5;124;43m\"\u001b[39;49m\u001b[43m:\u001b[49m\u001b[43m \u001b[49m\u001b[43mtool_choice\u001b[49m\u001b[43m,\u001b[49m\n\u001b[1;32m    687\u001b[0m \u001b[43m                \u001b[49m\u001b[38;5;124;43m\"\u001b[39;49m\u001b[38;5;124;43mtools\u001b[39;49m\u001b[38;5;124;43m\"\u001b[39;49m\u001b[43m:\u001b[49m\u001b[43m \u001b[49m\u001b[43mtools\u001b[49m\u001b[43m,\u001b[49m\n\u001b[1;32m    688\u001b[0m \u001b[43m                \u001b[49m\u001b[38;5;124;43m\"\u001b[39;49m\u001b[38;5;124;43mtop_logprobs\u001b[39;49m\u001b[38;5;124;43m\"\u001b[39;49m\u001b[43m:\u001b[49m\u001b[43m \u001b[49m\u001b[43mtop_logprobs\u001b[49m\u001b[43m,\u001b[49m\n\u001b[1;32m    689\u001b[0m \u001b[43m                \u001b[49m\u001b[38;5;124;43m\"\u001b[39;49m\u001b[38;5;124;43mtop_p\u001b[39;49m\u001b[38;5;124;43m\"\u001b[39;49m\u001b[43m:\u001b[49m\u001b[43m \u001b[49m\u001b[43mtop_p\u001b[49m\u001b[43m,\u001b[49m\n\u001b[1;32m    690\u001b[0m \u001b[43m                \u001b[49m\u001b[38;5;124;43m\"\u001b[39;49m\u001b[38;5;124;43muser\u001b[39;49m\u001b[38;5;124;43m\"\u001b[39;49m\u001b[43m:\u001b[49m\u001b[43m \u001b[49m\u001b[43muser\u001b[49m\u001b[43m,\u001b[49m\n\u001b[1;32m    691\u001b[0m \u001b[43m            \u001b[49m\u001b[43m}\u001b[49m\u001b[43m,\u001b[49m\n\u001b[1;32m    692\u001b[0m \u001b[43m            \u001b[49m\u001b[43mcompletion_create_params\u001b[49m\u001b[38;5;241;43m.\u001b[39;49m\u001b[43mCompletionCreateParams\u001b[49m\u001b[43m,\u001b[49m\n\u001b[1;32m    693\u001b[0m \u001b[43m        \u001b[49m\u001b[43m)\u001b[49m\u001b[43m,\u001b[49m\n\u001b[1;32m    694\u001b[0m \u001b[43m        \u001b[49m\u001b[43moptions\u001b[49m\u001b[38;5;241;43m=\u001b[39;49m\u001b[43mmake_request_options\u001b[49m\u001b[43m(\u001b[49m\n\u001b[1;32m    695\u001b[0m \u001b[43m            \u001b[49m\u001b[43mextra_headers\u001b[49m\u001b[38;5;241;43m=\u001b[39;49m\u001b[43mextra_headers\u001b[49m\u001b[43m,\u001b[49m\u001b[43m \u001b[49m\u001b[43mextra_query\u001b[49m\u001b[38;5;241;43m=\u001b[39;49m\u001b[43mextra_query\u001b[49m\u001b[43m,\u001b[49m\u001b[43m \u001b[49m\u001b[43mextra_body\u001b[49m\u001b[38;5;241;43m=\u001b[39;49m\u001b[43mextra_body\u001b[49m\u001b[43m,\u001b[49m\u001b[43m \u001b[49m\u001b[43mtimeout\u001b[49m\u001b[38;5;241;43m=\u001b[39;49m\u001b[43mtimeout\u001b[49m\n\u001b[1;32m    696\u001b[0m \u001b[43m        \u001b[49m\u001b[43m)\u001b[49m\u001b[43m,\u001b[49m\n\u001b[1;32m    697\u001b[0m \u001b[43m        \u001b[49m\u001b[43mcast_to\u001b[49m\u001b[38;5;241;43m=\u001b[39;49m\u001b[43mChatCompletion\u001b[49m\u001b[43m,\u001b[49m\n\u001b[1;32m    698\u001b[0m \u001b[43m        \u001b[49m\u001b[43mstream\u001b[49m\u001b[38;5;241;43m=\u001b[39;49m\u001b[43mstream\u001b[49m\u001b[43m \u001b[49m\u001b[38;5;129;43;01mor\u001b[39;49;00m\u001b[43m \u001b[49m\u001b[38;5;28;43;01mFalse\u001b[39;49;00m\u001b[43m,\u001b[49m\n\u001b[1;32m    699\u001b[0m \u001b[43m        \u001b[49m\u001b[43mstream_cls\u001b[49m\u001b[38;5;241;43m=\u001b[39;49m\u001b[43mStream\u001b[49m\u001b[43m[\u001b[49m\u001b[43mChatCompletionChunk\u001b[49m\u001b[43m]\u001b[49m\u001b[43m,\u001b[49m\n\u001b[1;32m    700\u001b[0m \u001b[43m    \u001b[49m\u001b[43m)\u001b[49m\n",
      "File \u001b[0;32m~/.conda/envs/sqlboy/lib/python3.10/site-packages/openai/_base_client.py:1208\u001b[0m, in \u001b[0;36mSyncAPIClient.post\u001b[0;34m(self, path, cast_to, body, options, files, stream, stream_cls)\u001b[0m\n\u001b[1;32m   1194\u001b[0m \u001b[38;5;28;01mdef\u001b[39;00m \u001b[38;5;21mpost\u001b[39m(\n\u001b[1;32m   1195\u001b[0m     \u001b[38;5;28mself\u001b[39m,\n\u001b[1;32m   1196\u001b[0m     path: \u001b[38;5;28mstr\u001b[39m,\n\u001b[0;32m   (...)\u001b[0m\n\u001b[1;32m   1203\u001b[0m     stream_cls: \u001b[38;5;28mtype\u001b[39m[_StreamT] \u001b[38;5;241m|\u001b[39m \u001b[38;5;28;01mNone\u001b[39;00m \u001b[38;5;241m=\u001b[39m \u001b[38;5;28;01mNone\u001b[39;00m,\n\u001b[1;32m   1204\u001b[0m ) \u001b[38;5;241m-\u001b[39m\u001b[38;5;241m>\u001b[39m ResponseT \u001b[38;5;241m|\u001b[39m _StreamT:\n\u001b[1;32m   1205\u001b[0m     opts \u001b[38;5;241m=\u001b[39m FinalRequestOptions\u001b[38;5;241m.\u001b[39mconstruct(\n\u001b[1;32m   1206\u001b[0m         method\u001b[38;5;241m=\u001b[39m\u001b[38;5;124m\"\u001b[39m\u001b[38;5;124mpost\u001b[39m\u001b[38;5;124m\"\u001b[39m, url\u001b[38;5;241m=\u001b[39mpath, json_data\u001b[38;5;241m=\u001b[39mbody, files\u001b[38;5;241m=\u001b[39mto_httpx_files(files), \u001b[38;5;241m*\u001b[39m\u001b[38;5;241m*\u001b[39moptions\n\u001b[1;32m   1207\u001b[0m     )\n\u001b[0;32m-> 1208\u001b[0m     \u001b[38;5;28;01mreturn\u001b[39;00m cast(ResponseT, \u001b[38;5;28;43mself\u001b[39;49m\u001b[38;5;241;43m.\u001b[39;49m\u001b[43mrequest\u001b[49m\u001b[43m(\u001b[49m\u001b[43mcast_to\u001b[49m\u001b[43m,\u001b[49m\u001b[43m \u001b[49m\u001b[43mopts\u001b[49m\u001b[43m,\u001b[49m\u001b[43m \u001b[49m\u001b[43mstream\u001b[49m\u001b[38;5;241;43m=\u001b[39;49m\u001b[43mstream\u001b[49m\u001b[43m,\u001b[49m\u001b[43m \u001b[49m\u001b[43mstream_cls\u001b[49m\u001b[38;5;241;43m=\u001b[39;49m\u001b[43mstream_cls\u001b[49m\u001b[43m)\u001b[49m)\n",
      "File \u001b[0;32m~/.conda/envs/sqlboy/lib/python3.10/site-packages/openai/_base_client.py:897\u001b[0m, in \u001b[0;36mSyncAPIClient.request\u001b[0;34m(self, cast_to, options, remaining_retries, stream, stream_cls)\u001b[0m\n\u001b[1;32m    888\u001b[0m \u001b[38;5;28;01mdef\u001b[39;00m \u001b[38;5;21mrequest\u001b[39m(\n\u001b[1;32m    889\u001b[0m     \u001b[38;5;28mself\u001b[39m,\n\u001b[1;32m    890\u001b[0m     cast_to: Type[ResponseT],\n\u001b[0;32m   (...)\u001b[0m\n\u001b[1;32m    895\u001b[0m     stream_cls: \u001b[38;5;28mtype\u001b[39m[_StreamT] \u001b[38;5;241m|\u001b[39m \u001b[38;5;28;01mNone\u001b[39;00m \u001b[38;5;241m=\u001b[39m \u001b[38;5;28;01mNone\u001b[39;00m,\n\u001b[1;32m    896\u001b[0m ) \u001b[38;5;241m-\u001b[39m\u001b[38;5;241m>\u001b[39m ResponseT \u001b[38;5;241m|\u001b[39m _StreamT:\n\u001b[0;32m--> 897\u001b[0m     \u001b[38;5;28;01mreturn\u001b[39;00m \u001b[38;5;28;43mself\u001b[39;49m\u001b[38;5;241;43m.\u001b[39;49m\u001b[43m_request\u001b[49m\u001b[43m(\u001b[49m\n\u001b[1;32m    898\u001b[0m \u001b[43m        \u001b[49m\u001b[43mcast_to\u001b[49m\u001b[38;5;241;43m=\u001b[39;49m\u001b[43mcast_to\u001b[49m\u001b[43m,\u001b[49m\n\u001b[1;32m    899\u001b[0m \u001b[43m        \u001b[49m\u001b[43moptions\u001b[49m\u001b[38;5;241;43m=\u001b[39;49m\u001b[43moptions\u001b[49m\u001b[43m,\u001b[49m\n\u001b[1;32m    900\u001b[0m \u001b[43m        \u001b[49m\u001b[43mstream\u001b[49m\u001b[38;5;241;43m=\u001b[39;49m\u001b[43mstream\u001b[49m\u001b[43m,\u001b[49m\n\u001b[1;32m    901\u001b[0m \u001b[43m        \u001b[49m\u001b[43mstream_cls\u001b[49m\u001b[38;5;241;43m=\u001b[39;49m\u001b[43mstream_cls\u001b[49m\u001b[43m,\u001b[49m\n\u001b[1;32m    902\u001b[0m \u001b[43m        \u001b[49m\u001b[43mremaining_retries\u001b[49m\u001b[38;5;241;43m=\u001b[39;49m\u001b[43mremaining_retries\u001b[49m\u001b[43m,\u001b[49m\n\u001b[1;32m    903\u001b[0m \u001b[43m    \u001b[49m\u001b[43m)\u001b[49m\n",
      "File \u001b[0;32m~/.conda/envs/sqlboy/lib/python3.10/site-packages/openai/_base_client.py:950\u001b[0m, in \u001b[0;36mSyncAPIClient._request\u001b[0;34m(self, cast_to, options, remaining_retries, stream, stream_cls)\u001b[0m\n\u001b[1;32m    947\u001b[0m log\u001b[38;5;241m.\u001b[39mdebug(\u001b[38;5;124m\"\u001b[39m\u001b[38;5;124mEncountered Exception\u001b[39m\u001b[38;5;124m\"\u001b[39m, exc_info\u001b[38;5;241m=\u001b[39m\u001b[38;5;28;01mTrue\u001b[39;00m)\n\u001b[1;32m    949\u001b[0m \u001b[38;5;28;01mif\u001b[39;00m retries \u001b[38;5;241m>\u001b[39m \u001b[38;5;241m0\u001b[39m:\n\u001b[0;32m--> 950\u001b[0m     \u001b[38;5;28;01mreturn\u001b[39;00m \u001b[38;5;28;43mself\u001b[39;49m\u001b[38;5;241;43m.\u001b[39;49m\u001b[43m_retry_request\u001b[49m\u001b[43m(\u001b[49m\n\u001b[1;32m    951\u001b[0m \u001b[43m        \u001b[49m\u001b[43moptions\u001b[49m\u001b[43m,\u001b[49m\n\u001b[1;32m    952\u001b[0m \u001b[43m        \u001b[49m\u001b[43mcast_to\u001b[49m\u001b[43m,\u001b[49m\n\u001b[1;32m    953\u001b[0m \u001b[43m        \u001b[49m\u001b[43mretries\u001b[49m\u001b[43m,\u001b[49m\n\u001b[1;32m    954\u001b[0m \u001b[43m        \u001b[49m\u001b[43mstream\u001b[49m\u001b[38;5;241;43m=\u001b[39;49m\u001b[43mstream\u001b[49m\u001b[43m,\u001b[49m\n\u001b[1;32m    955\u001b[0m \u001b[43m        \u001b[49m\u001b[43mstream_cls\u001b[49m\u001b[38;5;241;43m=\u001b[39;49m\u001b[43mstream_cls\u001b[49m\u001b[43m,\u001b[49m\n\u001b[1;32m    956\u001b[0m \u001b[43m        \u001b[49m\u001b[43mresponse_headers\u001b[49m\u001b[38;5;241;43m=\u001b[39;49m\u001b[38;5;28;43;01mNone\u001b[39;49;00m\u001b[43m,\u001b[49m\n\u001b[1;32m    957\u001b[0m \u001b[43m    \u001b[49m\u001b[43m)\u001b[49m\n\u001b[1;32m    959\u001b[0m log\u001b[38;5;241m.\u001b[39mdebug(\u001b[38;5;124m\"\u001b[39m\u001b[38;5;124mRaising connection error\u001b[39m\u001b[38;5;124m\"\u001b[39m)\n\u001b[1;32m    960\u001b[0m \u001b[38;5;28;01mraise\u001b[39;00m APIConnectionError(request\u001b[38;5;241m=\u001b[39mrequest) \u001b[38;5;28;01mfrom\u001b[39;00m \u001b[38;5;21;01merr\u001b[39;00m\n",
      "File \u001b[0;32m~/.conda/envs/sqlboy/lib/python3.10/site-packages/openai/_base_client.py:1021\u001b[0m, in \u001b[0;36mSyncAPIClient._retry_request\u001b[0;34m(self, options, cast_to, remaining_retries, response_headers, stream, stream_cls)\u001b[0m\n\u001b[1;32m   1017\u001b[0m \u001b[38;5;66;03m# In a synchronous context we are blocking the entire thread. Up to the library user to run the client in a\u001b[39;00m\n\u001b[1;32m   1018\u001b[0m \u001b[38;5;66;03m# different thread if necessary.\u001b[39;00m\n\u001b[1;32m   1019\u001b[0m time\u001b[38;5;241m.\u001b[39msleep(timeout)\n\u001b[0;32m-> 1021\u001b[0m \u001b[38;5;28;01mreturn\u001b[39;00m \u001b[38;5;28;43mself\u001b[39;49m\u001b[38;5;241;43m.\u001b[39;49m\u001b[43m_request\u001b[49m\u001b[43m(\u001b[49m\n\u001b[1;32m   1022\u001b[0m \u001b[43m    \u001b[49m\u001b[43moptions\u001b[49m\u001b[38;5;241;43m=\u001b[39;49m\u001b[43moptions\u001b[49m\u001b[43m,\u001b[49m\n\u001b[1;32m   1023\u001b[0m \u001b[43m    \u001b[49m\u001b[43mcast_to\u001b[49m\u001b[38;5;241;43m=\u001b[39;49m\u001b[43mcast_to\u001b[49m\u001b[43m,\u001b[49m\n\u001b[1;32m   1024\u001b[0m \u001b[43m    \u001b[49m\u001b[43mremaining_retries\u001b[49m\u001b[38;5;241;43m=\u001b[39;49m\u001b[43mremaining\u001b[49m\u001b[43m,\u001b[49m\n\u001b[1;32m   1025\u001b[0m \u001b[43m    \u001b[49m\u001b[43mstream\u001b[49m\u001b[38;5;241;43m=\u001b[39;49m\u001b[43mstream\u001b[49m\u001b[43m,\u001b[49m\n\u001b[1;32m   1026\u001b[0m \u001b[43m    \u001b[49m\u001b[43mstream_cls\u001b[49m\u001b[38;5;241;43m=\u001b[39;49m\u001b[43mstream_cls\u001b[49m\u001b[43m,\u001b[49m\n\u001b[1;32m   1027\u001b[0m \u001b[43m\u001b[49m\u001b[43m)\u001b[49m\n",
      "File \u001b[0;32m~/.conda/envs/sqlboy/lib/python3.10/site-packages/openai/_base_client.py:950\u001b[0m, in \u001b[0;36mSyncAPIClient._request\u001b[0;34m(self, cast_to, options, remaining_retries, stream, stream_cls)\u001b[0m\n\u001b[1;32m    947\u001b[0m log\u001b[38;5;241m.\u001b[39mdebug(\u001b[38;5;124m\"\u001b[39m\u001b[38;5;124mEncountered Exception\u001b[39m\u001b[38;5;124m\"\u001b[39m, exc_info\u001b[38;5;241m=\u001b[39m\u001b[38;5;28;01mTrue\u001b[39;00m)\n\u001b[1;32m    949\u001b[0m \u001b[38;5;28;01mif\u001b[39;00m retries \u001b[38;5;241m>\u001b[39m \u001b[38;5;241m0\u001b[39m:\n\u001b[0;32m--> 950\u001b[0m     \u001b[38;5;28;01mreturn\u001b[39;00m \u001b[38;5;28;43mself\u001b[39;49m\u001b[38;5;241;43m.\u001b[39;49m\u001b[43m_retry_request\u001b[49m\u001b[43m(\u001b[49m\n\u001b[1;32m    951\u001b[0m \u001b[43m        \u001b[49m\u001b[43moptions\u001b[49m\u001b[43m,\u001b[49m\n\u001b[1;32m    952\u001b[0m \u001b[43m        \u001b[49m\u001b[43mcast_to\u001b[49m\u001b[43m,\u001b[49m\n\u001b[1;32m    953\u001b[0m \u001b[43m        \u001b[49m\u001b[43mretries\u001b[49m\u001b[43m,\u001b[49m\n\u001b[1;32m    954\u001b[0m \u001b[43m        \u001b[49m\u001b[43mstream\u001b[49m\u001b[38;5;241;43m=\u001b[39;49m\u001b[43mstream\u001b[49m\u001b[43m,\u001b[49m\n\u001b[1;32m    955\u001b[0m \u001b[43m        \u001b[49m\u001b[43mstream_cls\u001b[49m\u001b[38;5;241;43m=\u001b[39;49m\u001b[43mstream_cls\u001b[49m\u001b[43m,\u001b[49m\n\u001b[1;32m    956\u001b[0m \u001b[43m        \u001b[49m\u001b[43mresponse_headers\u001b[49m\u001b[38;5;241;43m=\u001b[39;49m\u001b[38;5;28;43;01mNone\u001b[39;49;00m\u001b[43m,\u001b[49m\n\u001b[1;32m    957\u001b[0m \u001b[43m    \u001b[49m\u001b[43m)\u001b[49m\n\u001b[1;32m    959\u001b[0m log\u001b[38;5;241m.\u001b[39mdebug(\u001b[38;5;124m\"\u001b[39m\u001b[38;5;124mRaising connection error\u001b[39m\u001b[38;5;124m\"\u001b[39m)\n\u001b[1;32m    960\u001b[0m \u001b[38;5;28;01mraise\u001b[39;00m APIConnectionError(request\u001b[38;5;241m=\u001b[39mrequest) \u001b[38;5;28;01mfrom\u001b[39;00m \u001b[38;5;21;01merr\u001b[39;00m\n",
      "File \u001b[0;32m~/.conda/envs/sqlboy/lib/python3.10/site-packages/openai/_base_client.py:1021\u001b[0m, in \u001b[0;36mSyncAPIClient._retry_request\u001b[0;34m(self, options, cast_to, remaining_retries, response_headers, stream, stream_cls)\u001b[0m\n\u001b[1;32m   1017\u001b[0m \u001b[38;5;66;03m# In a synchronous context we are blocking the entire thread. Up to the library user to run the client in a\u001b[39;00m\n\u001b[1;32m   1018\u001b[0m \u001b[38;5;66;03m# different thread if necessary.\u001b[39;00m\n\u001b[1;32m   1019\u001b[0m time\u001b[38;5;241m.\u001b[39msleep(timeout)\n\u001b[0;32m-> 1021\u001b[0m \u001b[38;5;28;01mreturn\u001b[39;00m \u001b[38;5;28;43mself\u001b[39;49m\u001b[38;5;241;43m.\u001b[39;49m\u001b[43m_request\u001b[49m\u001b[43m(\u001b[49m\n\u001b[1;32m   1022\u001b[0m \u001b[43m    \u001b[49m\u001b[43moptions\u001b[49m\u001b[38;5;241;43m=\u001b[39;49m\u001b[43moptions\u001b[49m\u001b[43m,\u001b[49m\n\u001b[1;32m   1023\u001b[0m \u001b[43m    \u001b[49m\u001b[43mcast_to\u001b[49m\u001b[38;5;241;43m=\u001b[39;49m\u001b[43mcast_to\u001b[49m\u001b[43m,\u001b[49m\n\u001b[1;32m   1024\u001b[0m \u001b[43m    \u001b[49m\u001b[43mremaining_retries\u001b[49m\u001b[38;5;241;43m=\u001b[39;49m\u001b[43mremaining\u001b[49m\u001b[43m,\u001b[49m\n\u001b[1;32m   1025\u001b[0m \u001b[43m    \u001b[49m\u001b[43mstream\u001b[49m\u001b[38;5;241;43m=\u001b[39;49m\u001b[43mstream\u001b[49m\u001b[43m,\u001b[49m\n\u001b[1;32m   1026\u001b[0m \u001b[43m    \u001b[49m\u001b[43mstream_cls\u001b[49m\u001b[38;5;241;43m=\u001b[39;49m\u001b[43mstream_cls\u001b[49m\u001b[43m,\u001b[49m\n\u001b[1;32m   1027\u001b[0m \u001b[43m\u001b[49m\u001b[43m)\u001b[49m\n",
      "File \u001b[0;32m~/.conda/envs/sqlboy/lib/python3.10/site-packages/openai/_base_client.py:960\u001b[0m, in \u001b[0;36mSyncAPIClient._request\u001b[0;34m(self, cast_to, options, remaining_retries, stream, stream_cls)\u001b[0m\n\u001b[1;32m    950\u001b[0m         \u001b[38;5;28;01mreturn\u001b[39;00m \u001b[38;5;28mself\u001b[39m\u001b[38;5;241m.\u001b[39m_retry_request(\n\u001b[1;32m    951\u001b[0m             options,\n\u001b[1;32m    952\u001b[0m             cast_to,\n\u001b[0;32m   (...)\u001b[0m\n\u001b[1;32m    956\u001b[0m             response_headers\u001b[38;5;241m=\u001b[39m\u001b[38;5;28;01mNone\u001b[39;00m,\n\u001b[1;32m    957\u001b[0m         )\n\u001b[1;32m    959\u001b[0m     log\u001b[38;5;241m.\u001b[39mdebug(\u001b[38;5;124m\"\u001b[39m\u001b[38;5;124mRaising connection error\u001b[39m\u001b[38;5;124m\"\u001b[39m)\n\u001b[0;32m--> 960\u001b[0m     \u001b[38;5;28;01mraise\u001b[39;00m APIConnectionError(request\u001b[38;5;241m=\u001b[39mrequest) \u001b[38;5;28;01mfrom\u001b[39;00m \u001b[38;5;21;01merr\u001b[39;00m\n\u001b[1;32m    962\u001b[0m log\u001b[38;5;241m.\u001b[39mdebug(\n\u001b[1;32m    963\u001b[0m     \u001b[38;5;124m'\u001b[39m\u001b[38;5;124mHTTP Request: \u001b[39m\u001b[38;5;132;01m%s\u001b[39;00m\u001b[38;5;124m \u001b[39m\u001b[38;5;132;01m%s\u001b[39;00m\u001b[38;5;124m \u001b[39m\u001b[38;5;124m\"\u001b[39m\u001b[38;5;132;01m%i\u001b[39;00m\u001b[38;5;124m \u001b[39m\u001b[38;5;132;01m%s\u001b[39;00m\u001b[38;5;124m\"\u001b[39m\u001b[38;5;124m'\u001b[39m, request\u001b[38;5;241m.\u001b[39mmethod, request\u001b[38;5;241m.\u001b[39murl, response\u001b[38;5;241m.\u001b[39mstatus_code, response\u001b[38;5;241m.\u001b[39mreason_phrase\n\u001b[1;32m    964\u001b[0m )\n\u001b[1;32m    966\u001b[0m \u001b[38;5;28;01mtry\u001b[39;00m:\n",
      "\u001b[0;31mAPIConnectionError\u001b[0m: Connection error."
     ]
    }
   ],
   "source": [
    "#summarization\n",
    "pre_instruction_summary = PromptTemplate(input_variables=['table'], template=\n",
    "\"\"\"\n",
    "Instruction: Given the following table, you need to first summarize the contents of the table, then based on the summay, give a concluded description to each of the column.\n",
    "Table: {table}\n",
    "\n",
    "The output should use the following format: \n",
    "table summary: #summary for table contents\n",
    "column description: You need to output all the column names with description in angle brackets\n",
    "example: launched<The launched date for the competition> date<The date of the match>\n",
    "\"\"\")\n",
    "output = model.invoke([HumanMessage(content=pre_instruction_summary.format(table=formatter.format_html()))])"
   ]
  },
  {
   "cell_type": "code",
   "execution_count": 12,
   "id": "1c92ad66",
   "metadata": {},
   "outputs": [
    {
     "name": "stdout",
     "output_type": "stream",
     "text": [
      "table summary: This table contains information about tennis matches including the date, tournament, surface, partner, opponents, and score.\n",
      "\n",
      "column description: \n",
      "date<The date of the match>\n",
      "tournament<The name and location of the tournament>\n",
      "surface<The type of surface the match was played on>\n",
      "partner<The name of the player's doubles partner>\n",
      "opponents<The names of the opposing doubles team>\n",
      "score<The final score of the match, including sets won by each team>\n"
     ]
    }
   ],
   "source": [
    "print(output.content)"
   ]
  },
  {
   "cell_type": "code",
   "execution_count": 11,
   "id": "b4a1a169",
   "metadata": {},
   "outputs": [],
   "source": [
    "import os\n",
    "os.environ['LANGCHAIN_TRACING_V2'] = \"true\""
   ]
  },
  {
   "cell_type": "code",
   "execution_count": 10,
   "id": "799366bd",
   "metadata": {},
   "outputs": [
    {
     "ename": "KeyError",
     "evalue": "0",
     "output_type": "error",
     "traceback": [
      "\u001b[0;31m---------------------------------------------------------------------------\u001b[0m",
      "\u001b[0;31mKeyError\u001b[0m                                  Traceback (most recent call last)",
      "Cell \u001b[0;32mIn[10], line 11\u001b[0m\n\u001b[1;32m      9\u001b[0m test_sample \u001b[38;5;241m=\u001b[39m table_loader\u001b[38;5;241m.\u001b[39mdataset[\u001b[38;5;241m0\u001b[39m]\n\u001b[1;32m     10\u001b[0m formatter \u001b[38;5;241m=\u001b[39m TableFormat(\u001b[38;5;28mformat\u001b[39m\u001b[38;5;241m=\u001b[39m\u001b[38;5;124m'\u001b[39m\u001b[38;5;124mnone\u001b[39m\u001b[38;5;124m'\u001b[39m)\n\u001b[0;32m---> 11\u001b[0m output \u001b[38;5;241m=\u001b[39m \u001b[43maug\u001b[49m\u001b[38;5;241;43m.\u001b[39;49m\u001b[43mbatch_summary_aug\u001b[49m\u001b[43m(\u001b[49m\u001b[43mformatter\u001b[49m\u001b[43m,\u001b[49m\u001b[43m \u001b[49m\u001b[43mtable_loader\u001b[49m\u001b[38;5;241;43m.\u001b[39;49m\u001b[43mdataset\u001b[49m\u001b[43m[\u001b[49m\u001b[43m:\u001b[49m\u001b[38;5;241;43m2\u001b[39;49m\u001b[43m]\u001b[49m\u001b[43m,\u001b[49m\u001b[43m \u001b[49m\u001b[43mbatch_size\u001b[49m\u001b[38;5;241;43m=\u001b[39;49m\u001b[38;5;241;43m2\u001b[39;49m\u001b[43m,\u001b[49m\u001b[43m \u001b[49m\u001b[43moutput_token\u001b[49m\u001b[38;5;241;43m=\u001b[39;49m\u001b[38;5;28;43;01mTrue\u001b[39;49;00m\u001b[43m)\u001b[49m\n\u001b[1;32m     12\u001b[0m \u001b[38;5;66;03m# batch_data = table_loader.dataset[:2]\u001b[39;00m\n\u001b[1;32m     13\u001b[0m \n\u001b[1;32m     14\u001b[0m \u001b[38;5;66;03m# print([formatter.load_data_from_dic({key: value[i] for key, value in batch_data.items()}).format_html() for i in range(len(batch_data.keys())) ])\u001b[39;00m\n\u001b[1;32m     15\u001b[0m \u001b[38;5;66;03m# print([formatter.load_data_from_dic({key: value[i] for key, value in table_loader.dataset[:2].items()}).format_html() for i in range(2)])\u001b[39;00m\n",
      "File \u001b[0;32m~/zh/tabular_data/data_loader/table_augmentation.py:61\u001b[0m, in \u001b[0;36mTableAug.batch_summary_aug\u001b[0;34m(self, formatter, batch_data, batch_size, output_token)\u001b[0m\n\u001b[1;32m     57\u001b[0m llm_chain \u001b[38;5;241m=\u001b[39m LLMChain(\n\u001b[1;32m     58\u001b[0m     llm\u001b[38;5;241m=\u001b[39m\u001b[38;5;28mself\u001b[39m\u001b[38;5;241m.\u001b[39mllm, prompt\u001b[38;5;241m=\u001b[39mpre_instruction_summary, verbose\u001b[38;5;241m=\u001b[39m\u001b[38;5;28;01mFalse\u001b[39;00m)\n\u001b[1;32m     59\u001b[0m \u001b[38;5;28;01mwith\u001b[39;00m get_openai_callback() \u001b[38;5;28;01mas\u001b[39;00m cb:\n\u001b[1;32m     60\u001b[0m     \u001b[38;5;66;03m# add             \u001b[39;00m\n\u001b[0;32m---> 61\u001b[0m     batch_pred \u001b[38;5;241m=\u001b[39m llm_chain\u001b[38;5;241m.\u001b[39mbatch([formatter\u001b[38;5;241m.\u001b[39mload_data_from_dic(batch_data[i])\u001b[38;5;241m.\u001b[39mformat_html(batch_data[i][\u001b[38;5;124m'\u001b[39m\u001b[38;5;124mcaption\u001b[39m\u001b[38;5;124m'\u001b[39m]) \u001b[38;5;28;01mfor\u001b[39;00m i \u001b[38;5;129;01min\u001b[39;00m \u001b[38;5;28mrange\u001b[39m(batch_size)], return_only_outputs\u001b[38;5;241m=\u001b[39m\u001b[38;5;28;01mTrue\u001b[39;00m)\n\u001b[1;32m     63\u001b[0m \u001b[38;5;28;01mfor\u001b[39;00m i \u001b[38;5;129;01min\u001b[39;00m \u001b[38;5;28mrange\u001b[39m(\u001b[38;5;28mlen\u001b[39m(batch_pred)):\n\u001b[1;32m     64\u001b[0m     parts \u001b[38;5;241m=\u001b[39m batch_pred[i][\u001b[38;5;124m'\u001b[39m\u001b[38;5;124mtext\u001b[39m\u001b[38;5;124m'\u001b[39m]\u001b[38;5;241m.\u001b[39msplit(\u001b[38;5;124m'\u001b[39m\u001b[38;5;124mcolumn description\u001b[39m\u001b[38;5;124m'\u001b[39m)\n",
      "File \u001b[0;32m~/zh/tabular_data/data_loader/table_augmentation.py:61\u001b[0m, in \u001b[0;36m<listcomp>\u001b[0;34m(.0)\u001b[0m\n\u001b[1;32m     57\u001b[0m llm_chain \u001b[38;5;241m=\u001b[39m LLMChain(\n\u001b[1;32m     58\u001b[0m     llm\u001b[38;5;241m=\u001b[39m\u001b[38;5;28mself\u001b[39m\u001b[38;5;241m.\u001b[39mllm, prompt\u001b[38;5;241m=\u001b[39mpre_instruction_summary, verbose\u001b[38;5;241m=\u001b[39m\u001b[38;5;28;01mFalse\u001b[39;00m)\n\u001b[1;32m     59\u001b[0m \u001b[38;5;28;01mwith\u001b[39;00m get_openai_callback() \u001b[38;5;28;01mas\u001b[39;00m cb:\n\u001b[1;32m     60\u001b[0m     \u001b[38;5;66;03m# add             \u001b[39;00m\n\u001b[0;32m---> 61\u001b[0m     batch_pred \u001b[38;5;241m=\u001b[39m llm_chain\u001b[38;5;241m.\u001b[39mbatch([formatter\u001b[38;5;241m.\u001b[39mload_data_from_dic(\u001b[43mbatch_data\u001b[49m\u001b[43m[\u001b[49m\u001b[43mi\u001b[49m\u001b[43m]\u001b[49m)\u001b[38;5;241m.\u001b[39mformat_html(batch_data[i][\u001b[38;5;124m'\u001b[39m\u001b[38;5;124mcaption\u001b[39m\u001b[38;5;124m'\u001b[39m]) \u001b[38;5;28;01mfor\u001b[39;00m i \u001b[38;5;129;01min\u001b[39;00m \u001b[38;5;28mrange\u001b[39m(batch_size)], return_only_outputs\u001b[38;5;241m=\u001b[39m\u001b[38;5;28;01mTrue\u001b[39;00m)\n\u001b[1;32m     63\u001b[0m \u001b[38;5;28;01mfor\u001b[39;00m i \u001b[38;5;129;01min\u001b[39;00m \u001b[38;5;28mrange\u001b[39m(\u001b[38;5;28mlen\u001b[39m(batch_pred)):\n\u001b[1;32m     64\u001b[0m     parts \u001b[38;5;241m=\u001b[39m batch_pred[i][\u001b[38;5;124m'\u001b[39m\u001b[38;5;124mtext\u001b[39m\u001b[38;5;124m'\u001b[39m]\u001b[38;5;241m.\u001b[39msplit(\u001b[38;5;124m'\u001b[39m\u001b[38;5;124mcolumn description\u001b[39m\u001b[38;5;124m'\u001b[39m)\n",
      "\u001b[0;31mKeyError\u001b[0m: 0"
     ]
    }
   ],
   "source": [
    "#table_size\n",
    "def get_table_size():\n",
    "    return f'The table has {formatter.data.shape[0]} rows and {formatter.data.shape[1]} columns.'\n",
    "from langchain_openai import ChatOpenAI\n",
    "model = ChatOpenAI(model_name=\"gpt-3.5-turbo-0125\", openai_api_base=\"https://api.chatanywhere.cn/v1\", openai_api_key=\"sk-kxgtm71G6zwC44lglIF5CfiEVVzjjc39TOtppkNAwrVA2fUW\", temperature=0.1)\n",
    "from data_loader import TableAug,TableFormat\n",
    "aug = TableAug(model)\n",
    "# aug.schema_aug(test_sample)\n",
    "test_sample = table_loader.dataset[0]\n",
    "formatter = TableFormat(format='none')\n",
    "output = aug.batch_summary_aug(formatter, table_loader.dataset[:2], batch_size=2, output_token=True)\n",
    "# batch_data = table_loader.dataset[:2]\n",
    "\n",
    "# print([formatter.load_data_from_dic({key: value[i] for key, value in batch_data.items()}).format_html() for i in range(len(batch_data.keys())) ])\n",
    "# print([formatter.load_data_from_dic({key: value[i] for key, value in table_loader.dataset[:2].items()}).format_html() for i in range(2)])"
   ]
  },
  {
   "cell_type": "code",
   "execution_count": 9,
   "id": "9d08d4c5",
   "metadata": {},
   "outputs": [
    {
     "name": "stdout",
     "output_type": "stream",
     "text": [
      "{'text': 'table summary: The table provides information about different wind farms including their names, scheduled dates, capacity in megawatts, number of turbines, types of turbines, and locations.\\n\\ncolumn description: \\nwind farm<The name of the wind farm>\\nscheduled<The scheduled date for the wind farm>\\ncapacity (mw)<The capacity of the wind farm in megawatts>\\nturbines<The number of turbines at the wind farm>\\ntype<The type of turbines used at the wind farm>\\nlocation<The location of the wind farm>'}\n"
     ]
    }
   ],
   "source": [
    "print(output[0])"
   ]
  },
  {
   "cell_type": "code",
   "execution_count": 12,
   "id": "ffaeeba5",
   "metadata": {},
   "outputs": [
    {
     "data": {
      "text/plain": [
       "(\"Golf tournament winners' information\",\n",
       " \"player<The name of the player>\\ncountry<The country the player represents>\\nyear (s) won<The year(s) the player won the tournament>\\ntotal<The total score of the player>\\nto par<The score in relation to par (under par or over par)>\\nfinish<The player's finishing position in the tournament>\")"
      ]
     },
     "execution_count": 12,
     "metadata": {},
     "output_type": "execute_result"
    }
   ],
   "source": [
    "formatter = TableFormat(format='none',data=test_sample)\n",
    "aug.summary_aug(formatter)"
   ]
  },
  {
   "cell_type": "code",
   "execution_count": null,
   "id": "999286c9",
   "metadata": {},
   "outputs": [],
   "source": []
  },
  {
   "cell_type": "code",
   "execution_count": null,
   "id": "ed509fa5",
   "metadata": {},
   "outputs": [],
   "source": []
  },
  {
   "cell_type": "code",
   "execution_count": null,
   "id": "10112f0b",
   "metadata": {},
   "outputs": [],
   "source": []
  },
  {
   "cell_type": "markdown",
   "id": "fe409023",
   "metadata": {},
   "source": [
    "### Few Shot learning"
   ]
  },
  {
   "cell_type": "code",
   "execution_count": 9,
   "id": "6daf1ed6",
   "metadata": {},
   "outputs": [
    {
     "name": "stdout",
     "output_type": "stream",
     "text": [
      "Instruction: Given the following table and claim, let's first summarize the contents of the rows and columns of the table, and then select relevent rows/columns in the given table that support or oppose the statement.\n",
      "\n",
      "\n",
      "Table: <table>\n",
      "<thead>\n",
      "<tr><th>  wind farm</th><th>  scheduled</th><th>  capacity (mw)</th><th>  turbines</th><th>              type</th><th>      location</th></tr>\n",
      "</thead>\n",
      "<tbody>\n",
      "<tr><td>codling    </td><td>unknown    </td><td>1100           </td><td>220       </td><td>unknown           </td><td>county wicklow</td></tr>\n",
      "<tr><td>carrowleagh</td><td>2012       </td><td>36.8           </td><td>16        </td><td>enercon e - 70 2.3</td><td>county cork   </td></tr>\n",
      "<tr><td>gortahile  </td><td>2010 autumn</td><td>20             </td><td>8         </td><td>nordex n90        </td><td>county laois  </td></tr>\n",
      "</tbody>\n",
      "</table>\n",
      "Claim: the scheduled date for the farm with 17 turbine be 2012\n",
      "Summary: The columns in the table are \"wind farm, scheduled, capacity (mw), turbines, type, and location.\" The rows in the table represent different wind farms, with information about their scheduled dates, capacity, number of turbines, type, and location.\n",
      "Subtable: Columns(wind farm, scheduled, turbines), Rows(12)\n",
      "\n",
      "\n",
      "Table: <table>\n",
      "<thead>\n",
      "<tr><th>  kanji</th><th>             name</th><th>                     builder</th><th>     laid down</th><th>     launched</th><th>      completed</th></tr>\n",
      "</thead>\n",
      "<tbody>\n",
      "<tr><td>望月   </td><td>mochizuki dd - 33</td><td>uraga dock company , japan  </td><td>23 march 1926 </td><td>28 april 1927</td><td>31 october 1927</td></tr>\n",
      "<tr><td>三日月 </td><td>mikazuki dd - 32 </td><td>sasebo naval arsenal , japan</td><td>21 august 1925</td><td>12 july 1926 </td><td>5 may 1927     </td></tr>\n",
      "<tr><td>睦月   </td><td>mutsuki dd - 19  </td><td>sasebo naval arsenal , japan</td><td>21 may 1924   </td><td>23 july 1925 </td><td>25 march 1926  </td></tr>\n",
      "</tbody>\n",
      "</table>\n",
      "Claim: uraga dock company produce the most destroyer on the list , at 3\n",
      "Summary: The table provides information about different destroyers, including their kanji (Japanese characters), names, builders, dates when they were laid down, launched, and completed.\n",
      "Subtable: Columns(kanji, builder), Rows(ALL)\n",
      "\n",
      "\n",
      "Table: <table>\n",
      "<thead>\n",
      "<tr><th>               event name</th><th>  established</th><th>  category</th><th>  sub category</th><th>           main venue</th></tr>\n",
      "</thead>\n",
      "<tbody>\n",
      "<tr><td>the frye festival        </td><td>2000         </td><td>arts      </td><td>literary      </td><td>university of moncton</td></tr>\n",
      "<tr><td>world wine &amp; food expo   </td><td>1990         </td><td>arts      </td><td>food &amp; drink  </td><td>moncton coliseum     </td></tr>\n",
      "<tr><td>dieppe kite international</td><td>2001         </td><td>sporting  </td><td>kite flying   </td><td>dover park           </td></tr>\n",
      "</tbody>\n",
      "</table>\n",
      "Claim: touchdown atlantic , in the category of sporting , be establish in 2010\n",
      "    \n"
     ]
    }
   ],
   "source": [
    "from langchain.prompts.prompt import PromptTemplate\n",
    "from langchain.prompts.few_shot import FewShotPromptTemplate\n",
    "from data_loader import TableFormat\n",
    "summary_examples = ['The columns in the table are \"wind farm, scheduled, capacity (mw), turbines, type, and location.\" The rows in the table represent different wind farms, with information about their scheduled dates, capacity, number of turbines, type, and location.',\n",
    "                    \"The table provides information about different destroyers, including their kanji (Japanese characters), names, builders, dates when they were laid down, launched, and completed.\"]\n",
    "subtable_examples = ['Columns(wind farm, scheduled, turbines), Rows(12)',\n",
    "                    'Columns(kanji, builder), Rows(ALL)']\n",
    "inds = [0, 100]\n",
    "examples_prompt = PromptTemplate(input_variables=[\"table\", \"claim\", \"summary\", \"subtable\"], template=\n",
    "\"\"\"\n",
    "Table: {table}\n",
    "Claim: {claim}\n",
    "Summary: {summary}\n",
    "Subtable: {subtable}\"\"\")\n",
    "formatter = TableFormat(format='none', data=test_sample, use_sampling=True)\n",
    "num_k = 2\n",
    "# examples = [examples_prompt.format(**{\"table\": TableFormat(format='none', data=table_loader.dataset[inds[i]]).format_html(),\n",
    "#                                     \"claim\": table_loader.dataset[inds[i]]['statement'],\n",
    "#                                     \"summary\": summary_examples[i],\n",
    "#                                     \"subtable\": subtable_examples[i]}) for i in range(num_k)]\n",
    "\n",
    "examples_dict = [{\"table\": TableFormat(format='none', data=table_loader.dataset[inds[i]], use_sampling=True).format_html(),\n",
    "                                    \"claim\": table_loader.dataset[inds[i]]['statement'],\n",
    "                                    \"summary\": summary_examples[i],\n",
    "                                    \"subtable\": subtable_examples[i]} for i in range(num_k)]\n",
    "prompt = FewShotPromptTemplate(\n",
    "    examples=examples_dict,\n",
    "    example_prompt=examples_prompt,\n",
    "    prefix=\"Instruction: Given the following table and claim, let's first summarize the contents of the rows and columns of the table, and then select relevent rows/columns in the given table that support or oppose the statement.\",\n",
    "    suffix=\n",
    "    \"\"\"\n",
    "Table: {table}\n",
    "Claim: {claim}\n",
    "    \"\"\",\n",
    "    input_variables=[\"table\", \"claim\"],\n",
    ")\n",
    "print(prompt.format(table=formatter.format_html(), claim=test_sample['statement']))"
   ]
  },
  {
   "cell_type": "code",
   "execution_count": 5,
   "id": "9d826faf",
   "metadata": {},
   "outputs": [
    {
     "data": {
      "text/plain": [
       "AIMessage(content='Summary: The table provides information about different events, including their names, establishment years, categories, subcategories, and main venues.\\nSubtable: Columns(event name, established, category), Rows(2)', response_metadata={'token_usage': {'completion_tokens': 41, 'prompt_tokens': 931, 'total_tokens': 972}, 'model_name': 'gpt-3.5-turbo', 'system_fingerprint': None, 'finish_reason': 'stop', 'logprobs': None})"
      ]
     },
     "execution_count": 5,
     "metadata": {},
     "output_type": "execute_result"
    }
   ],
   "source": [
    "from data_loader import TableFormat\n",
    "from langchain_openai import ChatOpenAI, OpenAI\n",
    "from langchain_core.messages import HumanMessage\n",
    "from langchain.prompts.prompt import PromptTemplate\n",
    "model = ChatOpenAI(model_name=\"gpt-3.5-turbo\", openai_api_base=\"https://api.chatanywhere.cn/v1\", openai_api_key=\"sk-kxgtm71G6zwC44lglIF5CfiEVVzjjc39TOtppkNAwrVA2fUW\")\n",
    "model.invoke([HumanMessage(content=prompt.format(table=formatter.format_html(), claim=test_sample['statement']))])"
   ]
  },
  {
   "cell_type": "markdown",
   "id": "29768c0b",
   "metadata": {},
   "source": [
    "### Few-shot for operations"
   ]
  },
  {
   "cell_type": "code",
   "execution_count": 38,
   "id": "c6d644a8",
   "metadata": {},
   "outputs": [
    {
     "name": "stdout",
     "output_type": "stream",
     "text": [
      "You are a brilliant table executor with the capabilities information retrieval, table parsing, table partition and semantic understanding who can understand the structural information of the table.\n",
      "Instruction: Given the following table and claim, you will output the operations corresponding to each column which can help us judging the truth or falsity of claim.\n",
      "Operations: DELETE(delete column unrelevant to the claim), KEEP(keep column relevant to the claim), GROUP BY(combine aggregate functions and group the result set by one or more columns), COUNT(returns the number of rows in column), AVG(returns the average value of a numeric column), SUM(returns the sum of a numeric column), MAX(returns the max value of a numeric column), MIN(returns the min value of a numeric column), ORDER BY(sort the value in ascending order)\n",
      "\n",
      "\n",
      "Table: <table>\n",
      "<thead>\n",
      "<tr><th>  wind farm</th><th>  scheduled</th><th>  capacity (mw)</th><th>  turbines</th><th>              type</th><th>      location</th></tr>\n",
      "</thead>\n",
      "<tbody>\n",
      "<tr><td>codling    </td><td>unknown    </td><td>1100           </td><td>220       </td><td>unknown           </td><td>county wicklow</td></tr>\n",
      "<tr><td>carrowleagh</td><td>2012       </td><td>36.8           </td><td>16        </td><td>enercon e - 70 2.3</td><td>county cork   </td></tr>\n",
      "<tr><td>gortahile  </td><td>2010 autumn</td><td>20             </td><td>8         </td><td>nordex n90        </td><td>county laois  </td></tr>\n",
      "</tbody>\n",
      "</table>\n",
      "Claim: the scheduled date for the farm with 17 turbine be 2012\n",
      "Output: wind farm<DELETE>, scheduled<KEEP>, capacity (mw)<DELETE>, turbines<KEEP>, type<KEEP>, location<KEEP>\n",
      "\n",
      "\n",
      "Table: <table>\n",
      "<thead>\n",
      "<tr><th>               event name</th><th>  established</th><th>  category</th><th>  sub category</th><th>           main venue</th></tr>\n",
      "</thead>\n",
      "<tbody>\n",
      "<tr><td>the frye festival        </td><td>2000         </td><td>arts      </td><td>literary      </td><td>university of moncton</td></tr>\n",
      "<tr><td>world wine &amp; food expo   </td><td>1990         </td><td>arts      </td><td>food &amp; drink  </td><td>moncton coliseum     </td></tr>\n",
      "<tr><td>dieppe kite international</td><td>2001         </td><td>sporting  </td><td>kite flying   </td><td>dover park           </td></tr>\n",
      "</tbody>\n",
      "</table>\n",
      "Claim: touchdown atlantic , in the category of sporting , be establish in 2010\n",
      "Output: event name<KEEP> established<KEEP> category<KEEP> sub category<DELETE> main venue<DELETE>\n",
      "\n",
      "\n",
      "Table: <table>\n",
      "<thead>\n",
      "<tr><th>            date</th><th>        tournament</th><th>  surface</th><th>        partner</th><th>                                     opponents</th><th>                score</th></tr>\n",
      "</thead>\n",
      "<tbody>\n",
      "<tr><td>11 february 2008</td><td>mallorca 2 , spain</td><td>clay     </td><td>stephanie vogt </td><td>leticia costas - moreira maite gabarrus alonso</td><td>7 - 6 (7 - 2) , 6 - 3</td></tr>\n",
      "<tr><td>8 february 2010 </td><td>cali , colombia   </td><td>clay     </td><td>edina gallovits</td><td>estrella cabeza candella laura pous tió       </td><td>3 - 6 , 6 - 3 ,      </td></tr>\n",
      "<tr><td>28 april 2008   </td><td>makarska , croatia</td><td>clay     </td><td>stephanie vogt </td><td>tadeja majerić maša zec peškirič              </td><td>7 - 5 , 6 - 2        </td></tr>\n",
      "</tbody>\n",
      "</table>\n",
      "Thought: your reason here\n",
      "Claim: polona hercog partner with alberta brianti after she have stephanie vogt as the partner\n",
      "    \n"
     ]
    }
   ],
   "source": [
    "from data_loader import TableFormat\n",
    "from langchain_openai import ChatOpenAI, OpenAI\n",
    "from langchain_core.messages import HumanMessage\n",
    "from langchain.prompts.few_shot import FewShotPromptTemplate\n",
    "from langchain.prompts.prompt import PromptTemplate\n",
    "model = ChatOpenAI(model_name=\"gpt-3.5-turbo-0125\", openai_api_base=\"https://api.chatanywhere.cn/v1\", openai_api_key=\"sk-kxgtm71G6zwC44lglIF5CfiEVVzjjc39TOtppkNAwrVA2fUW\")\n",
    "formatter = TableFormat(format='none', data=test_sample, use_sampling=True)\n",
    "inds = [0,2]\n",
    "summary_examples = ['The columns in the table are \"wind farm, scheduled, capacity (mw), turbines, type, and location.\" The rows in the table represent different wind farms, with information about their scheduled dates, capacity, number of turbines, type, and location.',\n",
    "                    \"The table provides information about different events, including their names, establishment years, categories, subcategories, and main venues.\"]\n",
    "Output_examples = ['wind farm<DELETE>, scheduled<KEEP>, capacity (mw)<DELETE>, turbines<KEEP>, type<KEEP>, location<KEEP>', 'event name<KEEP> established<KEEP> category<KEEP> sub category<DELETE> main venue<DELETE>']\n",
    "examples_prompt = PromptTemplate(input_variables=[\"table\", \"claim\", \"output\"], template=\n",
    "\"\"\"\n",
    "Table: {table}\n",
    "Claim: {claim}\n",
    "Output: {output}\"\"\")\n",
    "num_k = 2\n",
    "examples_dict = [{\"table\": TableFormat(format='none', data=table_loader.dataset[inds[i]], use_sampling=True).format_html(),\n",
    "                                    \"claim\": table_loader.dataset[inds[i]]['statement'],\n",
    "                                    # \"summary\": summary_examples[i],\n",
    "                                    \"output\": Output_examples[i]} for i in range(num_k)]\n",
    "prompt = FewShotPromptTemplate(\n",
    "    examples=examples_dict,\n",
    "    example_prompt=examples_prompt,\n",
    "    prefix=\"\"\"You are a brilliant table executor with the capabilities information retrieval, table parsing, table partition and semantic understanding who can understand the structural information of the table.\n",
    "Instruction: Given the following table and claim, you will output the operations corresponding to each column which can help us judging the truth or falsity of claim.\n",
    "Operations: DELETE(delete column unrelevant to the claim), KEEP(keep column relevant to the claim), GROUP BY(combine aggregate functions and group the result set by one or more columns), COUNT(returns the number of rows in column), AVG(returns the average value of a numeric column), SUM(returns the sum of a numeric column), MAX(returns the max value of a numeric column), MIN(returns the min value of a numeric column), ORDER BY(sort the value in ascending order)\"\"\",\n",
    "    suffix=\n",
    "    \"\"\"\n",
    "Table: {table}\n",
    "Thought: your reason here\n",
    "Claim: {claim}\n",
    "    \"\"\",\n",
    "    input_variables=[\"table\", \"claim\"],\n",
    ")\n",
    "print(prompt.format(table=formatter.format_html(), claim=test_sample['statement']))\n",
    "\n",
    "# output = model.invoke([HumanMessage(content=prompt.format(table=formatter.format_html(), claim=test_sample['statement']))])\n",
    "\n"
   ]
  },
  {
   "cell_type": "code",
   "execution_count": 39,
   "id": "03387f96",
   "metadata": {},
   "outputs": [
    {
     "name": "stdout",
     "output_type": "stream",
     "text": [
      "content='Output: date<DELETE>, tournament<DELETE>, surface<DELETE>, partner<KEEP>, opponents<KEEP>, score<DELETE>' response_metadata={'token_usage': {'completion_tokens': 26, 'prompt_tokens': 1037, 'total_tokens': 1063}, 'model_name': 'gpt-3.5-turbo-0125', 'system_fingerprint': 'fp_b28b39ffa8', 'finish_reason': 'stop', 'logprobs': None}\n"
     ]
    }
   ],
   "source": [
    "output = model.invoke([HumanMessage(content=prompt.format(table=formatter.format_html(), claim=test_sample['statement']))])\n",
    "print(output)"
   ]
  },
  {
   "cell_type": "code",
   "execution_count": 35,
   "id": "741b809e",
   "metadata": {},
   "outputs": [
    {
     "name": "stdout",
     "output_type": "stream",
     "text": [
      "+------------------+-----------------------------------+-----------+---------------------+------------------------------------------------+-----------------------+\n",
      "| date             | tournament                        | surface   | partner             | opponents                                      | score                 |\n",
      "|------------------+-----------------------------------+-----------+---------------------+------------------------------------------------+-----------------------|\n",
      "| 15 january 2007  | algiers 2 , algeria               | clay      | rushmi chakravarthi | barbora matusova anna savitskaya               | 6 - 2 , 6 - 0         |\n",
      "| 11 february 2008 | mallorca 2 , spain                | clay      | stephanie vogt      | leticia costas - moreira maite gabarrus alonso | 7 - 6 (7 - 2) , 6 - 3 |\n",
      "| 28 april 2008    | makarska , croatia                | clay      | stephanie vogt      | tadeja majerić maša zec peškirič               | 7 - 5 , 6 - 2         |\n",
      "| 8 september 2008 | sarajevo 2 , bosnia - herzegovina | clay      | alberta brianti     | çağla büyükakçay julia glushko                 | 6 - 4 , 7 - 5         |\n",
      "| 8 february 2010  | cali , colombia                   | clay      | edina gallovits     | estrella cabeza candella laura pous tió        | 3 - 6 , 6 - 3 ,       |\n",
      "+------------------+-----------------------------------+-----------+---------------------+------------------------------------------------+-----------------------+\n",
      "polona hercog partner with alberta brianti after she have stephanie vogt as the partner\n",
      "1\n"
     ]
    }
   ],
   "source": [
    "print(formatter.format_psql())\n",
    "print(test_sample['statement'])\n",
    "print(test_sample['label'])"
   ]
  },
  {
   "cell_type": "markdown",
   "id": "bc0e7d96",
   "metadata": {},
   "source": [
    "## Zero-shot learning\n"
   ]
  },
  {
   "cell_type": "code",
   "execution_count": 22,
   "id": "29fa5951",
   "metadata": {},
   "outputs": [
    {
     "name": "stdout",
     "output_type": "stream",
     "text": [
      "uraga dock company produce the most destroyer on the list , at 3\n",
      "+----+---------+-------------------+--------------------------------+------------------+------------------+-------------------+\n",
      "|    | kanji   | name              | builder                        | laid down        | launched         | completed         |\n",
      "|----+---------+-------------------+--------------------------------+------------------+------------------+-------------------|\n",
      "|  0 | 睦月    | mutsuki dd - 19   | sasebo naval arsenal , japan   | 21 may 1924      | 23 july 1925     | 25 march 1926     |\n",
      "|  1 | 如月    | kisaragi dd - 21  | maizuru naval arsenal , japan  | 3 june 1924      | 5 june 1925      | 21 december 1925  |\n",
      "|  2 | 彌生    | yayoi dd - 23     | uraga dock company , japan     | 11 january 1924  | 11 july 1925     | 28 august 1926    |\n",
      "|  3 | 卯月    | uzuki dd - 25     | ishikawajima shipyards , japan | 11 january 1924  | 15 october 1925  | 14 september 1926 |\n",
      "|  4 | 皐月    | satsuki dd - 27   | fujinagata shipyards , japan   | 1 december 1924  | 25 march 1925    | 15 november 1925  |\n",
      "|  5 | 水無月  | minazuki dd - 28  | uraga dock company , japan     | 24 march 1924    | 25 march 1926    | 22 march 1927     |\n",
      "|  6 | 文月    | fumizuki dd - 29  | fujinagata shipyards , japan   | 20 october 1924  | 16 february 1926 | 3 july 1926       |\n",
      "|  7 | 長月    | nagatsuki dd - 30 | ishikawajima shipyards , japan | 16 april 1925    | 6 october 1926   | 30 april 1927     |\n",
      "|  8 | 菊月    | kikuzuki dd - 31  | maizuru naval arsenal , japan  | 15 june 1925     | 15 may 1926      | 20 november 1926  |\n",
      "|  9 | 三日月  | mikazuki dd - 32  | sasebo naval arsenal , japan   | 21 august 1925   | 12 july 1926     | 5 may 1927        |\n",
      "| 10 | 望月    | mochizuki dd - 33 | uraga dock company , japan     | 23 march 1926    | 28 april 1927    | 31 october 1927   |\n",
      "| 11 | 夕月    | yūzuki dd - 34    | fujinagata shipyards , japan   | 27 november 1926 | 4 march 1927     | 25 july 1927      |\n",
      "+----+---------+-------------------+--------------------------------+------------------+------------------+-------------------+\n"
     ]
    }
   ],
   "source": [
    "from tabulate import tabulate\n",
    "formatter = TableFormat(format='none', data=test_sample)\n",
    "print(test_sample['statement'])\n",
    "print(tabulate(formatter.data, headers=formatter.data.columns, tablefmt='psql'))\n",
    "# print('Summary: The table provides information about different events, including their names, establishment years, categories, subcategories, and main venues.\\nSubtable: Columns(event name, established, category), Rows(2)')"
   ]
  },
  {
   "cell_type": "code",
   "execution_count": 11,
   "id": "43e7abc6",
   "metadata": {},
   "outputs": [],
   "source": [
    "# for sample in table_loader.dataset:\n",
    "#     print(sample)\n",
    "#     test_sample = sample\n",
    "#     break\n",
    "\n",
    "from data_loader import TableFormat\n",
    "from langchain_openai import ChatOpenAI, OpenAI\n",
    "from langchain_core.messages import HumanMessage\n",
    "from langchain.prompts.prompt import PromptTemplate\n",
    "model = ChatOpenAI(model_name=\"gpt-3.5-turbo\", openai_api_base=\"https://api.chatanywhere.cn/v1\", openai_api_key=\"sk-kxgtm71G6zwC44lglIF5CfiEVVzjjc39TOtppkNAwrVA2fUW\")\n",
    "formatter = TableFormat(format='none', data=test_sample, use_sampling=True)\n",
    "inds = [0, 100]\n",
    "Output_examples = ['event name(KEEP) established(KEEP) category(KEEP) sub category(DELETE) main venue(DELETE)', 'wind farm, scheduled, capacity (mw), turbines, type, and location.']\n",
    "pre_instruction = PromptTemplate(input_variables=[\"table\", \"claim\"], template=\n",
    "\"\"\"\n",
    "Instruction: Given the following table and claim, let's first summarize the contents of the table, and then output the operations corresponding to each column which can help us judging the truth or falsity of claim.\n",
    "Operations: DELETE, KEEP, GROUP BY, COUNT, AVG, SUM, MAX, MIN, ORDER BY\n",
    "\n",
    "Table: {table}\n",
    "Claim: {claim}\n",
    "Output:\n",
    "\"\"\")\n",
    "# \n",
    "output = model.invoke([HumanMessage(content=pre_instruction.format(table=formatter.format_html(), claim=test_sample['statement']))])\n",
    "\n"
   ]
  },
  {
   "cell_type": "code",
   "execution_count": 13,
   "id": "9a0d8705",
   "metadata": {},
   "outputs": [
    {
     "name": "stdout",
     "output_type": "stream",
     "text": [
      "Summary of the contents of the rows and columns of the table:\n",
      "\n",
      "Rows:\n",
      "1. Event name: The Frye Festival\n",
      "   Established: 2000\n",
      "   Category: Arts\n",
      "   Sub category: Literary\n",
      "   Main venue: University of Moncton\n",
      "\n",
      "2. Event name: World Wine & Food Expo\n",
      "   Established: 1990\n",
      "   Category: Arts\n",
      "   Sub category: Food & Drink\n",
      "   Main venue: Moncton Coliseum\n",
      "\n",
      "3. Event name: Dieppe Kite International\n",
      "   Established: 2001\n",
      "   Category: Sporting\n",
      "   Sub category: Kite Flying\n",
      "   Main venue: Dover Park\n",
      "\n",
      "Columns:\n",
      "1. Event name\n",
      "2. Established\n",
      "3. Category\n",
      "4. Sub category\n",
      "5. Main venue\n",
      "\n",
      "Operations corresponding to each column that can help us judge the truth or falsity of the claim:\n",
      "\n",
      "1. Event name: No specific operation is necessary for this column to judge the claim.\n",
      "2. Established: We can use the operation MIN to find the earliest establishment year.\n",
      "3. Category: We can use the operation GROUP BY to group events by category and then compare if the given category exists.\n",
      "4. Sub category: No specific operation is necessary for this column to judge the claim.\n",
      "5. Main venue: No specific operation is necessary for this column to judge the claim.\n",
      "\n",
      "Based on the claim, the operations we can use are:\n",
      "- MIN on the \"Established\" column to find the earliest establishment year.\n",
      "- GROUP BY on the \"Category\" column to group events by category and compare if the given category exists.\n"
     ]
    }
   ],
   "source": [
    "print(output.content)"
   ]
  },
  {
   "cell_type": "code",
   "execution_count": 40,
   "id": "650b53bf",
   "metadata": {},
   "outputs": [
    {
     "name": "stdout",
     "output_type": "stream",
     "text": [
      "+----+--------------------------------------------+---------------+----------------+----------------+--------------------------+\n",
      "|    | event name                                 |   established | category       | sub category   | main venue               |\n",
      "|----+--------------------------------------------+---------------+----------------+----------------+--------------------------|\n",
      "|  0 | dieppe kite international                  |          2001 | sporting       | kite flying    | dover park               |\n",
      "|  1 | the frye festival                          |          2000 | arts           | literary       | university of moncton    |\n",
      "|  2 | hubcap comedy festival                     |          2000 | arts           | comedy         | various                  |\n",
      "|  3 | touchdown atlantic                         |          2010 | sporting       | football       | moncton stadium          |\n",
      "|  4 | atlantic nationals automotive extravaganza |          2000 | transportation | automotive     | moncton coliseum         |\n",
      "|  5 | world wine & food expo                     |          1990 | arts           | food & drink   | moncton coliseum         |\n",
      "|  6 | shediac lobster festival                   |          1950 | arts           | food & drink   | shediac festival grounds |\n",
      "|  7 | mosaã¯q multicultural festival             |          2004 | festival       | multicultural  | moncton city hall plaza  |\n",
      "+----+--------------------------------------------+---------------+----------------+----------------+--------------------------+\n",
      "Summary: The table provides information about different events, including their names, establishment years, categories, subcategories, and main venues.\n",
      "Subtable: Columns(event name, established, category), Rows(touchdown atlantic)\n"
     ]
    }
   ],
   "source": [
    "from tabulate import tabulate\n",
    "print(tabulate(formatter.data, headers=formatter.data.columns, tablefmt='psql'))\n",
    "print('Summary: The table provides information about different events, including their names, establishment years, categories, subcategories, and main venues.\\nSubtable: Columns(event name, established, category), Rows(touchdown atlantic)')"
   ]
  },
  {
   "cell_type": "code",
   "execution_count": 41,
   "id": "fe7ca0bb",
   "metadata": {},
   "outputs": [
    {
     "name": "stdout",
     "output_type": "stream",
     "text": [
      "touchdown atlantic , in the category of sporting , be establish in 2010\n"
     ]
    }
   ],
   "source": [
    "print(test_sample['statement'])"
   ]
  },
  {
   "cell_type": "code",
   "execution_count": 38,
   "id": "b0fc7b08",
   "metadata": {},
   "outputs": [],
   "source": [
    "import os\n",
    "from tenacity import retry, stop_after_attempt, wait_random_exponential\n",
    "from typing import List\n",
    "from openai import OpenAI\n",
    "class Config:\n",
    "    def __init__(self) -> None:\n",
    "        self.openai_api_key = \"sk-kxgtm71G6zwC44lglIF5CfiEVVzjjc39TOtppkNAwrVA2fUW\"\n",
    "        self.base_url = \"https://api.chatanywhere.cn/v1\"\n",
    "        self.model = \"gpt-3.5-turbo\"\n",
    "\n",
    "class CallLLM:\n",
    "    \"\"\"Class for calling the OpenAI Language Model API.\"\"\"\n",
    "\n",
    "    def __init__(self, config: Config):\n",
    "        self.client = OpenAI(api_key=config.openai_api_key,\n",
    "                             base_url=config.base_url)\n",
    "        self.model = config.model\n",
    "        \n",
    "    @retry(wait=wait_random_exponential(min=30, max=60), stop=stop_after_attempt(1000))\n",
    "    def generate_text(self, prompt: List[str]) -> List[str]:\n",
    "        \"\"\"Generate text based on the prompt and instruction.\"\"\"\n",
    "\n",
    "            # batched examples, with xx completions per request\n",
    "        response = self.client.chat.completions.create(\n",
    "            model=self.model,\n",
    "            messages=[{\"role\": \"user\", \"content\": prompt}], \n",
    "            temperature=0,\n",
    "            max_tokens=96,\n",
    "            top_p=1.0,\n",
    "            frequency_penalty=0.0,\n",
    "            presence_penalty=0.0,\n",
    "        )\n",
    "        # match completions to prompts by index\n",
    "        return response.choices[0].message.content.strip()\n",
    "configs = Config()  \n",
    "llm = CallLLM(config=configs)\n"
   ]
  },
  {
   "cell_type": "code",
   "execution_count": 39,
   "id": "957617c6",
   "metadata": {},
   "outputs": [
    {
     "data": {
      "text/plain": [
       "'1'"
      ]
     },
     "execution_count": 39,
     "metadata": {},
     "output_type": "execute_result"
    }
   ],
   "source": [
    "\n",
    "input_text = \"\\n\".join(input)\n",
    "llm.generate_text(input_text)"
   ]
  },
  {
   "cell_type": "code",
   "execution_count": 15,
   "id": "c0fee333",
   "metadata": {},
   "outputs": [],
   "source": [
    "import pandas as pd\n",
    "def process_input(sample, instruction):\n",
    "    df = pd.DataFrame(columns=sample[\"table\"][\"header\"])\n",
    "    for i, line in enumerate(sample['table']['rows']):\n",
    "        df.loc[i] = line\n",
    "        \n",
    "    texts = [instruction,\n",
    "          \"The database table DF is shown as follows: \\n\",\n",
    "          df.to_html(),\n",
    "          \"query:\",\n",
    "          sample['statement'],\n",
    "           \"Output the code braced by '```'. \\n SQL:\"]\n",
    "    \n",
    "    label = sample['label']\n",
    "    return \"\\n\".join(texts), label \n",
    "    "
   ]
  },
  {
   "cell_type": "code",
   "execution_count": 4,
   "id": "ec355fa2",
   "metadata": {},
   "outputs": [],
   "source": [
    "subtable_instruction = \"\"\"\n",
    "You are a SQLite expert. Given an input query, identify critical values and ranges of the table, then create a syntactically correct SQLite query to create a VIEW. To create a syntactically correct SQL view, the selected data within this view must be helpful in answering the question. During the construction of the view, if column names are confusing, rename the columns accordingly.\n",
    "\"\"\""
   ]
  },
  {
   "cell_type": "code",
   "execution_count": 16,
   "id": "604321c1",
   "metadata": {},
   "outputs": [
    {
     "name": "stdout",
     "output_type": "stream",
     "text": [
      "('\\nYou are a SQLite expert. Given an input query, identify critical values and ranges of the table, then create a syntactically correct SQLite query to create a VIEW. To create a syntactically correct SQL view, the selected data within this view must be helpful in answering the question. During the construction of the view, if column names are confusing, rename the columns accordingly.\\n\\nThe database table DF is shown as follows: \\n\\n<table border=\"1\" class=\"dataframe\">\\n  <thead>\\n    <tr style=\"text-align: right;\">\\n      <th></th>\\n      <th>date</th>\\n      <th>result</th>\\n      <th>score</th>\\n      <th>brazil scorers</th>\\n      <th>competition</th>\\n    </tr>\\n  </thead>\\n  <tbody>\\n    <tr>\\n      <th>0</th>\\n      <td>may 11 , 1919</td>\\n      <td>w</td>\\n      <td>6 - 0</td>\\n      <td>friedenreich (3) , neco (2) , haroldo</td>\\n      <td>south american championship</td>\\n    </tr>\\n    <tr>\\n      <th>1</th>\\n      <td>may 18 , 1919</td>\\n      <td>w</td>\\n      <td>3 - 1</td>\\n      <td>heitor , amílcar , millon</td>\\n      <td>south american championship</td>\\n    </tr>\\n    <tr>\\n      <th>2</th>\\n      <td>may 26 , 1919</td>\\n      <td>d</td>\\n      <td>2 - 2</td>\\n      <td>neco (2)</td>\\n      <td>south american championship</td>\\n    </tr>\\n    <tr>\\n      <th>3</th>\\n      <td>may 29 , 1919</td>\\n      <td>w</td>\\n      <td>1 - 0</td>\\n      <td>friedenreich</td>\\n      <td>south american championship</td>\\n    </tr>\\n    <tr>\\n      <th>4</th>\\n      <td>june 1 , 1919</td>\\n      <td>d</td>\\n      <td>3 - 3</td>\\n      <td>haroldo , arlindo (2)</td>\\n      <td>taça roberto cherry</td>\\n    </tr>\\n  </tbody>\\n</table>\\nquery:\\nharoldo be mention as a brazil scorer for 2 different game\\nOutput the code braced by \\'```\\'. \\n SQL:', 1)\n"
     ]
    }
   ],
   "source": [
    "print(process_input(test_sample, subtable_instruction))"
   ]
  },
  {
   "cell_type": "markdown",
   "id": "378c3210",
   "metadata": {},
   "source": [
    "### Simple pipeline"
   ]
  },
  {
   "cell_type": "code",
   "execution_count": 6,
   "id": "c4aa5027",
   "metadata": {},
   "outputs": [
    {
     "data": {
      "text/plain": [
       "12"
      ]
     },
     "execution_count": 6,
     "metadata": {},
     "output_type": "execute_result"
    }
   ],
   "source": [
    "import pandas as pd\n",
    "from sqlalchemy import create_engine\n",
    "engine = create_engine('sqlite:///db/sqlite/tabfact.db')\n",
    "normalized = table_loader.normalize_table(test_sample)\n",
    "df = pd.DataFrame(columns=normalized['table']['header'])\n",
    "for ind, r in enumerate(normalized['table']['rows']):\n",
    "    df.loc[ind] = r\n",
    "# print(' '.join(normalized['table']['header']) + '*************')\n",
    "df.to_sql(name='ind100', con=engine, if_exists='replace', index=False)\n",
    "# table_loader.table2db(engine, test_sample)"
   ]
  },
  {
   "cell_type": "code",
   "execution_count": 34,
   "id": "b84b796f",
   "metadata": {},
   "outputs": [],
   "source": [
    "from tabulate import tabulate\n",
    "structured_data_markdown = tabulate(\n",
    "            df, headers=df.columns, tablefmt=\"pipe\", showindex=True\n",
    "        )"
   ]
  },
  {
   "cell_type": "code",
   "execution_count": 35,
   "id": "ea32bf84",
   "metadata": {},
   "outputs": [
    {
     "data": {
      "text/plain": [
       "'|    | date          | result   | score   | brazil scorers                        | competition                 |\\n|---:|:--------------|:---------|:--------|:--------------------------------------|:----------------------------|\\n|  0 | may 11 , 1919 | w        | 6 - 0   | friedenreich (3) , neco (2) , haroldo | south american championship |\\n|  1 | may 18 , 1919 | w        | 3 - 1   | heitor , amílcar , millon             | south american championship |\\n|  2 | may 26 , 1919 | d        | 2 - 2   | neco (2)                              | south american championship |\\n|  3 | may 29 , 1919 | w        | 1 - 0   | friedenreich                          | south american championship |\\n|  4 | june 1 , 1919 | d        | 3 - 3   | haroldo , arlindo (2)                 | taça roberto cherry         |'"
      ]
     },
     "execution_count": 35,
     "metadata": {},
     "output_type": "execute_result"
    }
   ],
   "source": [
    "structured_data_markdown"
   ]
  },
  {
   "cell_type": "code",
   "execution_count": 1,
   "id": "bd90b82f",
   "metadata": {},
   "outputs": [],
   "source": [
    "\n",
    "from langchain_openai import ChatOpenAI, OpenAI\n",
    "model = ChatOpenAI(model_name=\"gpt-3.5-turbo\", openai_api_base=\"https://api.chatanywhere.cn/v1\", openai_api_key=\"sk-kxgtm71G6zwC44lglIF5CfiEVVzjjc39TOtppkNAwrVA2fUW\")\n",
    "model = ChatOpenAI(model_name=\"gpt-4\", openai_api_base=\"https://api.chatanywhere.cn/v1\", openai_api_key=\"sk-kxgtm71G6zwC44lglIF5CfiEVVzjjc39TOtppkNAwrVA2fUW\")"
   ]
  },
  {
   "cell_type": "code",
   "execution_count": 36,
   "id": "f2a95af5",
   "metadata": {},
   "outputs": [],
   "source": [
    "import re\n",
    "def extract_yes_no_and_map(text):\n",
    "    # Convert the input text to lowercase for case-insensitive matching\n",
    "    text = text.lower()\n",
    "\n",
    "    # Define regular expressions for yes/no matching\n",
    "    yes_patterns = [r'\\byes\\b', r'\\btrue\\b']\n",
    "    no_patterns = [r'\\bno\\b', r'\\bfalse\\b']\n",
    "\n",
    "    # Check for \"0\"\n",
    "    if text == \"0\":\n",
    "        return \"0\"\n",
    "\n",
    "    # Check for \"1\"\n",
    "    if text == \"1\":\n",
    "        return \"1\"\n",
    "\n",
    "    # Check for yes\n",
    "    for pattern in yes_patterns:\n",
    "        if re.search(pattern, text):\n",
    "            return \"1\"\n",
    "\n",
    "    # Check for no\n",
    "    for pattern in no_patterns:\n",
    "        if re.search(pattern, text):\n",
    "            return \"0\"\n",
    "\n",
    "    # Return 2 if neither yes nor no is found\n",
    "    return \"2\"\n",
    "\n",
    "def eval_fv_match(pred_list, gold_list):\n",
    "        acc = 0.0\n",
    "        for pred, gold in zip(pred_list, gold_list):\n",
    "            pred, gold = extract_yes_no_and_map(pred), extract_yes_no_and_map(gold)\n",
    "            if pred == gold:\n",
    "                acc += 1\n",
    "        acc = acc / len(pred_list)\n",
    "        return acc\n",
    "    \n",
    "def process_input(sample, instruction):\n",
    "    df = pd.DataFrame(columns=sample[\"table\"][\"header\"])\n",
    "    for i, line in enumerate(sample['table']['rows']):\n",
    "        df.loc[i] = line\n",
    "        \n",
    "    texts = [instruction,\n",
    "          \"the table needed to be answered: \\n\",\n",
    "          df.to_html(),\n",
    "          \"query:\",\n",
    "          sample['statement'],\n",
    "           \"answer is: \\n\"]\n",
    "    \n",
    "    label = sample['label']\n",
    "    return \"\\n\".join(texts), label "
   ]
  },
  {
   "cell_type": "code",
   "execution_count": 37,
   "id": "367a8eef",
   "metadata": {},
   "outputs": [
    {
     "name": "stdout",
     "output_type": "stream",
     "text": [
      "0.6875\n"
     ]
    }
   ],
   "source": [
    "#简易版本的pipeline\n",
    "instruction = \"Read the table below to verify whether the provided claim/query are true or false. Return 0 if it's false, or 1 if it's true. Only return 0 or 1 without any other information. \\n\"\n",
    "num_samples = 32\n",
    "batch_size = 32\n",
    "num_batches = num_samples // batch_size\n",
    "batches = []\n",
    "for batch_num in range(num_batches):\n",
    "    batch_prompt, ground = [], []\n",
    "    \n",
    "    start = batch_num * batch_size\n",
    "    batch_data = tabfact['validation'][start: start+batch_size]\n",
    "    for i in range(batch_size):\n",
    "        prompt, label = process_input(sample=dict({key: value[i] for key, value in batch_data.items()}), instruction=instruction)\n",
    "        batch_prompt.append(prompt)\n",
    "        ground.append(str(label))\n",
    "        # call llm\n",
    "    batch_pred = list(map(lambda x: x.content, model.batch(batch_prompt)))\n",
    "        \n",
    "        #do evaluation\n",
    "    accuracy = eval_fv_match(batch_pred, ground)\n",
    "    print(accuracy)\n",
    "        \n",
    "        \n",
    "        \n",
    "    \n",
    "\n",
    "        \n",
    "        "
   ]
  },
  {
   "cell_type": "code",
   "execution_count": 42,
   "id": "e917216d",
   "metadata": {},
   "outputs": [
    {
     "name": "stdout",
     "output_type": "stream",
     "text": [
      "süper lig be the most common league to win a round in the turkish cup 1\n",
      "+----+---------------+-------------------+------------------+-------------------------------+--------------------------+----------------------------------------------------+\n",
      "|    | round         |   clubs remaining |   clubs involved | winners from previous round   | new entries this round   | leagues entering at this round                     |\n",
      "|----+---------------+-------------------+------------------+-------------------------------+--------------------------+----------------------------------------------------|\n",
      "|  0 | first round   |               156 |               86 | none                          | 86                       | tff third league & turkish regional amateur league |\n",
      "|  1 | second round  |               113 |              108 | 43                            | 65                       | süper lig & tff first league & tff second league   |\n",
      "|  2 | third round   |                59 |               54 | 54                            | none                     | none                                               |\n",
      "|  3 | fourth round  |                32 |               32 | 27                            | 5                        | süper lig                                          |\n",
      "|  4 | fifth round   |                16 |               16 | 16                            | none                     | none                                               |\n",
      "|  5 | group stage   |                 8 |                8 | 8                             | none                     | none                                               |\n",
      "|  6 | semi - finals |                 4 |                4 | 4                             | none                     | none                                               |\n",
      "|  7 | final         |                 2 |                2 | 2                             | none                     | none                                               |\n",
      "+----+---------------+-------------------+------------------+-------------------------------+--------------------------+----------------------------------------------------+\n",
      "there be new entry for the 1st 4 round of the turkish cup 0\n",
      "+----+---------------+-------------------+------------------+-------------------------------+--------------------------+----------------------------------------------------+\n",
      "|    | round         |   clubs remaining |   clubs involved | winners from previous round   | new entries this round   | leagues entering at this round                     |\n",
      "|----+---------------+-------------------+------------------+-------------------------------+--------------------------+----------------------------------------------------|\n",
      "|  0 | first round   |               156 |               86 | none                          | 86                       | tff third league & turkish regional amateur league |\n",
      "|  1 | second round  |               113 |              108 | 43                            | 65                       | süper lig & tff first league & tff second league   |\n",
      "|  2 | third round   |                59 |               54 | 54                            | none                     | none                                               |\n",
      "|  3 | fourth round  |                32 |               32 | 27                            | 5                        | süper lig                                          |\n",
      "|  4 | fifth round   |                16 |               16 | 16                            | none                     | none                                               |\n",
      "|  5 | group stage   |                 8 |                8 | 8                             | none                     | none                                               |\n",
      "|  6 | semi - finals |                 4 |                4 | 4                             | none                     | none                                               |\n",
      "|  7 | final         |                 2 |                2 | 2                             | none                     | none                                               |\n",
      "+----+---------------+-------------------+------------------+-------------------------------+--------------------------+----------------------------------------------------+\n",
      "2 be the lowest number of new entry conclude a round in the turkish cup 0\n",
      "+----+---------------+-------------------+------------------+-------------------------------+--------------------------+----------------------------------------------------+\n",
      "|    | round         |   clubs remaining |   clubs involved | winners from previous round   | new entries this round   | leagues entering at this round                     |\n",
      "|----+---------------+-------------------+------------------+-------------------------------+--------------------------+----------------------------------------------------|\n",
      "|  0 | first round   |               156 |               86 | none                          | 86                       | tff third league & turkish regional amateur league |\n",
      "|  1 | second round  |               113 |              108 | 43                            | 65                       | süper lig & tff first league & tff second league   |\n",
      "|  2 | third round   |                59 |               54 | 54                            | none                     | none                                               |\n",
      "|  3 | fourth round  |                32 |               32 | 27                            | 5                        | süper lig                                          |\n",
      "|  4 | fifth round   |                16 |               16 | 16                            | none                     | none                                               |\n",
      "|  5 | group stage   |                 8 |                8 | 8                             | none                     | none                                               |\n",
      "|  6 | semi - finals |                 4 |                4 | 4                             | none                     | none                                               |\n",
      "|  7 | final         |                 2 |                2 | 2                             | none                     | none                                               |\n",
      "+----+---------------+-------------------+------------------+-------------------------------+--------------------------+----------------------------------------------------+\n",
      "from round 1 to the final round , there be 4 club remain to complete the round 0\n",
      "+----+---------------+-------------------+------------------+-------------------------------+--------------------------+----------------------------------------------------+\n",
      "|    | round         |   clubs remaining |   clubs involved | winners from previous round   | new entries this round   | leagues entering at this round                     |\n",
      "|----+---------------+-------------------+------------------+-------------------------------+--------------------------+----------------------------------------------------|\n",
      "|  0 | first round   |               156 |               86 | none                          | 86                       | tff third league & turkish regional amateur league |\n",
      "|  1 | second round  |               113 |              108 | 43                            | 65                       | süper lig & tff first league & tff second league   |\n",
      "|  2 | third round   |                59 |               54 | 54                            | none                     | none                                               |\n",
      "|  3 | fourth round  |                32 |               32 | 27                            | 5                        | süper lig                                          |\n",
      "|  4 | fifth round   |                16 |               16 | 16                            | none                     | none                                               |\n",
      "|  5 | group stage   |                 8 |                8 | 8                             | none                     | none                                               |\n",
      "|  6 | semi - finals |                 4 |                4 | 4                             | none                     | none                                               |\n",
      "|  7 | final         |                 2 |                2 | 2                             | none                     | none                                               |\n",
      "+----+---------------+-------------------+------------------+-------------------------------+--------------------------+----------------------------------------------------+\n",
      "5 of the cultural interest fraternity and sorority be 2 sorority while 3 be a fraternity 0\n",
      "+----+-----------+--------------------------+------------------+-----------------+----------------------------------+------------+\n",
      "|    | letters   | organization             | nickname         | founding date   | founding university              | type       |\n",
      "|----+-----------+--------------------------+------------------+-----------------+----------------------------------+------------|\n",
      "|  0 | αεπ       | alpha epsilon pi 1       | aepi             | 1913 - 11 - 07  | new york university              | fraternity |\n",
      "|  1 | αεφ       | alpha epsilon phi 2      | aephi            | 1909 - 10 - 24  | barnard college                  | sorority   |\n",
      "|  2 | σαεπ      | sigma alpha epsilon pi 3 | sigma            | 1998 - 10 - 01  | university of california , davis | sorority   |\n",
      "|  3 | σαμ       | sigma alpha mu 1         | sammy            | 1909 - 11 - 26  | city college of new york         | fraternity |\n",
      "|  4 | σδτ       | sigma delta tau 2        | sdt or sig delts | 1917 - 03 - 25  | cornell university               | sorority   |\n",
      "|  5 | τεφ       | tau epsilon phi 1        | tep , tau boys   | 1910 - 10 - 10  | columbia university              | fraternity |\n",
      "|  6 | ζβτ       | zeta beta tau 1          | zbt              | 1898 - 12 - 29  | city college of new york         | fraternity |\n",
      "+----+-----------+--------------------------+------------------+-----------------+----------------------------------+------------+\n",
      "7 of the cultural interest fraternity and sorority be found before the year 1921 0\n",
      "+----+-----------+--------------------------+------------------+-----------------+----------------------------------+------------+\n",
      "|    | letters   | organization             | nickname         | founding date   | founding university              | type       |\n",
      "|----+-----------+--------------------------+------------------+-----------------+----------------------------------+------------|\n",
      "|  0 | αεπ       | alpha epsilon pi 1       | aepi             | 1913 - 11 - 07  | new york university              | fraternity |\n",
      "|  1 | αεφ       | alpha epsilon phi 2      | aephi            | 1909 - 10 - 24  | barnard college                  | sorority   |\n",
      "|  2 | σαεπ      | sigma alpha epsilon pi 3 | sigma            | 1998 - 10 - 01  | university of california , davis | sorority   |\n",
      "|  3 | σαμ       | sigma alpha mu 1         | sammy            | 1909 - 11 - 26  | city college of new york         | fraternity |\n",
      "|  4 | σδτ       | sigma delta tau 2        | sdt or sig delts | 1917 - 03 - 25  | cornell university               | sorority   |\n",
      "|  5 | τεφ       | tau epsilon phi 1        | tep , tau boys   | 1910 - 10 - 10  | columbia university              | fraternity |\n",
      "|  6 | ζβτ       | zeta beta tau 1          | zbt              | 1898 - 12 - 29  | city college of new york         | fraternity |\n",
      "+----+-----------+--------------------------+------------------+-----------------+----------------------------------+------------+\n",
      "goal 2 - 5 be all consider friendly competition 1\n",
      "+----+--------+--------------------+-----------------------------------------------+---------+----------+------------------------------+\n",
      "|    |   goal | date               | venue                                         | score   | result   | competition                  |\n",
      "|----+--------+--------------------+-----------------------------------------------+---------+----------+------------------------------|\n",
      "|  0 |      1 | september 4 , 2001 | estadio nacional de chile , santiago , chile  | 0 - 1   | 0 - 2    | 2002 world cup qualification |\n",
      "|  1 |      2 | november 20 , 2002 | brígido iriarte , caracas , venezuela         | 1 - 0   | 1 - 0    | friendly                     |\n",
      "|  2 |      3 | april 2 , 2003     | brígido iriarte , caracas , venezuela         | 2 - 0   | 2 - 0    | friendly                     |\n",
      "|  3 |      4 | february 9 , 2005  | josé pachencho romero , maracaibo , venezuela | 1 - 0   | 3 - 0    | friendly                     |\n",
      "|  4 |      5 | march 28 , 2007    | josé pachencho romero , maracaibo , venezuela | 1 - 0   | 5 - 0    | friendly                     |\n",
      "|  5 |      6 | june 26 , 2007     | pueblo nuevo , san cristóbal , venezuela      | 2 - 1   | 2 - 2    | 2007 copa américa            |\n",
      "+----+--------+--------------------+-----------------------------------------------+---------+----------+------------------------------+\n",
      "goal 2 be the first of 3 game with a score of 2 - 0 0\n",
      "+----+--------+--------------------+-----------------------------------------------+---------+----------+------------------------------+\n",
      "|    |   goal | date               | venue                                         | score   | result   | competition                  |\n",
      "|----+--------+--------------------+-----------------------------------------------+---------+----------+------------------------------|\n",
      "|  0 |      1 | september 4 , 2001 | estadio nacional de chile , santiago , chile  | 0 - 1   | 0 - 2    | 2002 world cup qualification |\n",
      "|  1 |      2 | november 20 , 2002 | brígido iriarte , caracas , venezuela         | 1 - 0   | 1 - 0    | friendly                     |\n",
      "|  2 |      3 | april 2 , 2003     | brígido iriarte , caracas , venezuela         | 2 - 0   | 2 - 0    | friendly                     |\n",
      "|  3 |      4 | february 9 , 2005  | josé pachencho romero , maracaibo , venezuela | 1 - 0   | 3 - 0    | friendly                     |\n",
      "|  4 |      5 | march 28 , 2007    | josé pachencho romero , maracaibo , venezuela | 1 - 0   | 5 - 0    | friendly                     |\n",
      "|  5 |      6 | june 26 , 2007     | pueblo nuevo , san cristóbal , venezuela      | 2 - 1   | 2 - 2    | 2007 copa américa            |\n",
      "+----+--------+--------------------+-----------------------------------------------+---------+----------+------------------------------+\n",
      "the game in pueblo nuevo be 1 of 6 game play in venezuela 0\n",
      "+----+--------+--------------------+-----------------------------------------------+---------+----------+------------------------------+\n",
      "|    |   goal | date               | venue                                         | score   | result   | competition                  |\n",
      "|----+--------+--------------------+-----------------------------------------------+---------+----------+------------------------------|\n",
      "|  0 |      1 | september 4 , 2001 | estadio nacional de chile , santiago , chile  | 0 - 1   | 0 - 2    | 2002 world cup qualification |\n",
      "|  1 |      2 | november 20 , 2002 | brígido iriarte , caracas , venezuela         | 1 - 0   | 1 - 0    | friendly                     |\n",
      "|  2 |      3 | april 2 , 2003     | brígido iriarte , caracas , venezuela         | 2 - 0   | 2 - 0    | friendly                     |\n",
      "|  3 |      4 | february 9 , 2005  | josé pachencho romero , maracaibo , venezuela | 1 - 0   | 3 - 0    | friendly                     |\n",
      "|  4 |      5 | march 28 , 2007    | josé pachencho romero , maracaibo , venezuela | 1 - 0   | 5 - 0    | friendly                     |\n",
      "|  5 |      6 | june 26 , 2007     | pueblo nuevo , san cristóbal , venezuela      | 2 - 1   | 2 - 2    | 2007 copa américa            |\n",
      "+----+--------+--------------------+-----------------------------------------------+---------+----------+------------------------------+\n",
      "in the 2008 manx grand prix the same team do not have more than 1 rider 1\n",
      "+----+--------+----------------------+---------------------+-------------+------------+\n",
      "|    |   rank | rider                | team                | speed       | time       |\n",
      "|----+--------+----------------------+---------------------+-------------+------------|\n",
      "|  0 |      1 | ryan farquhar        | 498cc bic paton     | 102.385 mph | 1:06.19.90 |\n",
      "|  1 |      2 | alan oversby         | 500cc norton manx   | 101.863 mph | 1:06.40.30 |\n",
      "|  2 |      3 | alan brew            | seeley g50 496cc    | 99.367 mph  | 1:08.20.78 |\n",
      "|  3 |      4 | wattie brown         | 500cc petty manx    | 98.118 mph  | 1:09.12.98 |\n",
      "|  4 |      5 | andy reynolds        | 499cc bic paton     | 97.152 mph  | 1:09.54.28 |\n",
      "|  5 |      6 | bob price            | 500cc seeley g50    | 96.890 mph  | 1:10.05.64 |\n",
      "|  6 |      7 | ken davis            | 500cc norton manx   | 95.948 mph  | 1:10.46.92 |\n",
      "|  7 |      8 | chris swallow        | 476cc ducati        | 95.664 mph  | 1:10.59.52 |\n",
      "|  8 |      9 | mark herbertson      | 499cc matchless g50 | 95.272 mph  | 1:11.17.05 |\n",
      "|  9 |     10 | dave madsen - mygdal | 499cc honda         | 92.209 mph  | 1:11.19.89 |\n",
      "+----+--------+----------------------+---------------------+-------------+------------+\n",
      "None\n"
     ]
    }
   ],
   "source": [
    "def display_wrong_result(pred_list, gold_list, dataset):\n",
    "    for ind, (pred, gold) in enumerate(zip(pred_list, gold_list)):\n",
    "        pred, gold = extract_yes_no_and_map(pred), extract_yes_no_and_map(gold)\n",
    "        if pred != gold:\n",
    "            sample= dataset[ind]\n",
    "            df = pd.DataFrame(columns=sample[\"table\"][\"header\"])\n",
    "            for i, line in enumerate(sample['table']['rows']):\n",
    "                df.loc[i] = line\n",
    "            print(sample['statement'], sample['label'])\n",
    "            print(tabulate(df, headers=df.columns, tablefmt='psql'))\n",
    "        \n",
    "print(display_wrong_result(batch_pred, ground, tabfact['validation']))"
   ]
  },
  {
   "cell_type": "code",
   "execution_count": 40,
   "id": "40664801",
   "metadata": {},
   "outputs": [
    {
     "name": "stdout",
     "output_type": "stream",
     "text": [
      "0 ('1', '1')\n",
      "1 ('1', '1')\n",
      "2 ('1', '1')\n",
      "3 ('1', '1')\n",
      "4 ('1', '1')\n",
      "5 ('1', '0')\n",
      "6 ('0', '0')\n",
      "7 ('0', '0')\n",
      "8 ('0', '0')\n",
      "9 ('0', '0')\n",
      "10 ('1', '1')\n",
      "11 ('0', '1')\n",
      "12 ('1', '1')\n",
      "13 ('1', '1')\n",
      "14 ('0', '1')\n",
      "15 ('0', '0')\n",
      "16 ('0', '0')\n",
      "17 ('0', '0')\n",
      "18 ('1', '0')\n",
      "19 ('1', '0')\n",
      "20 ('The answer is 1.', '1')\n",
      "21 ('0', '1')\n",
      "22 ('1', '1')\n",
      "23 ('0', '1')\n",
      "24 ('1', '1')\n",
      "25 ('0', '0')\n",
      "26 ('0', '0')\n",
      "27 ('1', '0')\n",
      "28 ('0', '0')\n",
      "29 ('0', '0')\n",
      "30 ('1', '1')\n",
      "31 ('1', '1')\n"
     ]
    }
   ],
   "source": [
    "for ind, i in enumerate(zip(batch_pred, ground)):\n",
    "    print(ind, i)"
   ]
  },
  {
   "cell_type": "code",
   "execution_count": null,
   "id": "ddadec37",
   "metadata": {},
   "outputs": [],
   "source": []
  },
  {
   "cell_type": "markdown",
   "id": "9490d54f",
   "metadata": {},
   "source": [
    "## Answer output"
   ]
  },
  {
   "cell_type": "code",
   "execution_count": 1,
   "id": "f34dc924",
   "metadata": {},
   "outputs": [
    {
     "name": "stdout",
     "output_type": "stream",
     "text": [
      "32\n"
     ]
    }
   ],
   "source": [
    "preds = []\n",
    "import json\n",
    "with open('./result/data/tabfact_test_04-08_02-43-03.json', 'r') as f:\n",
    "    lines = f.readlines()\n",
    "    for l in lines:\n",
    "        preds.append(json.loads(l))\n",
    "    print(len(preds))\n",
    "    \n",
    "from data_loader import TableLoader\n",
    "\n",
    "table_loader = TableLoader(table_name='tabfact', split='test', use_sample=True, small_test=True)"
   ]
  },
  {
   "cell_type": "code",
   "execution_count": 13,
   "id": "0b75fc6b",
   "metadata": {},
   "outputs": [
    {
     "name": "stdout",
     "output_type": "stream",
     "text": [
      "year\n",
      "KEEP\n",
      "best teenage / young adult\n",
      "DELETE\n",
      "reader's vote\n",
      "DELETE\n",
      "best non-fiction\n",
      "DELETE\n",
      "lifetime achievement\n",
      "KEEP\n"
     ]
    }
   ],
   "source": [
    "import re\n",
    "matches = re.finditer(r'([^<]*)<([^\\s>]*)>', preds[i]['pred'].split(':')[1])\n",
    "for match in matches:\n",
    "    print(match.group(1).strip())\n",
    "    print(match.group(2))"
   ]
  },
  {
   "cell_type": "code",
   "execution_count": 30,
   "id": "5c7cf2f4",
   "metadata": {},
   "outputs": [
    {
     "name": "stdout",
     "output_type": "stream",
     "text": [
      "tournament<The name of the tennis tournament>\n",
      "1986<The performance of Katrina Adams in the tournament in 1986>\n",
      "1988<The performance of Katrina Adams in the tournament in 1988>\n",
      "1989<The performance of Katrina Adams in the tournament in 1989>\n",
      "1990<The performance of Katrina Adams in the tournament in 1990>\n",
      "1991<The performance of Katrina Adams in the tournament in 1991>\n",
      "1992<The performance of Katrina Adams in the tournament in 1992>\n",
      "1993<The performance of Katrina Adams in the tournament in 1993>\n",
      "1994<The performance of Katrina Adams in the tournament in 1994>\n",
      "1995<The performance of Katrina Adams in the tournament in 1995>\n",
      "1996<The performance of Katrina Adams in the tournament in 1996>\n",
      "1997<The performance of Katrina Adams in the tournament in 1997>\n",
      "1998<The performance of Katrina Adams in the tournament in 1998>\n",
      "1999<The performance of Katrina Adams in the tournament in 1999>\n"
     ]
    }
   ],
   "source": [
    "import pandas as pd\n",
    "aug_data = pd.read_csv('./result/aug/tabfact_test_summary_31.csv', index_col='table_id')\n",
    "print(aug_data.loc['2-18622227-6.html.csv']['column_description'])"
   ]
  },
  {
   "cell_type": "code",
   "execution_count": 18,
   "id": "1ff859ea",
   "metadata": {},
   "outputs": [
    {
     "name": "stdout",
     "output_type": "stream",
     "text": [
      "the 31997 mintage be release in 2001\n",
      "<table>\n",
      "<thead>\n",
      "<tr><th>  year</th><th>                  mintage</th></tr>\n",
      "</thead>\n",
      "<tbody>\n",
      "<tr><td>2003  </td><td>included in hmcs bras dor</td></tr>\n",
      "<tr><td>2003  </td><td>31997                    </td></tr>\n",
      "<tr><td>2000  </td><td>44367                    </td></tr>\n",
      "</tbody>\n",
      "</table>\n",
      "+--------+----------------------------+-------------------+-----------------------------+---------------+\n",
      "|   year | theme                      | artist            | mintage                     |   issue price |\n",
      "|--------+----------------------------+-------------------+-----------------------------+---------------|\n",
      "|   2000 | steam buggy                | john mardon       | 44367                       |         59.95 |\n",
      "|   2000 | the bluenose               | j franklin wright | included in steam buggy     |         59.95 |\n",
      "|   2000 | the toronto                | john mardon       | included in steam buggy     |         59.95 |\n",
      "|   2001 | the russell light four     | john mardon       | 41828                       |         59.95 |\n",
      "|   2001 | the marco polo             | j franklin wright | included in the russell     |         59.95 |\n",
      "|   2001 | the scotia                 | don curley        | included in the russell     |         59.95 |\n",
      "|   2002 | the gray - dort            | john mardon       | 35944                       |         59.95 |\n",
      "|   2002 | the william lawrence       | bonnie ross       | included in the gray - dort |         59.95 |\n",
      "|   2002 | d - 10 locomotive          | dan fell          | included in the gray - dort |         59.95 |\n",
      "|   2003 | hmcs bras dor              | don curley        | 31997                       |         59.95 |\n",
      "|   2003 | cnr fa - 1 diesel electric | john mardon       | included in hmcs bras dor   |         59.95 |\n",
      "|   2003 | bricklin sv - 1            | brian hughes      | included in hmcs bras dor   |         59.95 |\n",
      "+--------+----------------------------+-------------------+-----------------------------+---------------+\n",
      "0\n",
      "None\n"
     ]
    }
   ],
   "source": [
    "from data_loader import TableFormat\n",
    "from executor import SQLManager\n",
    "from sqlalchemy import create_engine\n",
    "engine = create_engine('sqlite:///db/sqlite/tabfact.db', echo=False)\n",
    "manager = SQLManager(engine)\n",
    "i = 0\n",
    "# SQL = manager.format_sql(preds[i]['pred'].split(':')[1])\n",
    "\n",
    "\n",
    "def show_table(data):\n",
    "    formatter = TableFormat(format='none', data=data)\n",
    "    columns = [c.strip() for c in preds[i]['pred'].split(',')]\n",
    "    print(data['statement'])\n",
    "    formatter.data = formatter.data.loc[:, columns]\n",
    "    \n",
    "    print(formatter.format_html())\n",
    "    print(formatter.format_psql())\n",
    "    print(data['label'])\n",
    "    # data.columns = [manager.normalize_col_name(c) for c in formatter.all_data.columns]\n",
    "    # data.to_sql('DF', manager.engine, if_exists='replace', index=False)\n",
    "    \n",
    "    # subtable = pd.read_sql(command, self.engine)\n",
    "    # test_df = manager.execute_from_df(SQL, formatter.all_data)\n",
    "    # return test_df\n",
    "test_df = show_table(table_loader.dataset[i])\n",
    "print(test_df)"
   ]
  },
  {
   "cell_type": "code",
   "execution_count": 4,
   "id": "699b682b",
   "metadata": {},
   "outputs": [
    {
     "data": {
      "text/plain": [
       "{'table_name': '2-15753390-2.html.csv',\n",
       " 'label': '2 be the fewest point that roger dutton / tony wright receive',\n",
       " 'pred': 'rider, points'}"
      ]
     },
     "execution_count": 4,
     "metadata": {},
     "output_type": "execute_result"
    }
   ],
   "source": [
    "preds[i]\n"
   ]
  },
  {
   "cell_type": "code",
   "execution_count": 10,
   "id": "c5276373",
   "metadata": {},
   "outputs": [],
   "source": [
    "\n",
    "from data_loader import TableFormat\n",
    "from langchain_openai import ChatOpenAI, OpenAI\n",
    "from langchain_core.messages import HumanMessage\n",
    "from langchain.prompts.prompt import PromptTemplate\n",
    "model = ChatOpenAI(model_name=\"gpt-3.5-turbo-0125\", openai_api_base=\"https://api.chatanywhere.cn/v1\", openai_api_key=\"sk-kxgtm71G6zwC44lglIF5CfiEVVzjjc39TOtppkNAwrVA2fUW\")\n",
    "inds = [0, 100]\n",
    "Output_examples = ['event name(KEEP) established(KEEP) category(KEEP) sub category(DELETE) main venue(DELETE)', 'wind farm, scheduled, capacity (mw), turbines, type, and location.']\n",
    "\n",
    "\n",
    "\n",
    "pre_instruction = PromptTemplate(input_variables=[\"table\", \"claim\"], template=\n",
    "\"\"\"\n",
    "Below are some rows from the sub-table filtered by an SQL query. You are required to infer the data distribution and format from the sample data of the sub-table. Carefully analyze the issue and, based on the problem, write an SQL statement that can provide the answer.\n",
    "sub-table: {table}\n",
    "Claim: {claim}\n",
    "SQL: {sql}\n",
    "\"\"\")\n",
    "# \n",
    "output = model.invoke([HumanMessage(content=pre_instruction.format(table=formatter.format_html(), \n",
    "                                                                   claim=\"verify whether the provided claim/query are true or false. Return 0 if it's false, or 1 if it's true. Only return 0 or 1 without any other information. \"+test_sample['statement'],\n",
    "                                                                   sql = ' '.join([\"SELECT event_name, category, established from tmp;\",\"SELECT * FROM tmp\\n WHERE event_name = 'touchdown atlantic' AND category = 'sporting' AND established = 2010;\"])\n",
    "                                                                   \n",
    "                                                                   ))])\n",
    "\n"
   ]
  },
  {
   "cell_type": "code",
   "execution_count": 13,
   "id": "44b89453",
   "metadata": {},
   "outputs": [
    {
     "data": {
      "text/plain": [
       "1"
      ]
     },
     "execution_count": 13,
     "metadata": {},
     "output_type": "execute_result"
    }
   ],
   "source": [
    "test_sample['label']"
   ]
  },
  {
   "cell_type": "code",
   "execution_count": 12,
   "id": "3a40495d",
   "metadata": {},
   "outputs": [
    {
     "data": {
      "text/plain": [
       "\"SELECT * FROM table\\nWHERE event_name = 'touchdown atlantic' AND category = 'sporting' AND established = 2010;\""
      ]
     },
     "execution_count": 12,
     "metadata": {},
     "output_type": "execute_result"
    }
   ],
   "source": [
    "output.content"
   ]
  },
  {
   "cell_type": "code",
   "execution_count": null,
   "id": "63b05ec2",
   "metadata": {},
   "outputs": [],
   "source": [
    "# Answer output\n",
    "pre_instruction = PromptTemplate(input_variables=[\"table\", \"claim\"], template=\n",
    "\"\"\"\n",
    "Our ultimate goal is to answer questions based on the table. Below is a filtered subset of the table. You need to understand the logic behind the SQL filtering and use the final subset to answer questions about the table.\n",
    "sub-table: {table}\n",
    "SQL Excuted: {SQL}\n",
    "Claim: {}\n",
    "\"\"\")\n",
    "output = model.invoke([HumanMessage(content=pre_instruction.format(table=formatter.format_html(), claim=test_sample['statement']))])"
   ]
  },
  {
   "cell_type": "code",
   "execution_count": null,
   "id": "95604919",
   "metadata": {},
   "outputs": [],
   "source": []
  },
  {
   "cell_type": "code",
   "execution_count": null,
   "id": "9cee6392",
   "metadata": {},
   "outputs": [],
   "source": []
  },
  {
   "cell_type": "code",
   "execution_count": null,
   "id": "21fa5b2c",
   "metadata": {},
   "outputs": [],
   "source": []
  },
  {
   "cell_type": "markdown",
   "id": "4f3084f1",
   "metadata": {},
   "source": [
    "## Evaluat from local result"
   ]
  },
  {
   "cell_type": "markdown",
   "id": "dfc33620",
   "metadata": {},
   "source": []
  },
  {
   "cell_type": "code",
   "execution_count": 17,
   "id": "8530d669",
   "metadata": {},
   "outputs": [
    {
     "name": "stdout",
     "output_type": "stream",
     "text": [
      "8\n"
     ]
    }
   ],
   "source": [
    "file_name = 'result/data/tabfact_validation_04-04_01-51-14.json'\n",
    "import json\n",
    "from executor import SQLManager\n",
    "data = []\n",
    "with open(file_name, 'r') as f:\n",
    "    lines =  f.readlines()\n",
    "    for l in lines:\n",
    "        data.append(json.loads(l))\n",
    "print(len(data))\n"
   ]
  },
  {
   "cell_type": "code",
   "execution_count": 19,
   "id": "03880a16",
   "metadata": {},
   "outputs": [
    {
     "data": {
      "text/plain": [
       "'Output: round<DELETE> clubs remaining<DELETE> clubs involved<DELETE> winners from previous round<DELETE> new entries this round<KEEP> leagues entering at this round<DELETE>'"
      ]
     },
     "execution_count": 19,
     "metadata": {},
     "output_type": "execute_result"
    }
   ],
   "source": [
    "data[0]['predict']"
   ]
  },
  {
   "cell_type": "code",
   "execution_count": 24,
   "id": "28a53274",
   "metadata": {},
   "outputs": [
    {
     "name": "stdout",
     "output_type": "stream",
     "text": [
      "2024-04-04 02:23:43,671 INFO sqlalchemy.engine.Engine BEGIN (implicit)\n",
      "2024-04-04 02:23:43,673 INFO sqlalchemy.engine.Engine PRAGMA main.table_info(\"DF\")\n",
      "2024-04-04 02:23:43,674 INFO sqlalchemy.engine.Engine [raw sql] ()\n",
      "2024-04-04 02:23:43,678 INFO sqlalchemy.engine.Engine PRAGMA main.table_info(\"DF\")\n",
      "2024-04-04 02:23:43,679 INFO sqlalchemy.engine.Engine [raw sql] ()\n",
      "2024-04-04 02:23:43,681 INFO sqlalchemy.engine.Engine SELECT name FROM sqlite_master WHERE type='table' AND name NOT LIKE 'sqlite~_%' ESCAPE '~' ORDER BY name\n",
      "2024-04-04 02:23:43,682 INFO sqlalchemy.engine.Engine [raw sql] ()\n",
      "2024-04-04 02:23:43,685 INFO sqlalchemy.engine.Engine SELECT name FROM sqlite_master WHERE type='view' AND name NOT LIKE 'sqlite~_%' ESCAPE '~' ORDER BY name\n",
      "2024-04-04 02:23:43,686 INFO sqlalchemy.engine.Engine [raw sql] ()\n",
      "2024-04-04 02:23:43,687 INFO sqlalchemy.engine.Engine PRAGMA main.table_xinfo(\"DF\")\n",
      "2024-04-04 02:23:43,688 INFO sqlalchemy.engine.Engine [raw sql] ()\n",
      "2024-04-04 02:23:43,689 INFO sqlalchemy.engine.Engine SELECT sql FROM  (SELECT * FROM sqlite_master UNION ALL   SELECT * FROM sqlite_temp_master) WHERE name = ? AND type in ('table', 'view')\n",
      "2024-04-04 02:23:43,689 INFO sqlalchemy.engine.Engine [raw sql] ('DF',)\n",
      "2024-04-04 02:23:43,690 INFO sqlalchemy.engine.Engine PRAGMA main.foreign_key_list(\"DF\")\n",
      "2024-04-04 02:23:43,691 INFO sqlalchemy.engine.Engine [raw sql] ()\n",
      "2024-04-04 02:23:43,691 INFO sqlalchemy.engine.Engine PRAGMA temp.foreign_key_list(\"DF\")\n",
      "2024-04-04 02:23:43,692 INFO sqlalchemy.engine.Engine [raw sql] ()\n",
      "2024-04-04 02:23:43,692 INFO sqlalchemy.engine.Engine SELECT sql FROM  (SELECT * FROM sqlite_master UNION ALL   SELECT * FROM sqlite_temp_master) WHERE name = ? AND type in ('table', 'view')\n",
      "2024-04-04 02:23:43,693 INFO sqlalchemy.engine.Engine [raw sql] ('DF',)\n"
     ]
    },
    {
     "name": "stdout",
     "output_type": "stream",
     "text": [
      "2024-04-04 02:23:43,694 INFO sqlalchemy.engine.Engine PRAGMA main.index_list(\"DF\")\n",
      "2024-04-04 02:23:43,694 INFO sqlalchemy.engine.Engine [raw sql] ()\n",
      "2024-04-04 02:23:43,695 INFO sqlalchemy.engine.Engine PRAGMA temp.index_list(\"DF\")\n",
      "2024-04-04 02:23:43,695 INFO sqlalchemy.engine.Engine [raw sql] ()\n",
      "2024-04-04 02:23:43,695 INFO sqlalchemy.engine.Engine PRAGMA main.table_info(\"DF\")\n",
      "2024-04-04 02:23:43,696 INFO sqlalchemy.engine.Engine [raw sql] ()\n",
      "2024-04-04 02:23:43,696 INFO sqlalchemy.engine.Engine PRAGMA main.index_list(\"DF\")\n",
      "2024-04-04 02:23:43,697 INFO sqlalchemy.engine.Engine [raw sql] ()\n",
      "2024-04-04 02:23:43,697 INFO sqlalchemy.engine.Engine PRAGMA temp.index_list(\"DF\")\n",
      "2024-04-04 02:23:43,697 INFO sqlalchemy.engine.Engine [raw sql] ()\n",
      "2024-04-04 02:23:43,697 INFO sqlalchemy.engine.Engine PRAGMA main.table_info(\"DF\")\n",
      "2024-04-04 02:23:43,698 INFO sqlalchemy.engine.Engine [raw sql] ()\n",
      "2024-04-04 02:23:43,698 INFO sqlalchemy.engine.Engine SELECT sql FROM  (SELECT * FROM sqlite_master UNION ALL   SELECT * FROM sqlite_temp_master) WHERE name = ? AND type in ('table', 'view')\n",
      "2024-04-04 02:23:43,699 INFO sqlalchemy.engine.Engine [raw sql] ('DF',)\n",
      "2024-04-04 02:23:43,700 INFO sqlalchemy.engine.Engine \n",
      "DROP TABLE \"DF\"\n",
      "2024-04-04 02:23:43,700 INFO sqlalchemy.engine.Engine [no key 0.00036s] ()\n",
      "2024-04-04 02:23:43,702 INFO sqlalchemy.engine.Engine \n",
      "CREATE TABLE \"DF\" (\n",
      "\tround TEXT, \n",
      "\t\"clubs remaining\" TEXT, \n",
      "\t\"clubs involved\" TEXT, \n",
      "\t\"winners from previous round\" TEXT, \n",
      "\t\"new entries this round\" TEXT, \n",
      "\t\"leagues entering at this round\" TEXT\n",
      ")\n",
      "\n",
      "\n",
      "2024-04-04 02:23:43,703 INFO sqlalchemy.engine.Engine [no key 0.00039s] ()\n",
      "2024-04-04 02:23:43,705 INFO sqlalchemy.engine.Engine INSERT INTO \"DF\" (round, \"clubs remaining\", \"clubs involved\", \"winners from previous round\", \"new entries this round\", \"leagues entering at this round\") VALUES (?, ?, ?, ?, ?, ?)\n",
      "2024-04-04 02:23:43,706 INFO sqlalchemy.engine.Engine [generated in 0.00050s] [('first round', '156', '86', 'none', '86', 'tff third league & turkish regional amateur league'), ('second round', '113', '108', '43', '65', 'süper lig & tff first league & tff second league'), ('third round', '59', '54', '54', 'none', 'none'), ('fourth round', '32', '32', '27', '5', 'süper lig'), ('fifth round', '16', '16', '16', 'none', 'none'), ('group stage', '8', '8', '8', 'none', 'none'), ('semi - finals', '4', '4', '4', 'none', 'none'), ('final', '2', '2', '2', 'none', 'none')]\n",
      "2024-04-04 02:23:43,706 INFO sqlalchemy.engine.Engine SELECT name FROM sqlite_master WHERE type='table' AND name NOT LIKE 'sqlite~_%' ESCAPE '~' ORDER BY name\n",
      "2024-04-04 02:23:43,707 INFO sqlalchemy.engine.Engine [raw sql] ()\n",
      "2024-04-04 02:23:43,708 INFO sqlalchemy.engine.Engine COMMIT\n"
     ]
    }
   ],
   "source": [
    "table_loader = TableLoader(table_name='tabfact', split='validation', use_sample=False)\n",
    "formatter = TableFormat(\n",
    "format='none', data=table_loader.dataset[0], use_sampling=True)\n",
    "engine = create_engine('sqlite:///db/sqlite/tabfact.db', echo=True)\n",
    "formatter.all_data.to_sql('DF', engine, if_exists='replace', index=False)\n",
    "\n",
    "manager = SQLManager(engine=engine)\n"
   ]
  },
  {
   "cell_type": "code",
   "execution_count": 26,
   "id": "dc724102",
   "metadata": {},
   "outputs": [
    {
     "name": "stdout",
     "output_type": "stream",
     "text": [
      "SELECT new entries this round FROM DF\n",
      "SQL:SELECT new entries this round FROM DF, ttype:Token.Keyword.DML, sql_type:SELECT, table:None\n",
      "Query[SELECT new entries this round FROM DF]\n",
      "2024-04-04 02:24:51,053 INFO sqlalchemy.engine.Engine BEGIN (implicit)\n",
      "2024-04-04 02:24:51,056 INFO sqlalchemy.engine.Engine SELECT new entries this round FROM DF\n",
      "2024-04-04 02:24:51,058 INFO sqlalchemy.engine.Engine [generated in 0.00249s] ()\n"
     ]
    },
    {
     "ename": "OperationalError",
     "evalue": "(sqlite3.OperationalError) near \"this\": syntax error\n[SQL: SELECT new entries this round FROM DF]\n(Background on this error at: https://sqlalche.me/e/20/e3q8)",
     "output_type": "error",
     "traceback": [
      "\u001b[0;31m---------------------------------------------------------------------------\u001b[0m",
      "\u001b[0;31mOperationalError\u001b[0m                          Traceback (most recent call last)",
      "File \u001b[0;32m~/.conda/envs/sqlboy/lib/python3.10/site-packages/sqlalchemy/engine/base.py:1965\u001b[0m, in \u001b[0;36mConnection._exec_single_context\u001b[0;34m(self, dialect, context, statement, parameters)\u001b[0m\n\u001b[1;32m   1964\u001b[0m     \u001b[38;5;28;01mif\u001b[39;00m \u001b[38;5;129;01mnot\u001b[39;00m evt_handled:\n\u001b[0;32m-> 1965\u001b[0m         \u001b[38;5;28;43mself\u001b[39;49m\u001b[38;5;241;43m.\u001b[39;49m\u001b[43mdialect\u001b[49m\u001b[38;5;241;43m.\u001b[39;49m\u001b[43mdo_execute\u001b[49m\u001b[43m(\u001b[49m\n\u001b[1;32m   1966\u001b[0m \u001b[43m            \u001b[49m\u001b[43mcursor\u001b[49m\u001b[43m,\u001b[49m\u001b[43m \u001b[49m\u001b[43mstr_statement\u001b[49m\u001b[43m,\u001b[49m\u001b[43m \u001b[49m\u001b[43meffective_parameters\u001b[49m\u001b[43m,\u001b[49m\u001b[43m \u001b[49m\u001b[43mcontext\u001b[49m\n\u001b[1;32m   1967\u001b[0m \u001b[43m        \u001b[49m\u001b[43m)\u001b[49m\n\u001b[1;32m   1969\u001b[0m \u001b[38;5;28;01mif\u001b[39;00m \u001b[38;5;28mself\u001b[39m\u001b[38;5;241m.\u001b[39m_has_events \u001b[38;5;129;01mor\u001b[39;00m \u001b[38;5;28mself\u001b[39m\u001b[38;5;241m.\u001b[39mengine\u001b[38;5;241m.\u001b[39m_has_events:\n",
      "File \u001b[0;32m~/.conda/envs/sqlboy/lib/python3.10/site-packages/sqlalchemy/engine/default.py:921\u001b[0m, in \u001b[0;36mDefaultDialect.do_execute\u001b[0;34m(self, cursor, statement, parameters, context)\u001b[0m\n\u001b[1;32m    920\u001b[0m \u001b[38;5;28;01mdef\u001b[39;00m \u001b[38;5;21mdo_execute\u001b[39m(\u001b[38;5;28mself\u001b[39m, cursor, statement, parameters, context\u001b[38;5;241m=\u001b[39m\u001b[38;5;28;01mNone\u001b[39;00m):\n\u001b[0;32m--> 921\u001b[0m     \u001b[43mcursor\u001b[49m\u001b[38;5;241;43m.\u001b[39;49m\u001b[43mexecute\u001b[49m\u001b[43m(\u001b[49m\u001b[43mstatement\u001b[49m\u001b[43m,\u001b[49m\u001b[43m \u001b[49m\u001b[43mparameters\u001b[49m\u001b[43m)\u001b[49m\n",
      "\u001b[0;31mOperationalError\u001b[0m: near \"this\": syntax error",
      "\nThe above exception was the direct cause of the following exception:\n",
      "\u001b[0;31mOperationalError\u001b[0m                          Traceback (most recent call last)",
      "Cell \u001b[0;32mIn[26], line 4\u001b[0m\n\u001b[1;32m      2\u001b[0m E_sql \u001b[38;5;241m=\u001b[39m manager\u001b[38;5;241m.\u001b[39mformat_sql(data[\u001b[38;5;241m0\u001b[39m][\u001b[38;5;124m'\u001b[39m\u001b[38;5;124mpredict\u001b[39m\u001b[38;5;124m'\u001b[39m], table_name\u001b[38;5;241m=\u001b[39mtable_name)\n\u001b[1;32m      3\u001b[0m \u001b[38;5;28mprint\u001b[39m(E_sql)\n\u001b[0;32m----> 4\u001b[0m \u001b[43mmanager\u001b[49m\u001b[38;5;241;43m.\u001b[39;49m\u001b[43mrun\u001b[49m\u001b[43m(\u001b[49m\u001b[43mE_sql\u001b[49m\u001b[43m)\u001b[49m\n",
      "File \u001b[0;32m~/zh/tabular_data/executor/executor.py:70\u001b[0m, in \u001b[0;36mSQLManager.run\u001b[0;34m(self, command, fetch)\u001b[0m\n\u001b[1;32m     68\u001b[0m \u001b[38;5;28;01mif\u001b[39;00m ttype \u001b[38;5;241m==\u001b[39m sqlparse\u001b[38;5;241m.\u001b[39mtokens\u001b[38;5;241m.\u001b[39mDML:\n\u001b[1;32m     69\u001b[0m     \u001b[38;5;28;01mif\u001b[39;00m sql_type \u001b[38;5;241m==\u001b[39m \u001b[38;5;124m\"\u001b[39m\u001b[38;5;124mSELECT\u001b[39m\u001b[38;5;124m\"\u001b[39m:\n\u001b[0;32m---> 70\u001b[0m         \u001b[38;5;28;01mreturn\u001b[39;00m \u001b[38;5;28;43mself\u001b[39;49m\u001b[38;5;241;43m.\u001b[39;49m\u001b[43m_query\u001b[49m\u001b[43m(\u001b[49m\u001b[43mcommand\u001b[49m\u001b[43m,\u001b[49m\u001b[43m \u001b[49m\u001b[38;5;28;43mself\u001b[39;49m\u001b[38;5;241;43m.\u001b[39;49m\u001b[43msession\u001b[49m\u001b[43m,\u001b[49m\u001b[43m \u001b[49m\u001b[43mfetch\u001b[49m\u001b[43m)\u001b[49m\n\u001b[1;32m     71\u001b[0m     \u001b[38;5;28;01melse\u001b[39;00m:\n\u001b[1;32m     72\u001b[0m         \u001b[38;5;28;01mreturn\u001b[39;00m \u001b[38;5;28mself\u001b[39m\u001b[38;5;241m.\u001b[39mget_simple_fields(table_name)\n",
      "File \u001b[0;32m~/zh/tabular_data/executor/executor.py:45\u001b[0m, in \u001b[0;36mSQLManager._query\u001b[0;34m(self, query, session, fetch)\u001b[0m\n\u001b[1;32m     43\u001b[0m \u001b[38;5;28;01mif\u001b[39;00m \u001b[38;5;129;01mnot\u001b[39;00m query:\n\u001b[1;32m     44\u001b[0m     \u001b[38;5;28;01mreturn\u001b[39;00m result\n\u001b[0;32m---> 45\u001b[0m cursor \u001b[38;5;241m=\u001b[39m \u001b[43msession\u001b[49m\u001b[38;5;241;43m.\u001b[39;49m\u001b[43mexecute\u001b[49m\u001b[43m(\u001b[49m\u001b[43mtext\u001b[49m\u001b[43m(\u001b[49m\u001b[43mquery\u001b[49m\u001b[43m)\u001b[49m\u001b[43m)\u001b[49m\n\u001b[1;32m     46\u001b[0m \u001b[38;5;28;01mif\u001b[39;00m cursor\u001b[38;5;241m.\u001b[39mreturns_rows:\n\u001b[1;32m     47\u001b[0m     \u001b[38;5;28;01mif\u001b[39;00m fetch \u001b[38;5;241m==\u001b[39m \u001b[38;5;124m\"\u001b[39m\u001b[38;5;124mall\u001b[39m\u001b[38;5;124m\"\u001b[39m:\n",
      "File \u001b[0;32m~/.conda/envs/sqlboy/lib/python3.10/site-packages/sqlalchemy/orm/session.py:2246\u001b[0m, in \u001b[0;36mSession.execute\u001b[0;34m(self, statement, params, execution_options, bind_arguments, _parent_execute_state, _add_event)\u001b[0m\n\u001b[1;32m   2185\u001b[0m \u001b[38;5;28;01mdef\u001b[39;00m \u001b[38;5;21mexecute\u001b[39m(\n\u001b[1;32m   2186\u001b[0m     \u001b[38;5;28mself\u001b[39m,\n\u001b[1;32m   2187\u001b[0m     statement: Executable,\n\u001b[0;32m   (...)\u001b[0m\n\u001b[1;32m   2193\u001b[0m     _add_event: Optional[Any] \u001b[38;5;241m=\u001b[39m \u001b[38;5;28;01mNone\u001b[39;00m,\n\u001b[1;32m   2194\u001b[0m ) \u001b[38;5;241m-\u001b[39m\u001b[38;5;241m>\u001b[39m Result[Any]:\n\u001b[1;32m   2195\u001b[0m \u001b[38;5;250m    \u001b[39m\u001b[38;5;124mr\u001b[39m\u001b[38;5;124;03m\"\"\"Execute a SQL expression construct.\u001b[39;00m\n\u001b[1;32m   2196\u001b[0m \n\u001b[1;32m   2197\u001b[0m \u001b[38;5;124;03m    Returns a :class:`_engine.Result` object representing\u001b[39;00m\n\u001b[0;32m   (...)\u001b[0m\n\u001b[1;32m   2244\u001b[0m \n\u001b[1;32m   2245\u001b[0m \u001b[38;5;124;03m    \"\"\"\u001b[39;00m\n\u001b[0;32m-> 2246\u001b[0m     \u001b[38;5;28;01mreturn\u001b[39;00m \u001b[38;5;28;43mself\u001b[39;49m\u001b[38;5;241;43m.\u001b[39;49m\u001b[43m_execute_internal\u001b[49m\u001b[43m(\u001b[49m\n\u001b[1;32m   2247\u001b[0m \u001b[43m        \u001b[49m\u001b[43mstatement\u001b[49m\u001b[43m,\u001b[49m\n\u001b[1;32m   2248\u001b[0m \u001b[43m        \u001b[49m\u001b[43mparams\u001b[49m\u001b[43m,\u001b[49m\n\u001b[1;32m   2249\u001b[0m \u001b[43m        \u001b[49m\u001b[43mexecution_options\u001b[49m\u001b[38;5;241;43m=\u001b[39;49m\u001b[43mexecution_options\u001b[49m\u001b[43m,\u001b[49m\n\u001b[1;32m   2250\u001b[0m \u001b[43m        \u001b[49m\u001b[43mbind_arguments\u001b[49m\u001b[38;5;241;43m=\u001b[39;49m\u001b[43mbind_arguments\u001b[49m\u001b[43m,\u001b[49m\n\u001b[1;32m   2251\u001b[0m \u001b[43m        \u001b[49m\u001b[43m_parent_execute_state\u001b[49m\u001b[38;5;241;43m=\u001b[39;49m\u001b[43m_parent_execute_state\u001b[49m\u001b[43m,\u001b[49m\n\u001b[1;32m   2252\u001b[0m \u001b[43m        \u001b[49m\u001b[43m_add_event\u001b[49m\u001b[38;5;241;43m=\u001b[39;49m\u001b[43m_add_event\u001b[49m\u001b[43m,\u001b[49m\n\u001b[1;32m   2253\u001b[0m \u001b[43m    \u001b[49m\u001b[43m)\u001b[49m\n",
      "File \u001b[0;32m~/.conda/envs/sqlboy/lib/python3.10/site-packages/sqlalchemy/orm/session.py:2150\u001b[0m, in \u001b[0;36mSession._execute_internal\u001b[0;34m(self, statement, params, execution_options, bind_arguments, _parent_execute_state, _add_event, _scalar_result)\u001b[0m\n\u001b[1;32m   2141\u001b[0m     result: Result[Any] \u001b[38;5;241m=\u001b[39m compile_state_cls\u001b[38;5;241m.\u001b[39morm_execute_statement(\n\u001b[1;32m   2142\u001b[0m         \u001b[38;5;28mself\u001b[39m,\n\u001b[1;32m   2143\u001b[0m         statement,\n\u001b[0;32m   (...)\u001b[0m\n\u001b[1;32m   2147\u001b[0m         conn,\n\u001b[1;32m   2148\u001b[0m     )\n\u001b[1;32m   2149\u001b[0m \u001b[38;5;28;01melse\u001b[39;00m:\n\u001b[0;32m-> 2150\u001b[0m     result \u001b[38;5;241m=\u001b[39m \u001b[43mconn\u001b[49m\u001b[38;5;241;43m.\u001b[39;49m\u001b[43mexecute\u001b[49m\u001b[43m(\u001b[49m\n\u001b[1;32m   2151\u001b[0m \u001b[43m        \u001b[49m\u001b[43mstatement\u001b[49m\u001b[43m,\u001b[49m\u001b[43m \u001b[49m\u001b[43mparams\u001b[49m\u001b[43m \u001b[49m\u001b[38;5;129;43;01mor\u001b[39;49;00m\u001b[43m \u001b[49m\u001b[43m{\u001b[49m\u001b[43m}\u001b[49m\u001b[43m,\u001b[49m\u001b[43m \u001b[49m\u001b[43mexecution_options\u001b[49m\u001b[38;5;241;43m=\u001b[39;49m\u001b[43mexecution_options\u001b[49m\n\u001b[1;32m   2152\u001b[0m \u001b[43m    \u001b[49m\u001b[43m)\u001b[49m\n\u001b[1;32m   2154\u001b[0m \u001b[38;5;28;01mif\u001b[39;00m _scalar_result:\n\u001b[1;32m   2155\u001b[0m     \u001b[38;5;28;01mreturn\u001b[39;00m result\u001b[38;5;241m.\u001b[39mscalar()\n",
      "File \u001b[0;32m~/.conda/envs/sqlboy/lib/python3.10/site-packages/sqlalchemy/engine/base.py:1412\u001b[0m, in \u001b[0;36mConnection.execute\u001b[0;34m(self, statement, parameters, execution_options)\u001b[0m\n\u001b[1;32m   1410\u001b[0m     \u001b[38;5;28;01mraise\u001b[39;00m exc\u001b[38;5;241m.\u001b[39mObjectNotExecutableError(statement) \u001b[38;5;28;01mfrom\u001b[39;00m \u001b[38;5;21;01merr\u001b[39;00m\n\u001b[1;32m   1411\u001b[0m \u001b[38;5;28;01melse\u001b[39;00m:\n\u001b[0;32m-> 1412\u001b[0m     \u001b[38;5;28;01mreturn\u001b[39;00m \u001b[43mmeth\u001b[49m\u001b[43m(\u001b[49m\n\u001b[1;32m   1413\u001b[0m \u001b[43m        \u001b[49m\u001b[38;5;28;43mself\u001b[39;49m\u001b[43m,\u001b[49m\n\u001b[1;32m   1414\u001b[0m \u001b[43m        \u001b[49m\u001b[43mdistilled_parameters\u001b[49m\u001b[43m,\u001b[49m\n\u001b[1;32m   1415\u001b[0m \u001b[43m        \u001b[49m\u001b[43mexecution_options\u001b[49m\u001b[43m \u001b[49m\u001b[38;5;129;43;01mor\u001b[39;49;00m\u001b[43m \u001b[49m\u001b[43mNO_OPTIONS\u001b[49m\u001b[43m,\u001b[49m\n\u001b[1;32m   1416\u001b[0m \u001b[43m    \u001b[49m\u001b[43m)\u001b[49m\n",
      "File \u001b[0;32m~/.conda/envs/sqlboy/lib/python3.10/site-packages/sqlalchemy/sql/elements.py:483\u001b[0m, in \u001b[0;36mClauseElement._execute_on_connection\u001b[0;34m(self, connection, distilled_params, execution_options)\u001b[0m\n\u001b[1;32m    481\u001b[0m     \u001b[38;5;28;01mif\u001b[39;00m TYPE_CHECKING:\n\u001b[1;32m    482\u001b[0m         \u001b[38;5;28;01massert\u001b[39;00m \u001b[38;5;28misinstance\u001b[39m(\u001b[38;5;28mself\u001b[39m, Executable)\n\u001b[0;32m--> 483\u001b[0m     \u001b[38;5;28;01mreturn\u001b[39;00m \u001b[43mconnection\u001b[49m\u001b[38;5;241;43m.\u001b[39;49m\u001b[43m_execute_clauseelement\u001b[49m\u001b[43m(\u001b[49m\n\u001b[1;32m    484\u001b[0m \u001b[43m        \u001b[49m\u001b[38;5;28;43mself\u001b[39;49m\u001b[43m,\u001b[49m\u001b[43m \u001b[49m\u001b[43mdistilled_params\u001b[49m\u001b[43m,\u001b[49m\u001b[43m \u001b[49m\u001b[43mexecution_options\u001b[49m\n\u001b[1;32m    485\u001b[0m \u001b[43m    \u001b[49m\u001b[43m)\u001b[49m\n\u001b[1;32m    486\u001b[0m \u001b[38;5;28;01melse\u001b[39;00m:\n\u001b[1;32m    487\u001b[0m     \u001b[38;5;28;01mraise\u001b[39;00m exc\u001b[38;5;241m.\u001b[39mObjectNotExecutableError(\u001b[38;5;28mself\u001b[39m)\n",
      "File \u001b[0;32m~/.conda/envs/sqlboy/lib/python3.10/site-packages/sqlalchemy/engine/base.py:1635\u001b[0m, in \u001b[0;36mConnection._execute_clauseelement\u001b[0;34m(self, elem, distilled_parameters, execution_options)\u001b[0m\n\u001b[1;32m   1623\u001b[0m compiled_cache: Optional[CompiledCacheType] \u001b[38;5;241m=\u001b[39m execution_options\u001b[38;5;241m.\u001b[39mget(\n\u001b[1;32m   1624\u001b[0m     \u001b[38;5;124m\"\u001b[39m\u001b[38;5;124mcompiled_cache\u001b[39m\u001b[38;5;124m\"\u001b[39m, \u001b[38;5;28mself\u001b[39m\u001b[38;5;241m.\u001b[39mengine\u001b[38;5;241m.\u001b[39m_compiled_cache\n\u001b[1;32m   1625\u001b[0m )\n\u001b[1;32m   1627\u001b[0m compiled_sql, extracted_params, cache_hit \u001b[38;5;241m=\u001b[39m elem\u001b[38;5;241m.\u001b[39m_compile_w_cache(\n\u001b[1;32m   1628\u001b[0m     dialect\u001b[38;5;241m=\u001b[39mdialect,\n\u001b[1;32m   1629\u001b[0m     compiled_cache\u001b[38;5;241m=\u001b[39mcompiled_cache,\n\u001b[0;32m   (...)\u001b[0m\n\u001b[1;32m   1633\u001b[0m     linting\u001b[38;5;241m=\u001b[39m\u001b[38;5;28mself\u001b[39m\u001b[38;5;241m.\u001b[39mdialect\u001b[38;5;241m.\u001b[39mcompiler_linting \u001b[38;5;241m|\u001b[39m compiler\u001b[38;5;241m.\u001b[39mWARN_LINTING,\n\u001b[1;32m   1634\u001b[0m )\n\u001b[0;32m-> 1635\u001b[0m ret \u001b[38;5;241m=\u001b[39m \u001b[38;5;28;43mself\u001b[39;49m\u001b[38;5;241;43m.\u001b[39;49m\u001b[43m_execute_context\u001b[49m\u001b[43m(\u001b[49m\n\u001b[1;32m   1636\u001b[0m \u001b[43m    \u001b[49m\u001b[43mdialect\u001b[49m\u001b[43m,\u001b[49m\n\u001b[1;32m   1637\u001b[0m \u001b[43m    \u001b[49m\u001b[43mdialect\u001b[49m\u001b[38;5;241;43m.\u001b[39;49m\u001b[43mexecution_ctx_cls\u001b[49m\u001b[38;5;241;43m.\u001b[39;49m\u001b[43m_init_compiled\u001b[49m\u001b[43m,\u001b[49m\n\u001b[1;32m   1638\u001b[0m \u001b[43m    \u001b[49m\u001b[43mcompiled_sql\u001b[49m\u001b[43m,\u001b[49m\n\u001b[1;32m   1639\u001b[0m \u001b[43m    \u001b[49m\u001b[43mdistilled_parameters\u001b[49m\u001b[43m,\u001b[49m\n\u001b[1;32m   1640\u001b[0m \u001b[43m    \u001b[49m\u001b[43mexecution_options\u001b[49m\u001b[43m,\u001b[49m\n\u001b[1;32m   1641\u001b[0m \u001b[43m    \u001b[49m\u001b[43mcompiled_sql\u001b[49m\u001b[43m,\u001b[49m\n\u001b[1;32m   1642\u001b[0m \u001b[43m    \u001b[49m\u001b[43mdistilled_parameters\u001b[49m\u001b[43m,\u001b[49m\n\u001b[1;32m   1643\u001b[0m \u001b[43m    \u001b[49m\u001b[43melem\u001b[49m\u001b[43m,\u001b[49m\n\u001b[1;32m   1644\u001b[0m \u001b[43m    \u001b[49m\u001b[43mextracted_params\u001b[49m\u001b[43m,\u001b[49m\n\u001b[1;32m   1645\u001b[0m \u001b[43m    \u001b[49m\u001b[43mcache_hit\u001b[49m\u001b[38;5;241;43m=\u001b[39;49m\u001b[43mcache_hit\u001b[49m\u001b[43m,\u001b[49m\n\u001b[1;32m   1646\u001b[0m \u001b[43m\u001b[49m\u001b[43m)\u001b[49m\n\u001b[1;32m   1647\u001b[0m \u001b[38;5;28;01mif\u001b[39;00m has_events:\n\u001b[1;32m   1648\u001b[0m     \u001b[38;5;28mself\u001b[39m\u001b[38;5;241m.\u001b[39mdispatch\u001b[38;5;241m.\u001b[39mafter_execute(\n\u001b[1;32m   1649\u001b[0m         \u001b[38;5;28mself\u001b[39m,\n\u001b[1;32m   1650\u001b[0m         elem,\n\u001b[0;32m   (...)\u001b[0m\n\u001b[1;32m   1654\u001b[0m         ret,\n\u001b[1;32m   1655\u001b[0m     )\n",
      "File \u001b[0;32m~/.conda/envs/sqlboy/lib/python3.10/site-packages/sqlalchemy/engine/base.py:1844\u001b[0m, in \u001b[0;36mConnection._execute_context\u001b[0;34m(self, dialect, constructor, statement, parameters, execution_options, *args, **kw)\u001b[0m\n\u001b[1;32m   1839\u001b[0m     \u001b[38;5;28;01mreturn\u001b[39;00m \u001b[38;5;28mself\u001b[39m\u001b[38;5;241m.\u001b[39m_exec_insertmany_context(\n\u001b[1;32m   1840\u001b[0m         dialect,\n\u001b[1;32m   1841\u001b[0m         context,\n\u001b[1;32m   1842\u001b[0m     )\n\u001b[1;32m   1843\u001b[0m \u001b[38;5;28;01melse\u001b[39;00m:\n\u001b[0;32m-> 1844\u001b[0m     \u001b[38;5;28;01mreturn\u001b[39;00m \u001b[38;5;28;43mself\u001b[39;49m\u001b[38;5;241;43m.\u001b[39;49m\u001b[43m_exec_single_context\u001b[49m\u001b[43m(\u001b[49m\n\u001b[1;32m   1845\u001b[0m \u001b[43m        \u001b[49m\u001b[43mdialect\u001b[49m\u001b[43m,\u001b[49m\u001b[43m \u001b[49m\u001b[43mcontext\u001b[49m\u001b[43m,\u001b[49m\u001b[43m \u001b[49m\u001b[43mstatement\u001b[49m\u001b[43m,\u001b[49m\u001b[43m \u001b[49m\u001b[43mparameters\u001b[49m\n\u001b[1;32m   1846\u001b[0m \u001b[43m    \u001b[49m\u001b[43m)\u001b[49m\n",
      "File \u001b[0;32m~/.conda/envs/sqlboy/lib/python3.10/site-packages/sqlalchemy/engine/base.py:1984\u001b[0m, in \u001b[0;36mConnection._exec_single_context\u001b[0;34m(self, dialect, context, statement, parameters)\u001b[0m\n\u001b[1;32m   1981\u001b[0m     result \u001b[38;5;241m=\u001b[39m context\u001b[38;5;241m.\u001b[39m_setup_result_proxy()\n\u001b[1;32m   1983\u001b[0m \u001b[38;5;28;01mexcept\u001b[39;00m \u001b[38;5;167;01mBaseException\u001b[39;00m \u001b[38;5;28;01mas\u001b[39;00m e:\n\u001b[0;32m-> 1984\u001b[0m     \u001b[38;5;28;43mself\u001b[39;49m\u001b[38;5;241;43m.\u001b[39;49m\u001b[43m_handle_dbapi_exception\u001b[49m\u001b[43m(\u001b[49m\n\u001b[1;32m   1985\u001b[0m \u001b[43m        \u001b[49m\u001b[43me\u001b[49m\u001b[43m,\u001b[49m\u001b[43m \u001b[49m\u001b[43mstr_statement\u001b[49m\u001b[43m,\u001b[49m\u001b[43m \u001b[49m\u001b[43meffective_parameters\u001b[49m\u001b[43m,\u001b[49m\u001b[43m \u001b[49m\u001b[43mcursor\u001b[49m\u001b[43m,\u001b[49m\u001b[43m \u001b[49m\u001b[43mcontext\u001b[49m\n\u001b[1;32m   1986\u001b[0m \u001b[43m    \u001b[49m\u001b[43m)\u001b[49m\n\u001b[1;32m   1988\u001b[0m \u001b[38;5;28;01mreturn\u001b[39;00m result\n",
      "File \u001b[0;32m~/.conda/envs/sqlboy/lib/python3.10/site-packages/sqlalchemy/engine/base.py:2339\u001b[0m, in \u001b[0;36mConnection._handle_dbapi_exception\u001b[0;34m(self, e, statement, parameters, cursor, context, is_sub_exec)\u001b[0m\n\u001b[1;32m   2337\u001b[0m \u001b[38;5;28;01melif\u001b[39;00m should_wrap:\n\u001b[1;32m   2338\u001b[0m     \u001b[38;5;28;01massert\u001b[39;00m sqlalchemy_exception \u001b[38;5;129;01mis\u001b[39;00m \u001b[38;5;129;01mnot\u001b[39;00m \u001b[38;5;28;01mNone\u001b[39;00m\n\u001b[0;32m-> 2339\u001b[0m     \u001b[38;5;28;01mraise\u001b[39;00m sqlalchemy_exception\u001b[38;5;241m.\u001b[39mwith_traceback(exc_info[\u001b[38;5;241m2\u001b[39m]) \u001b[38;5;28;01mfrom\u001b[39;00m \u001b[38;5;21;01me\u001b[39;00m\n\u001b[1;32m   2340\u001b[0m \u001b[38;5;28;01melse\u001b[39;00m:\n\u001b[1;32m   2341\u001b[0m     \u001b[38;5;28;01massert\u001b[39;00m exc_info[\u001b[38;5;241m1\u001b[39m] \u001b[38;5;129;01mis\u001b[39;00m \u001b[38;5;129;01mnot\u001b[39;00m \u001b[38;5;28;01mNone\u001b[39;00m\n",
      "File \u001b[0;32m~/.conda/envs/sqlboy/lib/python3.10/site-packages/sqlalchemy/engine/base.py:1965\u001b[0m, in \u001b[0;36mConnection._exec_single_context\u001b[0;34m(self, dialect, context, statement, parameters)\u001b[0m\n\u001b[1;32m   1963\u001b[0m                 \u001b[38;5;28;01mbreak\u001b[39;00m\n\u001b[1;32m   1964\u001b[0m     \u001b[38;5;28;01mif\u001b[39;00m \u001b[38;5;129;01mnot\u001b[39;00m evt_handled:\n\u001b[0;32m-> 1965\u001b[0m         \u001b[38;5;28;43mself\u001b[39;49m\u001b[38;5;241;43m.\u001b[39;49m\u001b[43mdialect\u001b[49m\u001b[38;5;241;43m.\u001b[39;49m\u001b[43mdo_execute\u001b[49m\u001b[43m(\u001b[49m\n\u001b[1;32m   1966\u001b[0m \u001b[43m            \u001b[49m\u001b[43mcursor\u001b[49m\u001b[43m,\u001b[49m\u001b[43m \u001b[49m\u001b[43mstr_statement\u001b[49m\u001b[43m,\u001b[49m\u001b[43m \u001b[49m\u001b[43meffective_parameters\u001b[49m\u001b[43m,\u001b[49m\u001b[43m \u001b[49m\u001b[43mcontext\u001b[49m\n\u001b[1;32m   1967\u001b[0m \u001b[43m        \u001b[49m\u001b[43m)\u001b[49m\n\u001b[1;32m   1969\u001b[0m \u001b[38;5;28;01mif\u001b[39;00m \u001b[38;5;28mself\u001b[39m\u001b[38;5;241m.\u001b[39m_has_events \u001b[38;5;129;01mor\u001b[39;00m \u001b[38;5;28mself\u001b[39m\u001b[38;5;241m.\u001b[39mengine\u001b[38;5;241m.\u001b[39m_has_events:\n\u001b[1;32m   1970\u001b[0m     \u001b[38;5;28mself\u001b[39m\u001b[38;5;241m.\u001b[39mdispatch\u001b[38;5;241m.\u001b[39mafter_cursor_execute(\n\u001b[1;32m   1971\u001b[0m         \u001b[38;5;28mself\u001b[39m,\n\u001b[1;32m   1972\u001b[0m         cursor,\n\u001b[0;32m   (...)\u001b[0m\n\u001b[1;32m   1976\u001b[0m         context\u001b[38;5;241m.\u001b[39mexecutemany,\n\u001b[1;32m   1977\u001b[0m     )\n",
      "File \u001b[0;32m~/.conda/envs/sqlboy/lib/python3.10/site-packages/sqlalchemy/engine/default.py:921\u001b[0m, in \u001b[0;36mDefaultDialect.do_execute\u001b[0;34m(self, cursor, statement, parameters, context)\u001b[0m\n\u001b[1;32m    920\u001b[0m \u001b[38;5;28;01mdef\u001b[39;00m \u001b[38;5;21mdo_execute\u001b[39m(\u001b[38;5;28mself\u001b[39m, cursor, statement, parameters, context\u001b[38;5;241m=\u001b[39m\u001b[38;5;28;01mNone\u001b[39;00m):\n\u001b[0;32m--> 921\u001b[0m     \u001b[43mcursor\u001b[49m\u001b[38;5;241;43m.\u001b[39;49m\u001b[43mexecute\u001b[49m\u001b[43m(\u001b[49m\u001b[43mstatement\u001b[49m\u001b[43m,\u001b[49m\u001b[43m \u001b[49m\u001b[43mparameters\u001b[49m\u001b[43m)\u001b[49m\n",
      "\u001b[0;31mOperationalError\u001b[0m: (sqlite3.OperationalError) near \"this\": syntax error\n[SQL: SELECT new entries this round FROM DF]\n(Background on this error at: https://sqlalche.me/e/20/e3q8)"
     ]
    }
   ],
   "source": [
    "table_name = 'DF'\n",
    "E_sql = manager.format_sql(data[0]['predict'], table_name=table_name)\n",
    "print(E_sql)\n",
    "manager.run(E_sql)"
   ]
  },
  {
   "cell_type": "code",
   "execution_count": 3,
   "id": "e8f24a27",
   "metadata": {},
   "outputs": [],
   "source": [
    "def split_answer(answer: str):\n",
    "    specail_tokens = ['Output']\n",
    "    for s in specail_tokens:\n",
    "        if s in answer:\n",
    "            parts = answer.split(s)\n",
    "            break\n",
    "    summary = parts[0].split(':')[1].strip()\n",
    "    operations = parts[1].split(':')[1].strip()\n",
    "\n",
    "    return summary, operations"
   ]
  },
  {
   "cell_type": "code",
   "execution_count": 9,
   "id": "6c7ef464",
   "metadata": {},
   "outputs": [
    {
     "data": {
      "text/plain": [
       "{'id': 0,\n",
       " 'table': {'id': '2-1859269-1.html.csv',\n",
       "  'header': ['round',\n",
       "   'clubs remaining',\n",
       "   'clubs involved',\n",
       "   'winners from previous round',\n",
       "   'new entries this round',\n",
       "   'leagues entering at this round'],\n",
       "  'rows': [['first round',\n",
       "    '156',\n",
       "    '86',\n",
       "    'none',\n",
       "    '86',\n",
       "    'tff third league & turkish regional amateur league'],\n",
       "   ['second round',\n",
       "    '113',\n",
       "    '108',\n",
       "    '43',\n",
       "    '65',\n",
       "    'süper lig & tff first league & tff second league'],\n",
       "   ['third round', '59', '54', '54', 'none', 'none'],\n",
       "   ['fourth round', '32', '32', '27', '5', 'süper lig'],\n",
       "   ['fifth round', '16', '16', '16', 'none', 'none'],\n",
       "   ['group stage', '8', '8', '8', 'none', 'none'],\n",
       "   ['semi - finals', '4', '4', '4', 'none', 'none'],\n",
       "   ['final', '2', '2', '2', 'none', 'none']],\n",
       "  'caption': 'turkish cup'},\n",
       " 'statement': 'during the third round of the turkish cup , there be no new entry during that stage',\n",
       " 'label': 1,\n",
       " 'hardness': 'complex',\n",
       " 'small_test': False}"
      ]
     },
     "execution_count": 9,
     "metadata": {},
     "output_type": "execute_result"
    }
   ],
   "source": [
    "table_loader.dataset[0]"
   ]
  },
  {
   "cell_type": "code",
   "execution_count": 7,
   "id": "695c61b0",
   "metadata": {},
   "outputs": [
    {
     "name": "stdout",
     "output_type": "stream",
     "text": [
      "{'id': 1260, 'table': {'id': '2-14101606-2.html.csv', 'header': ['wind farm', 'scheduled', 'capacity (mw)', 'turbines', 'type', 'location'], 'rows': [['codling', 'unknown', '1100', '220', 'unknown', 'county wicklow'], ['carrowleagh', '2012', '36.8', '16', 'enercon e - 70 2.3', 'county cork'], ['dublin array', '2015', '364', '145', 'unknown', 'county dublin'], ['glenmore', '2009 summer', '30', '10', 'vestas v90', 'county clare'], ['glenough', '2010 winter', '32.5', '13', 'nordex n80 / n90', 'county tipperary'], ['gortahile', '2010 autumn', '20', '8', 'nordex n90', 'county laois'], ['grouse lodge', '2011 summer', '20', '8', 'nordex n90', 'county tipperary'], ['moneypoint', 'unknown', '22.5', '9', 'unknown', 'county clare'], ['mount callan', 'unknown', '90', '30', '3 mw', 'county clare'], ['oriel', '2013', '330', '55', 'unknown', 'county louth'], ['skerd rocks', 'unknown', '100', '20', '5 mw', 'county galway'], ['shragh', 'planning submitted oct 2011', '135', '45', 'enercon e82 3.0 mw', 'county clare'], ['garracummer', '2012', '42.5', '17', 'nordex n90 2.5 mw', 'county tipperary'], ['knockacummer', '2013', '87.5', '35', 'nordex n90 2.5 mw', 'county cork'], ['monaincha', '2013', '36', '15', 'nordex n117 2.4 mw', 'county tipperary'], ['gibbet hill', '2013', '15', '6', 'nordex n90 2.5 mw', 'county wexford'], ['glenough extension', '2013', '2.5', '1', 'nordex n90 2.5 mw', 'county tipperary']], 'caption': 'wind power in the republic of ireland'}, 'statement': 'the scheduled date for the farm with 17 turbine be 2012', 'label': 1, 'hardness': 'simple', 'small_test': False}\n",
      "a gamecube game loss the award in each of the first 3 year\n",
      "+--------+------------------------------------------+-------------------------------------------------+------------------------------------+----------------------------------------------+\n",
      "|   year | game                                     | genre                                           | platform (s)                       | developer (s)                                |\n",
      "|--------+------------------------------------------+-------------------------------------------------+------------------------------------+----------------------------------------------|\n",
      "|   2001 | super smash bros melee                   | fighting                                        | gamecube                           | hal laboratory , inc                         |\n",
      "|   2002 | metroid prime                            | ( first - person ) action - adventure           | gamecube                           | retro studios , nintendo                     |\n",
      "|   2003 | the legend of zelda : wind waker         | action - adventure                              | gamecube                           | nintendo ead software development group no 3 |\n",
      "|   2004 | halo 2                                   | ( first - person ) shooter                      | xbox                               | bungie                                       |\n",
      "|   2005 | resident evil 4                          | survival horror : ( third - person ) shooter    | gamecube                           | capcom production studio 4                   |\n",
      "|   2006 | the legend of zelda : twilight princess  | action - adventure                              | wii , gamecube                     | nintendo ead software development group no 3 |\n",
      "|   2007 | super mario galaxy                       | platformer                                      | wii                                | nintendo ead tokyo development group         |\n",
      "|   2008 | metal gear solid 4: guns of the patriots | stealth action                                  | playstation 3                      | kojima productions                           |\n",
      "|   2009 | uncharted 2: among thieves               | action - adventure : ( third - person ) shooter | playstation 3                      | naughty dog                                  |\n",
      "|   2010 | mass effect 2                            | action rpg : ( third - person ) shooter         | xbox 360 , windows , playstation 3 | bioware                                      |\n",
      "|   2011 | the legend of zelda : skyward sword      | action - adventure                              | wii                                | nintendo ead , monolith soft                 |\n",
      "|   2012 | borderlands 2                            | action rpg / first - person shooter             | xbox 360 , playstation 3 , windows | gearbox software                             |\n",
      "+--------+------------------------------------------+-------------------------------------------------+------------------------------------+----------------------------------------------+\n",
      "0\n"
     ]
    }
   ],
   "source": [
    "from executor import SQLManager\n",
    "from sqlalchemy import create_engine\n",
    "from data_loader import TableLoader, TableFormat\n",
    "table_loader = TableLoader(table_name='tabfact', split='validation', use_sample=True)\n",
    "print(table_loader.dataset[0])\n",
    "def show_table(data):\n",
    "    formatter = TableFormat(format='none', data=data)\n",
    "    print(data['statement'])\n",
    "    print(formatter.format_psql())\n",
    "    print(data['label'])\n",
    "    # sum, ope = split_answer(data[ind]['predict'])\n",
    "    # print(ope)\n",
    "    # print(manager.format_sql(ope, table_name='DF'))\n",
    "show_table(table_loader.dataset[6]) "
   ]
  },
  {
   "cell_type": "code",
   "execution_count": 16,
   "id": "74353336",
   "metadata": {},
   "outputs": [
    {
     "name": "stdout",
     "output_type": "stream",
     "text": [
      "there be new entry for the 1st 4 round of the turkish cup\n",
      "+---------------+-------------------+------------------+-------------------------------+--------------------------+----------------------------------------------------+\n",
      "| round         |   clubs remaining |   clubs involved | winners from previous round   | new entries this round   | leagues entering at this round                     |\n",
      "|---------------+-------------------+------------------+-------------------------------+--------------------------+----------------------------------------------------|\n",
      "| first round   |               156 |               86 | none                          | 86                       | tff third league & turkish regional amateur league |\n",
      "| second round  |               113 |              108 | 43                            | 65                       | süper lig & tff first league & tff second league   |\n",
      "| third round   |                59 |               54 | 54                            | none                     | none                                               |\n",
      "| fourth round  |                32 |               32 | 27                            | 5                        | süper lig                                          |\n",
      "| fifth round   |                16 |               16 | 16                            | none                     | none                                               |\n",
      "| group stage   |                 8 |                8 | 8                             | none                     | none                                               |\n",
      "| semi - finals |                 4 |                4 | 4                             | none                     | none                                               |\n",
      "| final         |                 2 |                2 | 2                             | none                     | none                                               |\n",
      "+---------------+-------------------+------------------+-------------------------------+--------------------------+----------------------------------------------------+\n",
      "0\n"
     ]
    }
   ],
   "source": [
    "show_table(5)"
   ]
  },
  {
   "cell_type": "code",
   "execution_count": null,
   "id": "a902d323",
   "metadata": {},
   "outputs": [],
   "source": []
  }
 ],
 "metadata": {
  "kernelspec": {
   "display_name": "sqlboy",
   "language": "python",
   "name": "python3"
  },
  "language_info": {
   "codemirror_mode": {
    "name": "ipython",
    "version": 3
   },
   "file_extension": ".py",
   "mimetype": "text/x-python",
   "name": "python",
   "nbconvert_exporter": "python",
   "pygments_lexer": "ipython3",
   "version": "3.10.12"
  }
 },
 "nbformat": 4,
 "nbformat_minor": 5
}
